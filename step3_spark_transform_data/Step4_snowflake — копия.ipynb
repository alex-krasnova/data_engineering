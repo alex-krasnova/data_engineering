{
 "cells": [
  {
   "cell_type": "code",
   "execution_count": 1,
   "id": "2b0c30c7",
   "metadata": {},
   "outputs": [],
   "source": [
    "import os\n",
    "import findspark\n",
    "import pandas as pd\n",
    "from pyspark.sql import SparkSession\n",
    "from pyspark.sql import functions as f\n",
    "from pyspark.sql.window import Window\n",
    "\n",
    "\n",
    "findspark.init()\n",
    "findspark.find()\n",
    "\n",
    "os.environ[\"PYSPARK_DRIVER_PYTHON\"] = \"python3\"\n",
    "os.environ[\"PYSPARK_SUBMIT_ARGS\"] = \"pyspark-shell\""
   ]
  },
  {
   "cell_type": "markdown",
   "id": "c58bfaec",
   "metadata": {},
   "source": [
    "# Start session\n",
    "http://localhost:4040"
   ]
  },
  {
   "cell_type": "code",
   "execution_count": 2,
   "id": "d3bd7517",
   "metadata": {},
   "outputs": [],
   "source": [
    "sp = SparkSession.builder.master('local[*]').config(\"spark.driver.memory\", \"15g\").appName('spark_test_tables').getOrCreate()"
   ]
  },
  {
   "cell_type": "markdown",
   "id": "b0a3fbfc",
   "metadata": {},
   "source": [
    "# Preprocessing\n",
    "Create spark datasets from all CSV and JSON files"
   ]
  },
  {
   "cell_type": "code",
   "execution_count": 3,
   "id": "ee080032",
   "metadata": {},
   "outputs": [],
   "source": [
    "# Open CSV file as spark dataframe\n",
    "def spark_csv_open(file):\n",
    "    path = \"data/\" + file\n",
    "    \n",
    "    # open file\n",
    "    df = sp.read.format(\"csv\") \\\n",
    "            .option(\"mode\", \"FAILFAST\") \\\n",
    "            .option(\"inferSchema\", \"true\") \\\n",
    "            .option(\"header\",\"true\") \\\n",
    "            .option(\"escapeQuotes\", \"true\") \\\n",
    "            .option(\"path\", path) \\\n",
    "            .load()\n",
    "    \n",
    "    # return spark dataframe\n",
    "    return df\n",
    "\n",
    "# Open JSON file with format {key:value} as pandas dataframe (key = 'country_code'), transform to spark dataframe\n",
    "def spark_json_open(file,colname):\n",
    "    path = \"data/\" + file\n",
    "    \n",
    "    # open file - pandas dataframe\n",
    "    sf = pd.read_json(path, typ='series')\n",
    "    df = pd.DataFrame({'country_code':sf.index, colname:sf.values})\n",
    "\n",
    "    # create spark dataframe from a pandas dataframe\n",
    "    df = sp.createDataFrame(df)\n",
    "    \n",
    "    # return spark dataframe\n",
    "    return df\n",
    "\n",
    "\n",
    "# Create spark datasets from files\n",
    "column1 = 'country_code'\n",
    "df_nobel_orig = spark_csv_open('nobel.csv')\n",
    "df_countries_orig = spark_csv_open('countries of the world.csv')\n",
    "df_cities_orig = spark_csv_open('worldcitiespop.csv')\n",
    "df_capitals_orig = spark_json_open('capital.json','capital_name')\n",
    "df_continents_orig = spark_json_open('continent.json','continent_code')\n",
    "df_currencies_orig = spark_json_open('currency.json','currency_code')\n",
    "df_iso3_orig = spark_json_open('iso3.json','iso3_code')\n",
    "df_names_orig = spark_json_open('names.json','country_name')\n",
    "df_phones_orig = spark_json_open('phone.json','phone_code')"
   ]
  },
  {
   "cell_type": "code",
   "execution_count": null,
   "id": "3ef6f6ac",
   "metadata": {},
   "outputs": [],
   "source": [
    "# Create a database in hive - hadoop\n",
    "\n",
    "# spark.sql(\"drop database if exists wh cascade\")\n",
    "# spark.sql(\"create database whdb\")\n",
    "\n",
    "# Create spark datasets from the staging database in hive\n",
    "# df_nobel_orig = spark.sql(\"select * from staging.nobel_laureates\")\n",
    "# df_countries_orig = spark.sql(\"select * from staging.countries_of_the_world\")\n",
    "# df_cities_orig = spark.sql(\"select * from staging.cities\")\n",
    "# df_capitals_orig = spark.sql(\"select * from staging.country_capital\")\n",
    "# df_continents_orig = spark.sql(\"select * from staging.country_continents\")\n",
    "# df_currencies_orig = spark.sql(\"select * from staging.country_currencies\")\n",
    "# df_iso3_orig = spark.sql(\"select * from staging.country_iso3\")\n",
    "# df_names_orig = spark.sql(\"select * from staging.country_names\")\n",
    "# df_phones_orig = spark.sql(\"select * from staging.country_phones\")"
   ]
  },
  {
   "cell_type": "markdown",
   "id": "11215059",
   "metadata": {},
   "source": [
    "# Analysis\n",
    "Check relationships between original datasets"
   ]
  },
  {
   "cell_type": "markdown",
   "id": "9721c884",
   "metadata": {},
   "source": [
    "## ISO 2 Country Codes\n",
    "Check names.json dataset"
   ]
  },
  {
   "cell_type": "code",
   "execution_count": 4,
   "id": "8a5a83e9",
   "metadata": {},
   "outputs": [
    {
     "name": "stdout",
     "output_type": "stream",
     "text": [
      "Count of records:  250\n",
      "Count of unique ISO Country Names:  250\n",
      "Count of unique ISO2:  250\n"
     ]
    }
   ],
   "source": [
    "print(\"Count of records: \", df_names_orig.count())\n",
    "print(\"Count of unique ISO Country Names: \", df_names_orig.select(\"country_name\").distinct().count())\n",
    "print(\"Count of unique ISO2: \", df_names_orig.select(\"country_code\").distinct().count())"
   ]
  },
  {
   "cell_type": "markdown",
   "id": "d153b876",
   "metadata": {},
   "source": [
    " Check that 1 country code contains no more than 1 country name and there are no duplicates in country codes."
   ]
  },
  {
   "cell_type": "code",
   "execution_count": 5,
   "id": "2cb6d409",
   "metadata": {},
   "outputs": [
    {
     "name": "stdout",
     "output_type": "stream",
     "text": [
      "+------------+-----+\n",
      "|country_code|count|\n",
      "+------------+-----+\n",
      "+------------+-----+\n",
      "\n"
     ]
    }
   ],
   "source": [
    "df_names_orig.groupBy(\"country_code\").count().where(\"count > 1\").show()"
   ]
  },
  {
   "cell_type": "markdown",
   "id": "40dc6cae",
   "metadata": {},
   "source": [
    "## Countries + Country Codes ISO2\n",
    "Analysis relationship between datasets."
   ]
  },
  {
   "cell_type": "markdown",
   "id": "328dca24",
   "metadata": {},
   "source": [
    "Join df_names_orig dataset with country codes from the names.json file to the df_countries_orig dataframe<br>\n",
    "Review countries without matches in the ISO2 codes dataset."
   ]
  },
  {
   "cell_type": "code",
   "execution_count": 6,
   "id": "742e9457",
   "metadata": {},
   "outputs": [
    {
     "name": "stdout",
     "output_type": "stream",
     "text": [
      "+---------------------+\n",
      "|Country              |\n",
      "+---------------------+\n",
      "|Congo, Repub. of the |\n",
      "|Korea, North         |\n",
      "|Congo, Dem. Rep.     |\n",
      "|Burma                |\n",
      "|Central African Rep. |\n",
      "|Macau                |\n",
      "|West Bank            |\n",
      "|Micronesia, Fed. St. |\n",
      "|Virgin Islands       |\n",
      "|N. Mariana Islands   |\n",
      "|Netherlands Antilles |\n",
      "|Gambia, The          |\n",
      "|Gaza Strip           |\n",
      "|Cote d'Ivoire        |\n",
      "|St Pierre & Miquelon |\n",
      "|British Virgin Is.   |\n",
      "|Korea, South         |\n",
      "|Bahamas, The         |\n",
      "|Trinidad & Tobago    |\n",
      "|Bosnia & Herzegovina |\n",
      "|Antigua & Barbuda    |\n",
      "|Sao Tome & Principe  |\n",
      "|Saint Kitts & Nevis  |\n",
      "|Turks & Caicos Is    |\n",
      "+---------------------+\n",
      "\n"
     ]
    }
   ],
   "source": [
    "join_expr = f.trim(df_names_orig[\"country_name\"]) == f.trim(df_countries_orig[\"Country\"])\n",
    "df_tmp = df_countries_orig.join(df_names_orig, join_expr, \"left_anti\").select(\"Country\")\n",
    "\n",
    "df_tmp.show(100,truncate=False)"
   ]
  },
  {
   "cell_type": "markdown",
   "id": "55241117",
   "metadata": {},
   "source": [
    "Check the ISO2 codes for all these countries and find them in the Country Codes dataset with different country names.<br>\n",
    "There are issues with the following codes:<br>\n",
    "Netherlands Antilles has 3 country codes = BQ (Bonaire, Saint Eustatius and Saba), CW (Curacao) and SX (Sint Maarten).<br>\n",
    "West Bank and Gaza Strip have the same country code = PS (Palestinian Territory)<br>\n",
    "This means that the relationship Countries - Country Codes is \"M-to-N\" and 3 entities should be created: \"Countries\", \"Country Codes\", \"County Codes in Countries\"."
   ]
  },
  {
   "cell_type": "markdown",
   "id": "2da899a3",
   "metadata": {},
   "source": [
    "Update the Country Names from the Countries dataset with the country names from the ISO2 dataset.<br>\n",
    "For example, if Country Name = 'Korea, South', the name from the ISO2 dataframe =  'South Korea'"
   ]
  },
  {
   "cell_type": "code",
   "execution_count": 7,
   "id": "ce4683b7",
   "metadata": {},
   "outputs": [],
   "source": [
    "df_countries_orig = df_countries_orig.withColumn(\"Country\", \\\n",
    "                                   f.when(f.trim(f.col(\"Country\")) == 'Congo, Repub. of the', 'Republic of the Congo') \\\n",
    "                                    .when(f.trim(f.col(\"Country\")) == 'Korea, North', 'North Korea') \\\n",
    "                                    .when(f.trim(f.col(\"Country\")) == 'Congo, Dem. Rep.', 'Democratic Republic of the Congo') \\\n",
    "                                    .when(f.trim(f.col(\"Country\")) == 'Burma', 'Myanmar') \\\n",
    "                                    .when(f.trim(f.col(\"Country\")) == 'Central African Rep.', 'Central African Republic') \\\n",
    "                                    .when(f.trim(f.col(\"Country\")) == 'Macau', 'Macao') \\\n",
    "                                    .when(f.trim(f.col(\"Country\")) == 'Micronesia, Fed. St.', 'Micronesia') \\\n",
    "                                    .when(f.trim(f.col(\"Country\")) == 'Virgin Islands', 'U.S. Virgin Islands') \\\n",
    "                                    .when(f.trim(f.col(\"Country\")) == 'N. Mariana Islands', 'Northern Mariana Islands') \\\n",
    "                                    .when(f.trim(f.col(\"Country\")) == 'Gambia, The', 'Gambia') \\\n",
    "                                    .when(f.trim(f.col(\"Country\")) == 'Cote d\\'Ivoire', 'Ivory Coast') \\\n",
    "                                    .when(f.trim(f.col(\"Country\")) == 'St Pierre & Miquelon', 'Saint Pierre and Miquelon') \\\n",
    "                                    .when(f.trim(f.col(\"Country\")) == 'British Virgin Is.', 'British Virgin Islands') \\\n",
    "                                    .when(f.trim(f.col(\"Country\")) == 'Korea, South', 'South Korea') \\\n",
    "                                    .when(f.trim(f.col(\"Country\")) == 'Bahamas, The', 'Bahamas') \\\n",
    "                                    .when(f.trim(f.col(\"Country\")) == 'Trinidad & Tobago', 'Trinidad and Tobago') \\\n",
    "                                    .when(f.trim(f.col(\"Country\")) == 'Bosnia & Herzegovina', 'Bosnia and Herzegovina') \\\n",
    "                                    .when(f.trim(f.col(\"Country\")) == 'Antigua & Barbuda', 'Antigua and Barbuda') \\\n",
    "                                    .when(f.trim(f.col(\"Country\")) == 'Sao Tome & Principe', 'Sao Tome and Principe') \\\n",
    "                                    .when(f.trim(f.col(\"Country\")) == 'Saint Kitts & Nevis', 'Saint Kitts and Nevis') \\\n",
    "                                    .when(f.trim(f.col(\"Country\")) == 'Turks & Caicos Is', 'Turks and Caicos Islands') \\\n",
    "                                    .otherwise(df_countries_orig[\"Country\"]))"
   ]
  },
  {
   "cell_type": "markdown",
   "id": "1a42c4fb",
   "metadata": {},
   "source": [
    "Check that there are records in the Country Codes dataset that are not included in the Countries dataset.<br>\n",
    "Exclude countries shown below (Korea, Congo, etc.)"
   ]
  },
  {
   "cell_type": "code",
   "execution_count": 8,
   "id": "b69092e2",
   "metadata": {},
   "outputs": [
    {
     "name": "stdout",
     "output_type": "stream",
     "text": [
      "+--------------------------------------------+------------+\n",
      "|country_name                                |country_code|\n",
      "+--------------------------------------------+------------+\n",
      "|Saint Barthelemy                            |BL          |\n",
      "|Bouvet Island                               |BV          |\n",
      "|Tokelau                                     |TK          |\n",
      "|South Georgia and the South Sandwich Islands|GS          |\n",
      "|Heard Island and McDonald Islands           |HM          |\n",
      "|Svalbard and Jan Mayen                      |SJ          |\n",
      "|Pitcairn                                    |PN          |\n",
      "|Montenegro                                  |ME          |\n",
      "|Saint Martin                                |MF          |\n",
      "|British Indian Ocean Territory              |IO          |\n",
      "|Falkland Islands                            |FK          |\n",
      "|Norfolk Island                              |NF          |\n",
      "|Niue                                        |NU          |\n",
      "|Kosovo                                      |XK          |\n",
      "|Cocos Islands                               |CC          |\n",
      "|Christmas Island                            |CX          |\n",
      "|South Sudan                                 |SS          |\n",
      "|United States Minor Outlying Islands        |UM          |\n",
      "|French Southern Territories                 |TF          |\n",
      "|Vatican                                     |VA          |\n",
      "|Antarctica                                  |AQ          |\n",
      "|Aland Islands                               |AX          |\n",
      "+--------------------------------------------+------------+\n",
      "\n"
     ]
    }
   ],
   "source": [
    "join_expr = f.trim(df_countries_orig[\"Country\"]) == f.trim(df_names_orig[\"country_name\"])\n",
    "df_tmp = df_names_orig.join(df_countries_orig, join_expr, \"left_anti\") \\\n",
    "                        .select(\"country_name\", \"country_code\") \\\n",
    "                        .where(\"country_code not in ('BQ','CW','SX','PS')\")\n",
    "\n",
    "df_tmp.show(100, truncate=False)"
   ]
  },
  {
   "cell_type": "markdown",
   "id": "bf5e2194",
   "metadata": {},
   "source": [
    "There are many country codes without information in the Countries dataset.<br>\n",
    "Information about these countries and the codes below should also be loaded into the Countries dataset."
   ]
  },
  {
   "cell_type": "code",
   "execution_count": 9,
   "id": "ffc69646",
   "metadata": {},
   "outputs": [],
   "source": [
    "#save the list of missing countries to a temp dataset\n",
    "df_tmp_mis_cntr = df_tmp.select(\"country_name\", \"country_code\")"
   ]
  },
  {
   "cell_type": "markdown",
   "id": "ae2d8b4c",
   "metadata": {},
   "source": [
    "## Countries - Nobel Laureates\n",
    "Review countries from the Nobel Laureates dataset that are not in the Countries and ISO2 datasets.<br>\n",
    "Columns in the Nobel Laureates dataset: \"Birth Country\", \"Death Country\", \"Organization Country\""
   ]
  },
  {
   "cell_type": "code",
   "execution_count": 10,
   "id": "521dcb1d",
   "metadata": {},
   "outputs": [
    {
     "name": "stdout",
     "output_type": "stream",
     "text": [
      "+---------------------------------------------+\n",
      "|country_name                                 |\n",
      "+---------------------------------------------+\n",
      "|British Protectorate of Palestine (Israel)   |\n",
      "|Germany (Poland)                             |\n",
      "|W&uuml;rttemberg (Germany)                   |\n",
      "|Czechoslovakia (Czech Republic)              |\n",
      "|Russian Empire (Latvia)                      |\n",
      "|Trinidad                                     |\n",
      "|Austria-Hungary (Poland)                     |\n",
      "|Schleswig (Germany)                          |\n",
      "|Russian Empire (Poland)                      |\n",
      "|British India (India)                        |\n",
      "|Germany (France)                             |\n",
      "|British West Indies (Saint Lucia)            |\n",
      "|Tuscany (Italy)                              |\n",
      "|Bosnia (Bosnia and Herzegovina)              |\n",
      "|India (Pakistan)                             |\n",
      "|Poland (Ukraine)                             |\n",
      "|Austria-Hungary (Ukraine)                    |\n",
      "|Russian Empire (Lithuania)                   |\n",
      "|Austria-Hungary (Slovenia)                   |\n",
      "|Austria-Hungary (Hungary)                    |\n",
      "|German-occupied Poland (Poland)              |\n",
      "|Austria-Hungary (Bosnia and Herzegovina)     |\n",
      "|Faroe Islands (Denmark)                      |\n",
      "|Austrian Empire (Czech Republic)             |\n",
      "|Korea (South Korea)                          |\n",
      "|French Algeria (Algeria)                     |\n",
      "|Ottoman Empire (Turkey)                      |\n",
      "|West Germany (Germany)                       |\n",
      "|Austrian Empire (Italy)                      |\n",
      "|Guadeloupe Island                            |\n",
      "|Prussia (Germany)                            |\n",
      "|Russian Empire (Ukraine)                     |\n",
      "|British Mandate of Palestine (Israel)        |\n",
      "|Mecklenburg (Germany)                        |\n",
      "|Persia (Iran)                                |\n",
      "|Poland (Lithuania)                           |\n",
      "|Crete (Greece)                               |\n",
      "|Gold Coast (Ghana)                           |\n",
      "|Tibet (People's Republic of China)           |\n",
      "|Austria-Hungary (Czech Republic)             |\n",
      "|Prussia (Poland)                             |\n",
      "|United States of America                     |\n",
      "|Russian Empire (Belarus)                     |\n",
      "|Russian Empire (Azerbaijan)                  |\n",
      "|Union of Soviet Socialist Republics (Belarus)|\n",
      "|Southern Rhodesia (Zimbabwe)                 |\n",
      "|Burma (Myanmar)                              |\n",
      "|Russian Empire (Russia)                      |\n",
      "|Hesse-Kassel (Germany)                       |\n",
      "|Austria-Hungary (Croatia)                    |\n",
      "|Free City of Danzig (Poland)                 |\n",
      "|Prussia (Russia)                             |\n",
      "|British India (Bangladesh)                   |\n",
      "|Ottoman Empire (Republic of Macedonia)       |\n",
      "|Austria-Hungary (Austria)                    |\n",
      "|East Friesland (Germany)                     |\n",
      "|Hungary (Slovakia)                           |\n",
      "|Union of Soviet Socialist Republics (Russia) |\n",
      "|Java, Dutch East Indies (Indonesia)          |\n",
      "|Poland (Belarus)                             |\n",
      "|Russian Empire (Finland)                     |\n",
      "|Scotland                                     |\n",
      "|Northern Ireland                             |\n",
      "|Germany (Russia)                             |\n",
      "|Bavaria (Germany)                            |\n",
      "|Austrian Empire (Austria)                    |\n",
      "|Union of Soviet Socialist Republics          |\n",
      "|Northern Rhodesia (Zambia)                   |\n",
      "|Czechoslovakia                               |\n",
      "|Yugoslavia (Serbia)                          |\n",
      "|East Germany                                 |\n",
      "|Federal Republic of Germany                  |\n",
      "|Alsace (then Germany, now France)            |\n",
      "+---------------------------------------------+\n",
      "\n"
     ]
    }
   ],
   "source": [
    "# Records without Country names for Birth Country\n",
    "join_expr = f.trim(df_countries_orig[\"Country\"]) == f.trim(df_nobel_orig[\"Birth Country\"])\n",
    "df_tmp = df_nobel_orig.join(df_countries_orig, join_expr, \"left_anti\") \\\n",
    "                        .withColumnRenamed(\"Birth Country\", \"country_name\") \\\n",
    "                        .where(\"country_name is not null\") \\\n",
    "                        .select(\"country_name\") \\\n",
    "                        .distinct()\n",
    "\n",
    "# Records without Country names for Death Country\n",
    "join_expr = f.trim(df_countries_orig[\"Country\"]) == f.trim(df_nobel_orig[\"Death Country\"])\n",
    "df_tmp2 = df_nobel_orig.join(df_countries_orig, join_expr, \"left_anti\") \\\n",
    "                        .withColumnRenamed(\"Death Country\", \"country_name\") \\\n",
    "                        .where(\"country_name is not null\") \\\n",
    "                        .select(\"country_name\") \\\n",
    "                        .distinct()\n",
    "\n",
    "# Records without Country names for Organization Country\n",
    "join_expr = f.trim(df_countries_orig[\"Country\"]) == f.trim(df_nobel_orig[\"Organization Country\"])\n",
    "df_tmp3 = df_nobel_orig.join(df_countries_orig, join_expr, \"left_anti\") \\\n",
    "                        .withColumnRenamed(\"Organization Country\", \"country_name\") \\\n",
    "                        .where(\"country_name is not null\") \\\n",
    "                        .select(\"country_name\") \\\n",
    "                        .distinct()\n",
    "\n",
    "# Union 3 dataframes with missing columns, select unique values, save result to the temp dataframe\n",
    "df_tmp_mis_hist_cntr = df_tmp.union(df_tmp2).union(df_tmp3).distinct()\n",
    "\n",
    "# Check results\n",
    "df_tmp_mis_hist_cntr.show(100,truncate=False)"
   ]
  },
  {
   "cell_type": "markdown",
   "id": "a97a535f",
   "metadata": {},
   "source": [
    "The following countries exist on this list, and the names can be fixed in the original Nobel Laureates dataset:<br>\n",
    "- \"United States of America\" is \"United States\"\n",
    "- \"Guadeloupe Island\" is \"Guadeloupe\"\n",
    "- \"Germany (Poland)\", \"Germany (France)\", \"Germany (Russia)\" should be fixed to \"Germany\"\n",
    "- \"Poland (Ukraine)\", \"Poland (Lithuania)\", \"Poland (Belarus)\" should be fixed to \"Poland\"\n",
    "- \"Hungary (Slovakia)\" should be fixed to \"Hungary\"\n",
    "- \"India (Pakistan)\" should be fixed to \"India\"<br>\n",
    "Fix the name \"W&uuml;rttemberg (Germany)\" to \"Württemberg (Germany)\"<br>\n",
    "Update the Nobel Laureates original dataset."
   ]
  },
  {
   "cell_type": "code",
   "execution_count": 11,
   "id": "a0891bd2",
   "metadata": {},
   "outputs": [],
   "source": [
    "df_nobel_orig = df_nobel_orig.withColumn(\"Birth Country\",  \n",
    "         f.when(f.col(\"Birth Country\") == 'United States of America', 'United States') \\\n",
    "          .when(f.col(\"Birth Country\") == 'Guadeloupe Island', 'Guadeloupe') \\\n",
    "          .when((f.col(\"Birth Country\") == 'Germany (Poland)') | (f.col(\"Birth Country\") == 'Germany (France)') \\\n",
    "                | (f.col(\"Birth Country\") == 'Germany (Russia)'), 'Germany') \\\n",
    "          .when((f.col(\"Birth Country\") == 'Poland (Ukraine)') | (f.col(\"Birth Country\") == 'Poland (Lithuania)') \\\n",
    "                | (f.col(\"Birth Country\") == 'Poland (Belarus)'), 'Poland') \\\n",
    "          .when(f.col(\"Birth Country\") == 'Hungary (Slovakia)', 'Hungary') \\\n",
    "          .when(f.col(\"Birth Country\") == 'India (Pakistan)', 'India') \\\n",
    "          .when(f.col(\"Birth Country\") == 'W&uuml;rttemberg (Germany)', \\\n",
    "                'Württemberg (Germany)') \\\n",
    "          .otherwise(df_nobel_orig[\"Birth Country\"])) \\\n",
    "     .withColumn(\"Death Country\",  \n",
    "         f.when(f.col(\"Death Country\") == 'United States of America', 'United States') \\\n",
    "          .when(f.col(\"Death Country\") == 'Guadeloupe Island', 'Guadeloupe') \\\n",
    "          .when((f.col(\"Death Country\") == 'Germany (Poland)') | (f.col(\"Death Country\") == 'Germany (France)') \\\n",
    "                | (f.col(\"Death Country\") == 'Germany (Russia)'), 'Germany') \\\n",
    "          .when((f.col(\"Death Country\") == 'Poland (Ukraine)') | (f.col(\"Death Country\") == 'Poland (Lithuania)') \\\n",
    "                | (f.col(\"Death Country\") == 'Poland (Belarus)'), 'Poland') \\\n",
    "          .when(f.col(\"Death Country\") == 'Hungary (Slovakia)', 'Hungary') \\\n",
    "          .when(f.col(\"Death Country\") == 'India (Pakistan)', 'India') \\\n",
    "          .otherwise(df_nobel_orig[\"Death Country\"])) \\\n",
    "     .withColumn(\"Organization Country\",  \n",
    "         f.when(f.col(\"Organization Country\") == 'United States of America', 'United States') \\\n",
    "          .when(f.col(\"Organization Country\") == 'Guadeloupe Island', 'Guadeloupe') \\\n",
    "          .when((f.col(\"Organization Country\") == 'Germany (Poland)') | (f.col(\"Organization Country\") == 'Germany (France)') \\\n",
    "                | (f.col(\"Organization Country\") == 'Germany (Russia)'), 'Germany') \\\n",
    "          .when((f.col(\"Organization Country\") == 'Poland (Ukraine)') | (f.col(\"Organization Country\") == 'Poland (Lithuania)') \\\n",
    "                | (f.col(\"Organization Country\") == 'Poland (Belarus)'), 'Poland') \\\n",
    "          .when(f.col(\"Organization Country\") == 'Hungary (Slovakia)', 'Hungary') \\\n",
    "          .when(f.col(\"Organization Country\") == 'India (Pakistan)', 'India') \\\n",
    "          .otherwise(df_nobel_orig[\"Organization Country\"]))"
   ]
  },
  {
   "cell_type": "markdown",
   "id": "4433eaa3",
   "metadata": {},
   "source": [
    "Delete records with updated names from df_tmp_mis_hist_cntr, update \"Württemberg\""
   ]
  },
  {
   "cell_type": "code",
   "execution_count": 12,
   "id": "40f7fa2e",
   "metadata": {},
   "outputs": [],
   "source": [
    "df_tmp_mis_hist_cntr = df_tmp_mis_hist_cntr.where(\"country_name not in ('United States of America', 'Guadeloupe Island', \\\n",
    "                                                 'Germany (Poland)', 'Germany (France)', 'Germany (Russia)', \\\n",
    "                                                 'Poland (Ukraine)', 'Poland (Lithuania)', 'Poland (Belarus)', \\\n",
    "                                                 'Hungary (Slovakia)', 'India (Pakistan)')\") \\\n",
    "                            .withColumn(\"country_name\", \n",
    "                                f.when(f.col(\"country_name\") == 'W&uuml;rttemberg (Germany)', 'Württemberg (Germany)') \\\n",
    "                                 .otherwise(df_tmp_mis_hist_cntr[\"country_name\"]))"
   ]
  },
  {
   "cell_type": "markdown",
   "id": "c40fdf92",
   "metadata": {},
   "source": [
    "## Cities - Nobel Laureates\n",
    "Review countries from the Nobel Laureates dataset that are not in the Cities dataset.<br>\n",
    "Columns in the dataset of Nobel Laureates: \"Birth City\", \"Death City\", \"Organization City\""
   ]
  },
  {
   "cell_type": "code",
   "execution_count": 13,
   "id": "f42e287c",
   "metadata": {},
   "outputs": [
    {
     "name": "stdout",
     "output_type": "stream",
     "text": [
      "Nobel Prizes - US city format:\n",
      "+------------+-------------+\n",
      "|  birth_city|birth_country|\n",
      "+------------+-------------+\n",
      "| Clinton, NY|United States|\n",
      "|New York, NY|United States|\n",
      "+------------+-------------+\n",
      "\n",
      "Cities - US city format:\n",
      "+-------+--------+----------+------+----------+------------------+-----------+\n",
      "|Country|    City|AccentCity|Region|Population|          Latitude|  Longitude|\n",
      "+-------+--------+----------+------+----------+------------------+-----------+\n",
      "|     us|new york|  New York|    NY| 8107916.0|        40.7141667|-74.0063889|\n",
      "|     us| clinton|   Clinton|    NY|      null|43.048333299999996|-75.3788889|\n",
      "+-------+--------+----------+------+----------+------------------+-----------+\n",
      "\n"
     ]
    }
   ],
   "source": [
    "# City columns in the Nobel Laureate dataframe contain a state for the US country\n",
    "\n",
    "print(\"Nobel Prizes - US city format:\")\n",
    "df_nobel_orig.withColumnRenamed(\"Birth City\", \"birth_city\") \\\n",
    "             .withColumnRenamed(\"Birth Country\", \"birth_country\") \\\n",
    "             .where(\"birth_city like '%New York%' or birth_city like '%Clinton%'\") \\\n",
    "             .select(\"birth_city\", \"birth_country\") \\\n",
    "             .distinct().show()\n",
    "\n",
    "print(\"Cities - US city format:\")\n",
    "df_cities_orig.where(\"(AccentCity = 'New York' or AccentCity = 'Clinton') and Country = 'us' and Region = 'NY'\") \\\n",
    "              .distinct().show()"
   ]
  },
  {
   "cell_type": "markdown",
   "id": "cdbc0fb8",
   "metadata": {},
   "source": [
    "The Nobel dataset has the following format for US cities: \"city, STATE\". The Cities dataset contains only the City name in the AccentCity column and the state name in the Region column.<br>\n",
    "Create a new column in the format \"AccentCity, Region\" for US cities and \"AccentCity\" for other cities in the Cities dataset."
   ]
  },
  {
   "cell_type": "code",
   "execution_count": 14,
   "id": "d960f052",
   "metadata": {},
   "outputs": [],
   "source": [
    "df_cities_orig = df_cities_orig.withColumn(\"CityUpd\", \\\n",
    "                              f.when(f.col(\"Country\") == 'us', f.concat_ws(', ','AccentCity','Region')) \\\n",
    "                               .otherwise(f.col(\"AccentCity\")))"
   ]
  },
  {
   "cell_type": "markdown",
   "id": "01094c84",
   "metadata": {},
   "source": [
    "Review missing city names in the Cities dataset"
   ]
  },
  {
   "cell_type": "code",
   "execution_count": 15,
   "id": "e029cbb0",
   "metadata": {},
   "outputs": [],
   "source": [
    "# Records without City names for Birth Ciry\n",
    "join_expr = f.trim(df_cities_orig[\"CityUpd\"]) == f.trim(df_nobel_orig[\"Birth City\"])\n",
    "df_tmp = df_nobel_orig.join(df_cities_orig, join_expr, \"left_anti\") \\\n",
    "                        .withColumnRenamed(\"Birth City\", \"mis_city_name\") \\\n",
    "                        .where(\"mis_city_name is not null\") \\\n",
    "                        .select(\"mis_city_name\") \\\n",
    "                        .distinct()\n",
    "\n",
    "# Records without City names for Death Ciry\n",
    "join_expr = f.trim(df_cities_orig[\"CityUpd\"]) == f.trim(df_nobel_orig[\"Death City\"])\n",
    "df_tmp2 = df_nobel_orig.join(df_cities_orig, join_expr, \"left_anti\") \\\n",
    "                        .withColumnRenamed(\"Death City\", \"mis_city_name\") \\\n",
    "                        .where(\"mis_city_name is not null\") \\\n",
    "                        .select(\"mis_city_name\") \\\n",
    "                        .distinct()\n",
    "\n",
    "# Records without City names for Organization Ciry\n",
    "join_expr = f.trim(df_cities_orig[\"CityUpd\"]) == f.trim(df_nobel_orig[\"Organization City\"])\n",
    "df_tmp3 = df_nobel_orig.join(df_cities_orig, join_expr, \"left_anti\") \\\n",
    "                        .withColumnRenamed(\"Organization City\", \"mis_city_name\") \\\n",
    "                        .where(\"mis_city_name is not null\") \\\n",
    "                        .select(\"mis_city_name\") \\\n",
    "                        .distinct()\n",
    "\n",
    "# Union 3 dataframes with missing columns, select unique values, save result to the temp dataframe\n",
    "df_tmp_mis_cities = df_tmp.union(df_tmp2).union(df_tmp3).distinct()"
   ]
  },
  {
   "cell_type": "code",
   "execution_count": 16,
   "id": "d94f9241",
   "metadata": {},
   "outputs": [
    {
     "name": "stdout",
     "output_type": "stream",
     "text": [
      "+--------------------------------+\n",
      "|mis_city_name                   |\n",
      "+--------------------------------+\n",
      "|Dabrovica                       |\n",
      "|Langford Grove, Maldon, Essex   |\n",
      "|Danzig (Gdansk)                 |\n",
      "|Nam Ha province                 |\n",
      "|Lethbridge, Alberta             |\n",
      "|Nizhny Tagil                    |\n",
      "|Champaign-Urbana, IL            |\n",
      "|Mürzzuschlag                    |\n",
      "|Zelvas                          |\n",
      "|Yamanashi Prefecture            |\n",
      "|Nitzkydorf, Banat               |\n",
      "|Zhejiang Ningbo                 |\n",
      "|Ta'izz                          |\n",
      "|Sorau (Zory)                    |\n",
      "|Waltersdorf (Niegoslawice)      |\n",
      "|Priluka (Nova Pryluka)          |\n",
      "|Corteno                         |\n",
      "|Neisse (Nysa)                   |\n",
      "|Gjesdal                         |\n",
      "|Fleräng                         |\n",
      "|Strehlen (Strzelin)             |\n",
      "|Val di Castello                 |\n",
      "|Gaffken (Parusnoye)             |\n",
      "|Toyama City                     |\n",
      "|Uskup (Skopje)                  |\n",
      "|Clausthal (Clausthal-Zellerfeld)|\n",
      "|Hofei, Anhwei                   |\n",
      "|Mexico City                     |\n",
      "|Rangoon (Yangon)                |\n",
      "|Iria Flavia                     |\n",
      "|Dippenhall                      |\n",
      "|Königshütte (Chorzów)           |\n",
      "|Kristiania (Oslo)               |\n",
      "|Kvikne                          |\n",
      "|Aldea Chimel                    |\n",
      "|'s Graveland                    |\n",
      "|Jamaica Plain, MA (Boston)      |\n",
      "|Nuoro, Sardinia                 |\n",
      "|Kingston, ON                    |\n",
      "|Vitebsk, Belorussia             |\n",
      "|Ivano-Frankivsk                 |\n",
      "|Skedsmo                         |\n",
      "|Wailacama                       |\n",
      "|Frankfurt-on-the-Main           |\n",
      "|Hobart, Tasmania                |\n",
      "|Laibach (Ljubljana)             |\n",
      "|Goldschmieden, near Breslau     |\n",
      "|Olympus, TN                     |\n",
      "|&#346;eteniai                   |\n",
      "|St. Louis, MO                   |\n",
      "|Timmins, ON                     |\n",
      "|the Hague                       |\n",
      "|Petilla de Aragó                |\n",
      "|Lennep (Remscheid)              |\n",
      "|Medicine Hat, Alberta           |\n",
      "|Taktser                         |\n",
      "|Buczacz (Buchach)               |\n",
      "|Kattowitz (Katowice)            |\n",
      "|Victoria, BC                    |\n",
      "|San José, CA                    |\n",
      "|Rendcombe                       |\n",
      "|Kharkov (Kharkiv)               |\n",
      "|Glencorse                       |\n",
      "|Casteldàwson                    |\n",
      "|St. Paul, MN                    |\n",
      "|Kalgoorlie                      |\n",
      "|Chidambaram, Tamil Nadu         |\n",
      "|Kingston Hill                   |\n",
      "|St. Columb Minor                |\n",
      "|Higashimatsuyama                |\n",
      "|Strelno (Strzelno)              |\n",
      "|Viipuri (Vyborg)                |\n",
      "|Gränichen                       |\n",
      "|Hoechst                         |\n",
      "|St. Petersburg                  |\n",
      "|Agrigento, Sicily               |\n",
      "|Jhang Maghi&#257;na             |\n",
      "|Zloczov                         |\n",
      "|Grand Valley, CO                |\n",
      "|Strassburg (Strasbourg)         |\n",
      "|Tananarive (Antananarivo)       |\n",
      "|Reykjavik                       |\n",
      "|Koenigsberg (Kaliningrad)       |\n",
      "|Wilno (Vilnius)                 |\n",
      "|Breslau (Wroclaw)               |\n",
      "|Vishneva                        |\n",
      "|Smyrna (Izmir)                  |\n",
      "|Vicuña                          |\n",
      "|Cheetham Hill, near Manchester  |\n",
      "|Leningrad (Saint Petersburg)    |\n",
      "|Leggiuno-Sangiano               |\n",
      "|Amherst, NS                     |\n",
      "|Hansdorf (Lawice)               |\n",
      "|Mit Abu al-Kawm                 |\n",
      "|Windsor, ON                     |\n",
      "|Bnin (Kórnik)                   |\n",
      "|Pressburg (Bratislava)          |\n",
      "|Bremerhaven-Lehe                |\n",
      "|Mount Verno, NY                 |\n",
      "|Lochfield                       |\n",
      "|Kibbutz Sde-Nahum               |\n",
      "|Rufford, near Chesterfield      |\n",
      "|Shipston-on-Stour               |\n",
      "|Wickenberg, AZ                  |\n",
      "|Övralid                         |\n",
      "|Palma, Majorca                  |\n",
      "|West Berlin                     |\n",
      "|Agnetendorf (Jagniatków)        |\n",
      "|Perranarworthal                 |\n",
      "|Waterford, CT                   |\n",
      "|Penrhyndeudraeth                |\n",
      "|Hamilton, Ontario               |\n",
      "|Bornheim-Merten                 |\n",
      "|Newfoundland                    |\n",
      "|Kraków                          |\n",
      "|New Jersey, NJ                  |\n",
      "|Presqu'île-de-Giens             |\n",
      "|Putney Heath                    |\n",
      "|Llangarron                      |\n",
      "|Moffett Field, CA               |\n",
      "|Ayot St. Lawrence               |\n",
      "|Grantchester                    |\n",
      "|Truro, NS                       |\n",
      "|Brive-Corrèze                   |\n",
      "|Wakulla Springs State Park, FL  |\n",
      "|Lewes, East Sussex              |\n",
      "|Berlin-Dahlem                   |\n",
      "|Long Island, New York, NY       |\n",
      "|Argonne, IL                     |\n",
      "|Mannheim-Rheinau                |\n",
      "|Research Triangle Park, NC      |\n",
      "|Massachusetts, MA               |\n",
      "|Harwell, Berkshire              |\n",
      "|Mülheim/Ruhr                    |\n",
      "|Breisgau                        |\n",
      "|Bucksburn (Scotland)            |\n",
      "|Sapporo                         |\n",
      "|Lidingö-Stockholm               |\n",
      "|Altenberg; Grünau im Almtal     |\n",
      "|J&uuml;lich                     |\n",
      "|Rüschlikon                      |\n",
      "+--------------------------------+\n",
      "\n"
     ]
    }
   ],
   "source": [
    "df_tmp_mis_cities.show(500,truncate=False)"
   ]
  },
  {
   "cell_type": "markdown",
   "id": "ce5ec69e",
   "metadata": {},
   "source": [
    "All of these cities were found in the original Cities dataset. No need to load additional cities.<br>\n",
    "Some of the cities have historical names."
   ]
  },
  {
   "cell_type": "markdown",
   "id": "e135ef54",
   "metadata": {},
   "source": [
    "## ISO3 Codes and relationship ISO2 - ISO3\n",
    "Check iso3.json dataset"
   ]
  },
  {
   "cell_type": "code",
   "execution_count": 17,
   "id": "4818a492",
   "metadata": {},
   "outputs": [
    {
     "name": "stdout",
     "output_type": "stream",
     "text": [
      "Count of records:  250\n",
      "Count of unique ISO3:  250\n",
      "Count of unique ISO2:  250\n"
     ]
    }
   ],
   "source": [
    "print(\"Count of records: \", df_iso3_orig.count())\n",
    "print(\"Count of unique ISO3: \", df_iso3_orig.select(\"iso3_code\").distinct().count())\n",
    "print(\"Count of unique ISO2: \", df_iso3_orig.select(\"country_code\").distinct().count())"
   ]
  },
  {
   "cell_type": "markdown",
   "id": "9845f2fc",
   "metadata": {},
   "source": [
    "Check that 1 ISO2 country code contains no more than 1 ISO3 country code and there are no duplicates in country codes."
   ]
  },
  {
   "cell_type": "code",
   "execution_count": 18,
   "id": "a712b0d4",
   "metadata": {},
   "outputs": [
    {
     "name": "stdout",
     "output_type": "stream",
     "text": [
      "+------------+-----+\n",
      "|country_code|count|\n",
      "+------------+-----+\n",
      "+------------+-----+\n",
      "\n"
     ]
    }
   ],
   "source": [
    "df_iso3_orig.groupBy(\"country_code\").count().where(\"count > 1\").show()"
   ]
  },
  {
   "cell_type": "markdown",
   "id": "da810dcf",
   "metadata": {},
   "source": [
    "Check relationship between ISO2 and ISO3 datasets"
   ]
  },
  {
   "cell_type": "code",
   "execution_count": 19,
   "id": "333ed735",
   "metadata": {},
   "outputs": [
    {
     "name": "stdout",
     "output_type": "stream",
     "text": [
      "+------------+------------+------------+---------+\n",
      "|country_code|country_name|country_code|iso3_code|\n",
      "+------------+------------+------------+---------+\n",
      "+------------+------------+------------+---------+\n",
      "\n"
     ]
    }
   ],
   "source": [
    "join_expr = f.trim(df_names_orig[\"country_code\"]) == f.trim(df_iso3_orig[\"country_code\"])\n",
    "df_names_orig.join(df_iso3_orig, join_expr, \"outer\") \\\n",
    "                .where(\"country_name is null or country_name = '' or iso3_code is null or iso3_code = ''\") \\\n",
    "                .show(100, truncate=False)"
   ]
  },
  {
   "cell_type": "markdown",
   "id": "038ea2c3",
   "metadata": {},
   "source": [
    "\"1-to-1\" relationship, both codes can be included in 1 entity \"Country Codes\"."
   ]
  },
  {
   "cell_type": "markdown",
   "id": "00143236",
   "metadata": {},
   "source": [
    "## Phone Codes and relationship ISO2 - Phone\n",
    "Check phones.json dataset"
   ]
  },
  {
   "cell_type": "code",
   "execution_count": 20,
   "id": "fd9af781",
   "metadata": {},
   "outputs": [
    {
     "name": "stdout",
     "output_type": "stream",
     "text": [
      "Count of records:  250\n",
      "Count of unique Phone codes:  234\n",
      "Count of unique ISO2:  250\n"
     ]
    }
   ],
   "source": [
    "print(\"Count of records: \", df_phones_orig.count())\n",
    "print(\"Count of unique Phone codes: \", df_phones_orig.select(\"phone_code\").distinct().count())\n",
    "print(\"Count of unique ISO2: \", df_phones_orig.select(\"country_code\").distinct().count())"
   ]
  },
  {
   "cell_type": "markdown",
   "id": "c4abeba4",
   "metadata": {},
   "source": [
    "Check that 1 ISO2 country code contains no more than 1 phone country code and there are no duplicates in country codes."
   ]
  },
  {
   "cell_type": "code",
   "execution_count": 21,
   "id": "41c26854",
   "metadata": {},
   "outputs": [
    {
     "name": "stdout",
     "output_type": "stream",
     "text": [
      "+------------+-----+\n",
      "|country_code|count|\n",
      "+------------+-----+\n",
      "+------------+-----+\n",
      "\n"
     ]
    }
   ],
   "source": [
    "df_phones_orig.groupBy(\"country_code\").count().where(\"count > 1\").show()"
   ]
  },
  {
   "cell_type": "markdown",
   "id": "263366e7",
   "metadata": {},
   "source": [
    "Check relationship between ISO2 and Phone datasets"
   ]
  },
  {
   "cell_type": "code",
   "execution_count": 22,
   "id": "d73a7ce6",
   "metadata": {},
   "outputs": [
    {
     "name": "stdout",
     "output_type": "stream",
     "text": [
      "+------------+--------------------------------------------+------------+----------+\n",
      "|country_code|country_name                                |country_code|phone_code|\n",
      "+------------+--------------------------------------------+------------+----------+\n",
      "|AQ          |Antarctica                                  |AQ          |          |\n",
      "|BV          |Bouvet Island                               |BV          |          |\n",
      "|GS          |South Georgia and the South Sandwich Islands|GS          |          |\n",
      "|TF          |French Southern Territories                 |TF          |          |\n",
      "|XK          |Kosovo                                      |XK          |          |\n",
      "+------------+--------------------------------------------+------------+----------+\n",
      "\n"
     ]
    }
   ],
   "source": [
    "join_expr = f.trim(df_names_orig[\"country_code\"]) == f.trim(df_phones_orig[\"country_code\"])\n",
    "df_names_orig.join(df_phones_orig, join_expr, \"outer\") \\\n",
    "                .where(\"country_name is null or country_name = '' or phone_code is null or phone_code = ''\") \\\n",
    "                .show(100, truncate=False)"
   ]
  },
  {
   "cell_type": "markdown",
   "id": "09cc879d",
   "metadata": {},
   "source": [
    "\"1-to-M\" relationship, both codes can be included in 1 entity \"Country Codes\""
   ]
  },
  {
   "cell_type": "markdown",
   "id": "57e6a8af",
   "metadata": {},
   "source": [
    "## Currency Codes and relationship ISO2 - Currencies\n",
    "Check currency.json dataset"
   ]
  },
  {
   "cell_type": "code",
   "execution_count": 23,
   "id": "18734631",
   "metadata": {},
   "outputs": [
    {
     "name": "stdout",
     "output_type": "stream",
     "text": [
      "Count of records:  250\n",
      "Count of unique Currency codes:  157\n",
      "Count of unique ISO2:  250\n"
     ]
    }
   ],
   "source": [
    "print(\"Count of records: \", df_currencies_orig.count())\n",
    "print(\"Count of unique Currency codes: \", df_currencies_orig.select(\"currency_code\").distinct().count())\n",
    "print(\"Count of unique ISO2: \", df_currencies_orig.select(\"country_code\").distinct().count())"
   ]
  },
  {
   "cell_type": "markdown",
   "id": "02ca4a36",
   "metadata": {},
   "source": [
    "Check that 1 ISO2 country code contains no more than 1 currency country code and there are no duplicates in country codes."
   ]
  },
  {
   "cell_type": "code",
   "execution_count": 24,
   "id": "b98af5e4",
   "metadata": {},
   "outputs": [
    {
     "name": "stdout",
     "output_type": "stream",
     "text": [
      "+------------+-----+\n",
      "|country_code|count|\n",
      "+------------+-----+\n",
      "+------------+-----+\n",
      "\n"
     ]
    }
   ],
   "source": [
    "df_currencies_orig.groupBy(\"country_code\").count().where(\"count > 1\").show()"
   ]
  },
  {
   "cell_type": "markdown",
   "id": "01e4d4e2",
   "metadata": {},
   "source": [
    "Check relationship between ISO2 and Currency datasets"
   ]
  },
  {
   "cell_type": "code",
   "execution_count": 25,
   "id": "923ae73b",
   "metadata": {},
   "outputs": [
    {
     "name": "stdout",
     "output_type": "stream",
     "text": [
      "+------------+------------+------------+-------------+\n",
      "|country_code|country_name|country_code|currency_code|\n",
      "+------------+------------+------------+-------------+\n",
      "|AQ          |Antarctica  |AQ          |             |\n",
      "+------------+------------+------------+-------------+\n",
      "\n"
     ]
    }
   ],
   "source": [
    "join_expr = f.trim(df_names_orig[\"country_code\"]) == f.trim(df_currencies_orig[\"country_code\"])\n",
    "df_names_orig.join(df_currencies_orig, join_expr, \"outer\") \\\n",
    "                .where(\"country_name is null or country_name = '' or currency_code is null or currency_code = ''\") \\\n",
    "                .show(100, truncate=False)"
   ]
  },
  {
   "cell_type": "markdown",
   "id": "18e0c170",
   "metadata": {},
   "source": [
    "\"1-to-M\" relationship, both codes can be included in 1 entity \"Country Codes\"."
   ]
  },
  {
   "cell_type": "markdown",
   "id": "b196afec",
   "metadata": {},
   "source": [
    "## Capitals\n",
    "Check capitals.json dataset<br>\n",
    "Capitals should be included in Countries dataset."
   ]
  },
  {
   "cell_type": "code",
   "execution_count": 26,
   "id": "dabfd07a",
   "metadata": {},
   "outputs": [
    {
     "name": "stdout",
     "output_type": "stream",
     "text": [
      "Count of records:  250\n",
      "Count of unique Capitals:  244\n",
      "Count of unique ISO2:  250\n"
     ]
    }
   ],
   "source": [
    "print(\"Count of records: \", df_capitals_orig.count())\n",
    "print(\"Count of unique Capitals: \", df_capitals_orig.select(\"capital_name\").distinct().count())\n",
    "print(\"Count of unique ISO2: \", df_capitals_orig.select(\"country_code\").distinct().count())"
   ]
  },
  {
   "cell_type": "markdown",
   "id": "51e18233",
   "metadata": {},
   "source": [
    "Check the Netherlands Antilles country information with 3 different country codes BQ, CW and SX."
   ]
  },
  {
   "cell_type": "code",
   "execution_count": 27,
   "id": "9ae34701",
   "metadata": {},
   "outputs": [
    {
     "name": "stdout",
     "output_type": "stream",
     "text": [
      "+------------+------------+\n",
      "|country_code|capital_name|\n",
      "+------------+------------+\n",
      "|          BQ|            |\n",
      "|          CW|  Willemstad|\n",
      "|          SX| Philipsburg|\n",
      "+------------+------------+\n",
      "\n"
     ]
    }
   ],
   "source": [
    "df_capitals_orig.where(\"country_code in('BQ', 'CW', 'SX')\").show()"
   ]
  },
  {
   "cell_type": "markdown",
   "id": "948c06d9",
   "metadata": {},
   "source": [
    "Capitals are different. The capital of the Netherlands Antilles is Willemstad, it will be added manually.\n",
    "Check that 1 country code contains no more than 1 capital and there are no duplicates in country codes."
   ]
  },
  {
   "cell_type": "code",
   "execution_count": 28,
   "id": "fd12fb1e",
   "metadata": {},
   "outputs": [
    {
     "name": "stdout",
     "output_type": "stream",
     "text": [
      "+------------+-----+\n",
      "|country_code|count|\n",
      "+------------+-----+\n",
      "+------------+-----+\n",
      "\n"
     ]
    }
   ],
   "source": [
    "df_capitals_orig.groupBy(\"country_code\").count().where(\"count > 1\").show()"
   ]
  },
  {
   "cell_type": "markdown",
   "id": "3034c4b1",
   "metadata": {},
   "source": [
    "## Continents\n",
    "Check continent.json dataset<br>\n",
    "Continents should be included in Countries dataset."
   ]
  },
  {
   "cell_type": "markdown",
   "id": "d6188b8f",
   "metadata": {},
   "source": [
    "Check the Netherlands Antilles country information with 3 different country codes BQ, CW and SX."
   ]
  },
  {
   "cell_type": "code",
   "execution_count": 29,
   "id": "1b2d49ba",
   "metadata": {},
   "outputs": [
    {
     "name": "stdout",
     "output_type": "stream",
     "text": [
      "+------------+--------------+\n",
      "|country_code|continent_code|\n",
      "+------------+--------------+\n",
      "|          BQ|            NA|\n",
      "|          CW|            NA|\n",
      "|          SX|            NA|\n",
      "+------------+--------------+\n",
      "\n"
     ]
    }
   ],
   "source": [
    "df_continents_orig.where(\"country_code in('BQ', 'CW', 'SX')\").show()"
   ]
  },
  {
   "cell_type": "markdown",
   "id": "474730dc",
   "metadata": {},
   "source": [
    "Continents are the same.<br>\n",
    "Check that 1 country code contains no more than 1 continent and there are no duplicates in country codes."
   ]
  },
  {
   "cell_type": "code",
   "execution_count": 30,
   "id": "74004f20",
   "metadata": {},
   "outputs": [
    {
     "name": "stdout",
     "output_type": "stream",
     "text": [
      "+------------+-----+\n",
      "|country_code|count|\n",
      "+------------+-----+\n",
      "+------------+-----+\n",
      "\n"
     ]
    }
   ],
   "source": [
    "df_continents_orig.groupBy(\"country_code\").count().where(\"count > 1\").show()"
   ]
  },
  {
   "cell_type": "markdown",
   "id": "3397831d",
   "metadata": {},
   "source": [
    "Continent information will be included in Countries dataset."
   ]
  },
  {
   "cell_type": "markdown",
   "id": "4d8247b9",
   "metadata": {},
   "source": [
    "### Results"
   ]
  },
  {
   "cell_type": "markdown",
   "id": "2de372bf",
   "metadata": {},
   "source": [
    "The following entities will be created from the original datasets \"Countries\" and \"Country Data\" (JSON files):<br>\n",
    "1. \"Currency Codes\"\n",
    "2. \"Continents\"\n",
    "3. \"Country Codes\" with ISO2 codes, ISO3 codes, Phone codes and a link to the \"Currency Codes\" entity\n",
    "4. \"Countries\" with with information about countries and a link to the \"Continents\" entity. Information will be loaded in 3 steps:\n",
    "    - from the original dataset \"Countries\";\n",
    "    - from datasets with ISO2 codes and Country Names - for countries not included in the original \"Countries\" dataset;\n",
    "    - from the original dataset \"Nobel Prizes\" - historical countries that do not exist today, with links to a modern country.\n",
    "5. \"Codes in Countries\" with links to the \"Countries\" and \"Country Codes\" entities\n",
    "6. \"Regions\" with a list of regions from the original dataset \"Countries\"<br>"
   ]
  },
  {
   "cell_type": "markdown",
   "id": "68816529",
   "metadata": {},
   "source": [
    "The following entities will be created from the original datasets \"Cities\" and \"Nobel Prizes\":\n",
    "1. \"Cities\" - with the link to entity \"Countries\"\n",
    "2. \"Laureate Types\" \n",
    "3. \"Categories\"\n",
    "4. \"Prize Types\"\n",
    "5. \"Genders\"\n",
    "6. \"Laureate Persons\" - with links to the entities \"Genders\" and \"Sities\". For Laureates with the \"Individual\" type\n",
    "7. \"Organizations\" - with link to the \"Cities\" entity. For the list of organizations where the laureates worked\n",
    "8. \"Societies\" - for Laureates with the \"Organization\" type\n",
    "9. \"Persons in Organizations\" - for relationship \"Laureate Persons\" - \"Societies\" as \"M-to-N\", with links to these entities\n",
    "10. \"Nobel Prizes\" - entity with a fact, contains links to the entities \"Laureate Types\", \"Categories\", \"Prize Types\", \"Laureate Persons\""
   ]
  },
  {
   "cell_type": "markdown",
   "id": "a6dfd251",
   "metadata": {},
   "source": [
    "# Creating tables"
   ]
  },
  {
   "cell_type": "markdown",
   "id": "5285ecf7",
   "metadata": {},
   "source": [
    "## Laureate Types table\n",
    "Contains a list of types of Nobel laureates"
   ]
  },
  {
   "cell_type": "code",
   "execution_count": 31,
   "id": "ce542b00",
   "metadata": {},
   "outputs": [],
   "source": [
    "df_laureate_types = df_nobel_orig.select(\"Laureate Type\") \\\n",
    "                                 .distinct() \\\n",
    "                                 .withColumn(\"laureate_type_id\", f.monotonically_increasing_id()) \\\n",
    "                                 .select(\"laureate_type_id\", \"Laureate Type\") \\\n",
    "                                 .withColumnRenamed(\"Laureate Type\", \"laureate_type\")"
   ]
  },
  {
   "cell_type": "markdown",
   "id": "8191f798",
   "metadata": {},
   "source": [
    "Check dataframe"
   ]
  },
  {
   "cell_type": "code",
   "execution_count": 32,
   "id": "ee230b6b",
   "metadata": {},
   "outputs": [
    {
     "name": "stdout",
     "output_type": "stream",
     "text": [
      "+----------------+-------------+\n",
      "|laureate_type_id|laureate_type|\n",
      "+----------------+-------------+\n",
      "|               0|   Individual|\n",
      "|               1| Organization|\n",
      "+----------------+-------------+\n",
      "\n"
     ]
    }
   ],
   "source": [
    "df_laureate_types.show()"
   ]
  },
  {
   "cell_type": "code",
   "execution_count": null,
   "id": "0fc34a2b",
   "metadata": {},
   "outputs": [],
   "source": [
    "# Save to hive - hadoop\n",
    "# df_laureate_types.write.format(\"parquet\").mode(\"overwrite\").saveAsTable(\"whdb.laureate_types\")"
   ]
  },
  {
   "cell_type": "markdown",
   "id": "9934cd5c",
   "metadata": {},
   "source": [
    "## Categories table\n",
    "Contains a list of Nobel Prize categories"
   ]
  },
  {
   "cell_type": "code",
   "execution_count": 33,
   "id": "23c5721e",
   "metadata": {},
   "outputs": [],
   "source": [
    "df_categories = df_nobel_orig.select(\"Category\") \\\n",
    "                             .distinct() \\\n",
    "                             .withColumn(\"category_id\", f.monotonically_increasing_id()) \\\n",
    "                             .select(\"category_id\", \"Category\") \\\n",
    "                             .withColumnRenamed(\"Category\", \"category\")"
   ]
  },
  {
   "cell_type": "markdown",
   "id": "508b0036",
   "metadata": {},
   "source": [
    "Check dataframe"
   ]
  },
  {
   "cell_type": "code",
   "execution_count": 34,
   "id": "9efabdb5",
   "metadata": {},
   "outputs": [
    {
     "name": "stdout",
     "output_type": "stream",
     "text": [
      "+-----------+----------+\n",
      "|category_id|  category|\n",
      "+-----------+----------+\n",
      "|          0| Chemistry|\n",
      "|          1|  Medicine|\n",
      "|          2|   Physics|\n",
      "|          3|Literature|\n",
      "|          4| Economics|\n",
      "|          5|     Peace|\n",
      "+-----------+----------+\n",
      "\n"
     ]
    }
   ],
   "source": [
    "df_categories.show()"
   ]
  },
  {
   "cell_type": "code",
   "execution_count": null,
   "id": "f2653fdb",
   "metadata": {},
   "outputs": [],
   "source": [
    "# Save to hive - hadoop\n",
    "# df_categories.write.format(\"parquet\").mode(\"overwrite\").saveAsTable(\"whdb.categories\")"
   ]
  },
  {
   "cell_type": "markdown",
   "id": "59fc5114",
   "metadata": {},
   "source": [
    "## Prize Types table\n",
    "Contains the list of Prize Types of Nobel Prizes"
   ]
  },
  {
   "cell_type": "code",
   "execution_count": 35,
   "id": "278a4699",
   "metadata": {},
   "outputs": [],
   "source": [
    "df_prize_types = df_nobel_orig.select(\"Prize\") \\\n",
    "                              .distinct() \\\n",
    "                              .withColumn(\"prize_type_id\", f.monotonically_increasing_id()) \\\n",
    "                              .select(\"prize_type_id\", \"Prize\") \\\n",
    "                              .withColumnRenamed(\"Prize\", \"prize_type\")"
   ]
  },
  {
   "cell_type": "markdown",
   "id": "60735d28",
   "metadata": {},
   "source": [
    "Check the dataframe"
   ]
  },
  {
   "cell_type": "code",
   "execution_count": 36,
   "id": "b0fe1c7b",
   "metadata": {},
   "outputs": [
    {
     "name": "stdout",
     "output_type": "stream",
     "text": [
      "+-------------+-----------------------------------------------------+\n",
      "|prize_type_id|prize_type                                           |\n",
      "+-------------+-----------------------------------------------------+\n",
      "|0            |The Nobel Prize in Physics 1908                      |\n",
      "|1            |The Nobel Peace Prize 1938                           |\n",
      "|2            |The Nobel Prize in Physics 1950                      |\n",
      "|3            |The Nobel Prize in Chemistry 1982                    |\n",
      "|4            |The Sveriges Riksbank Prize in Economic Sciences 1999|\n",
      "+-------------+-----------------------------------------------------+\n",
      "only showing top 5 rows\n",
      "\n"
     ]
    }
   ],
   "source": [
    "df_prize_types.show(5,truncate=False)"
   ]
  },
  {
   "cell_type": "code",
   "execution_count": null,
   "id": "80a5f7f1",
   "metadata": {},
   "outputs": [],
   "source": [
    "# Save to hive - hadoop\n",
    "# df_prize_types.write.format(\"parquet\").mode(\"overwrite\").saveAsTable(\"whdb.prize_types\")"
   ]
  },
  {
   "cell_type": "markdown",
   "id": "3ef5cc02",
   "metadata": {},
   "source": [
    "## Genders table\n",
    "Contains a list of the genders of individual Nobel Prize Laureates"
   ]
  },
  {
   "cell_type": "code",
   "execution_count": 37,
   "id": "831135d5",
   "metadata": {},
   "outputs": [],
   "source": [
    "df_genders = df_nobel_orig.select(\"Sex\") \\\n",
    "                .where(\"Sex is not null\") \\\n",
    "                .distinct() \\\n",
    "                .withColumn(\"gender_id\", f.monotonically_increasing_id()) \\\n",
    "                .select(\"gender_id\", \"Sex\") \\\n",
    "                .withColumnRenamed(\"Sex\", \"gender\")"
   ]
  },
  {
   "cell_type": "markdown",
   "id": "2283530b",
   "metadata": {},
   "source": [
    "Check dataframe"
   ]
  },
  {
   "cell_type": "code",
   "execution_count": 38,
   "id": "2c2dcd8d",
   "metadata": {},
   "outputs": [
    {
     "name": "stdout",
     "output_type": "stream",
     "text": [
      "+---------+------+\n",
      "|gender_id|gender|\n",
      "+---------+------+\n",
      "|        0|Female|\n",
      "|        1|  Male|\n",
      "+---------+------+\n",
      "\n"
     ]
    }
   ],
   "source": [
    "df_genders.show()"
   ]
  },
  {
   "cell_type": "code",
   "execution_count": null,
   "id": "5e031b05",
   "metadata": {},
   "outputs": [],
   "source": [
    "# Save to hive - hadoop\n",
    "# df_genders.write.format(\"parquet\").mode(\"overwrite\").saveAsTable(\"whdb.genders\")"
   ]
  },
  {
   "cell_type": "markdown",
   "id": "ac031a80",
   "metadata": {},
   "source": [
    "## Regions table\n",
    "Contains a list of country regions"
   ]
  },
  {
   "cell_type": "code",
   "execution_count": 39,
   "id": "292ca2df",
   "metadata": {},
   "outputs": [],
   "source": [
    "df_regions = df_countries_orig.select(\"Region\") \\\n",
    "                .distinct() \\\n",
    "                .withColumn(\"region_id\", f.monotonically_increasing_id()) \\\n",
    "                .select(\"region_id\", \"Region\") \\\n",
    "                .withColumnRenamed(\"Region\", \"region_name\")"
   ]
  },
  {
   "cell_type": "markdown",
   "id": "d6bdb5f7",
   "metadata": {},
   "source": [
    "Check dataframe"
   ]
  },
  {
   "cell_type": "code",
   "execution_count": 40,
   "id": "b98d3175",
   "metadata": {},
   "outputs": [
    {
     "name": "stdout",
     "output_type": "stream",
     "text": [
      "+---------+-----------------------------------+\n",
      "|region_id|region_name                        |\n",
      "+---------+-----------------------------------+\n",
      "|0        |BALTICS                            |\n",
      "|1        |C.W. OF IND. STATES                |\n",
      "|2        |ASIA (EX. NEAR EAST)               |\n",
      "|3        |WESTERN EUROPE                     |\n",
      "|4        |NORTHERN AMERICA                   |\n",
      "|5        |NEAR EAST                          |\n",
      "|6        |EASTERN EUROPE                     |\n",
      "|7        |OCEANIA                            |\n",
      "|8        |SUB-SAHARAN AFRICA                 |\n",
      "|9        |NORTHERN AFRICA                    |\n",
      "|10       |LATIN AMER. & CARIB                |\n",
      "+---------+-----------------------------------+\n",
      "\n"
     ]
    }
   ],
   "source": [
    "df_regions.show(truncate=False)"
   ]
  },
  {
   "cell_type": "code",
   "execution_count": null,
   "id": "e3b1c293",
   "metadata": {},
   "outputs": [],
   "source": [
    "# Save to hive - hadoop\n",
    "# df_regions.write.format(\"parquet\").mode(\"overwrite\").saveAsTable(\"whdb.regions\")"
   ]
  },
  {
   "cell_type": "markdown",
   "id": "c27b2c0c",
   "metadata": {},
   "source": [
    "## Continents table\n",
    "Contains a list of countries continents"
   ]
  },
  {
   "cell_type": "code",
   "execution_count": 41,
   "id": "025fb0c0",
   "metadata": {},
   "outputs": [],
   "source": [
    "df_continents = df_continents_orig.select(\"continent_code\") \\\n",
    "                .distinct() \\\n",
    "                .withColumn(\"continent_id\", f.monotonically_increasing_id()) \\\n",
    "                .withColumn(\"continent_name\",  f.when(f.col(\"continent_code\") == 'NA', 'NORTH AMERICA') \\\n",
    "                                                .when(f.col(\"continent_code\") == 'SA', 'SOUTH AMERICA') \\\n",
    "                                                .when(f.col(\"continent_code\") == 'AS', 'ASIA') \\\n",
    "                                                .when(f.col(\"continent_code\") == 'AN', 'ANTARCTICA') \\\n",
    "                                                .when(f.col(\"continent_code\") == 'OC', 'AUSTRALIA/OCEANIA') \\\n",
    "                                                .when(f.col(\"continent_code\") == 'EU', 'EUROPE') \\\n",
    "                                                .when(f.col(\"continent_code\") == 'AF', 'AFRICA') \\\n",
    "                                                .otherwise('')) \\\n",
    "                .select(\"continent_id\", \"continent_name\", \"continent_code\")"
   ]
  },
  {
   "cell_type": "markdown",
   "id": "5f23c9b1",
   "metadata": {},
   "source": [
    "Check dataframe"
   ]
  },
  {
   "cell_type": "code",
   "execution_count": 42,
   "id": "9e88b414",
   "metadata": {},
   "outputs": [
    {
     "name": "stdout",
     "output_type": "stream",
     "text": [
      "+------------+-----------------+--------------+\n",
      "|continent_id|   continent_name|continent_code|\n",
      "+------------+-----------------+--------------+\n",
      "|           0|    NORTH AMERICA|            NA|\n",
      "|           1|    SOUTH AMERICA|            SA|\n",
      "|           2|             ASIA|            AS|\n",
      "|           3|       ANTARCTICA|            AN|\n",
      "|           4|AUSTRALIA/OCEANIA|            OC|\n",
      "|           5|           EUROPE|            EU|\n",
      "|           6|           AFRICA|            AF|\n",
      "+------------+-----------------+--------------+\n",
      "\n"
     ]
    }
   ],
   "source": [
    "df_continents.show()"
   ]
  },
  {
   "cell_type": "code",
   "execution_count": null,
   "id": "1b83917e",
   "metadata": {},
   "outputs": [],
   "source": [
    "# Save to hive - hadoop\n",
    "# df_continents.write.format(\"parquet\").mode(\"overwrite\").saveAsTable(\"whdb.continents\")"
   ]
  },
  {
   "cell_type": "markdown",
   "id": "89c629b6",
   "metadata": {},
   "source": [
    "## Currency Codes table\n",
    "Contains a list of currency codes"
   ]
  },
  {
   "cell_type": "code",
   "execution_count": 43,
   "id": "9f217196",
   "metadata": {},
   "outputs": [],
   "source": [
    "df_currencies = df_currencies_orig.select(\"currency_code\") \\\n",
    "                .where(\"currency_code != ''\") \\\n",
    "                .distinct() \\\n",
    "                .withColumn(\"currency_code_id\", f.monotonically_increasing_id()) \\\n",
    "                .select(\"currency_code_id\", \"currency_code\")"
   ]
  },
  {
   "cell_type": "markdown",
   "id": "be6e766b",
   "metadata": {},
   "source": [
    "Check dataframe"
   ]
  },
  {
   "cell_type": "code",
   "execution_count": 44,
   "id": "440a235e",
   "metadata": {},
   "outputs": [
    {
     "name": "stdout",
     "output_type": "stream",
     "text": [
      "+----------------+-------------+\n",
      "|currency_code_id|currency_code|\n",
      "+----------------+-------------+\n",
      "|               0|          DKK|\n",
      "|               1|          XPF|\n",
      "|               2|          NZD|\n",
      "|               3|          HUF|\n",
      "|               4|          BDT|\n",
      "+----------------+-------------+\n",
      "only showing top 5 rows\n",
      "\n"
     ]
    }
   ],
   "source": [
    "df_currencies.show(5)"
   ]
  },
  {
   "cell_type": "code",
   "execution_count": null,
   "id": "ef3f8893",
   "metadata": {},
   "outputs": [],
   "source": [
    "# Save to hive - hadoop\n",
    "# df_currencies.write.format(\"parquet\").mode(\"overwrite\").saveAsTable(\"whdb.currencies\")"
   ]
  },
  {
   "cell_type": "markdown",
   "id": "9d8e7eb4",
   "metadata": {},
   "source": [
    "## Countries table\n",
    "Contains a list of countries. Information will be loaded from 3 dataframes: \n",
    "1. df_countries_orig - the original Countries dataset\n",
    "2. df_tmp_mis_cntr - data that does not exist in the Countries dataset and exists in the ISO2 codes names.json dataset\n",
    "3. df_tmp_mis_hist_cntr - data with historical names of countries that do not exist today (with added parent_country_id)"
   ]
  },
  {
   "cell_type": "markdown",
   "id": "8c53fd8b",
   "metadata": {},
   "source": [
    "### Union data from 3 dataframes"
   ]
  },
  {
   "cell_type": "code",
   "execution_count": 45,
   "id": "fb73ec91",
   "metadata": {},
   "outputs": [
    {
     "name": "stdout",
     "output_type": "stream",
     "text": [
      "root\n",
      " |-- Country: string (nullable = true)\n",
      " |-- Region: string (nullable = true)\n",
      " |-- Population: integer (nullable = true)\n",
      " |-- Area (sq. mi.): integer (nullable = true)\n",
      " |-- Pop. Density (per sq. mi.): string (nullable = true)\n",
      " |-- Coastline (coast/area ratio): string (nullable = true)\n",
      " |-- Net migration: string (nullable = true)\n",
      " |-- Infant mortality (per 1000 births): string (nullable = true)\n",
      " |-- GDP ($ per capita): integer (nullable = true)\n",
      " |-- Literacy (%): string (nullable = true)\n",
      " |-- Phones (per 1000): string (nullable = true)\n",
      " |-- Arable (%): string (nullable = true)\n",
      " |-- Crops (%): string (nullable = true)\n",
      " |-- Other (%): string (nullable = true)\n",
      " |-- Climate: string (nullable = true)\n",
      " |-- Birthrate: string (nullable = true)\n",
      " |-- Deathrate: string (nullable = true)\n",
      " |-- Agriculture: string (nullable = true)\n",
      " |-- Industry: string (nullable = true)\n",
      " |-- Service: string (nullable = true)\n",
      "\n"
     ]
    }
   ],
   "source": [
    "# Countries dataframe structure\n",
    "df_countries_orig.printSchema()"
   ]
  },
  {
   "cell_type": "markdown",
   "id": "82a4bd95",
   "metadata": {},
   "source": [
    "Union dataframes 1 and 2 (original Countries + missing countries from ISO2)"
   ]
  },
  {
   "cell_type": "code",
   "execution_count": 46,
   "id": "a7ac7f17",
   "metadata": {},
   "outputs": [
    {
     "name": "stdout",
     "output_type": "stream",
     "text": [
      "Max country_id after union dataframes 1 and 2 =  248\n"
     ]
    }
   ],
   "source": [
    "# Prepare dataframe df_tmp_mis_cntr with missing country names\n",
    "# Create the same structure\n",
    "df_tmp_mis_cntr = df_tmp_mis_cntr.select(\"country_name\") \\\n",
    "    .withColumn(\"1\", f.lit(None)).withColumn(\"2\", f.lit(None)).withColumn(\"3\", f.lit(None)).withColumn(\"4\", f.lit(None)) \\\n",
    "    .withColumn(\"5\", f.lit(None)).withColumn(\"6\", f.lit(None)).withColumn(\"7\", f.lit(None)).withColumn(\"8\", f.lit(None)) \\\n",
    "    .withColumn(\"9\", f.lit(None)).withColumn(\"10\", f.lit(None)).withColumn(\"11\", f.lit(None)).withColumn(\"12\", f.lit(None)) \\\n",
    "    .withColumn(\"13\", f.lit(None)).withColumn(\"14\", f.lit(None)).withColumn(\"15\", f.lit(None)).withColumn(\"16\", f.lit(None)) \\\n",
    "    .withColumn(\"17\", f.lit(None)).withColumn(\"18\", f.lit(None)).withColumn(\"19\", f.lit(None))\n",
    "\n",
    "# Union dataframes\n",
    "df_countries = df_countries_orig.union(df_tmp_mis_cntr)\n",
    "\n",
    "# Add an ID column to the union dataframes 1 and 2, add null column Parent Country ID\n",
    "w = Window.orderBy(\"Country\")\n",
    "df_countries = df_countries.withColumn(\"country_id\", f.row_number().over(w) - 1) \\\n",
    "                            .withColumn(\"parent_country_id\", f.lit(None).cast('integer'))\n",
    "\n",
    "# Check the max value of country_id\n",
    "max_count_id = df_countries.select(f.max(\"country_id\")).collect()[0][0]\n",
    "print(\"Max country_id after union dataframes 1 and 2 = \", max_count_id)\n",
    "\n",
    "# Rename columns, update column order\n",
    "df_countries = df_countries.withColumnRenamed(\"Country\", \"country_name\") \\\n",
    "                           .withColumnRenamed(\"Population\", \"population\") \\\n",
    "                           .withColumnRenamed(\"Region\", \"region\") \\\n",
    "                           .withColumnRenamed(\"Area (sq. mi.)\", \"area_sq_miles\") \\\n",
    "                           .withColumnRenamed(\"Pop. Density (per sq. mi.)\", \"pop_dencity_per_sq_mile\") \\\n",
    "                           .withColumnRenamed(\"Coastline (coast/area ratio)\", \"coastline\") \\\n",
    "                           .withColumnRenamed(\"Net migration\", \"net_migration\") \\\n",
    "                           .withColumnRenamed(\"Infant mortality (per 1000 births)\", \"infant_mortality_per_1000\") \\\n",
    "                           .withColumnRenamed(\"GDP ($ per capita)\", \"gdb_dollar_per_capita\") \\\n",
    "                           .withColumnRenamed(\"Literacy (%)\", \"percent_literacy\") \\\n",
    "                           .withColumnRenamed(\"Phones (per 1000)\", \"phones_per_1000\") \\\n",
    "                           .withColumnRenamed(\"Arable (%)\", \"percent_arable\") \\\n",
    "                           .withColumnRenamed(\"Crops (%)\", \"percent_crops\") \\\n",
    "                           .withColumnRenamed(\"Other (%)\", \"percent_other\") \\\n",
    "                           .withColumnRenamed(\"Climate\", \"climate\") \\\n",
    "                           .withColumnRenamed(\"Birthrate\", \"birthrate\") \\\n",
    "                           .withColumnRenamed(\"Deathrate\", \"deathrate\") \\\n",
    "                           .withColumnRenamed(\"Agriculture\", \"agriculture\") \\\n",
    "                           .withColumnRenamed(\"Industry\", \"industry\") \\\n",
    "                           .withColumnRenamed(\"Service\", \"service\") \\\n",
    "                           .select(\"country_id\", \"parent_country_id\", \"country_name\", \"population\", \"region\", \"area_sq_miles\", \\\n",
    "                                   \"pop_dencity_per_sq_mile\", \"coastline\", \"net_migration\", \"infant_mortality_per_1000\", \\\n",
    "                                   \"gdb_dollar_per_capita\", \"percent_literacy\", \"phones_per_1000\", \"percent_arable\", \\\n",
    "                                   \"percent_crops\", \"percent_other\", \"climate\", \"birthrate\", \"deathrate\", \"agriculture\", \\\n",
    "                                   \"industry\", \"service\")"
   ]
  },
  {
   "cell_type": "markdown",
   "id": "c08d0be8",
   "metadata": {},
   "source": [
    "Add Country ID and Parent Country ID to dataframe 3 (historical records)"
   ]
  },
  {
   "cell_type": "code",
   "execution_count": 47,
   "id": "d8a1fe94",
   "metadata": {},
   "outputs": [],
   "source": [
    "# Add Country ID - starts from the next country_id = 249\n",
    "w = Window.orderBy(\"country_name\")\n",
    "df_tmp_mis_hist_cntr = df_tmp_mis_hist_cntr.withColumn(\"country_id\", f.row_number().over(w) + max_count_id)\n",
    "\n",
    "# Add Parent Country ID = Country ID from the dataframe df_countries created below\n",
    "df_countries.createOrReplaceTempView(\"ORIG_CNT\")\n",
    "df_tmp_mis_hist_cntr.createOrReplaceTempView(\"HIST_CNT\")\n",
    "df_tmp = sp.sql(\"select country_id, \\\n",
    "       case \\\n",
    "       when country_name like '%(Poland)' then (select country_id from ORIG_CNT where trim(country_name) = 'Poland') \\\n",
    "       when country_name like '%(Austria)' then (select country_id from ORIG_CNT where trim(country_name) = 'Austria') \\\n",
    "       when country_name like '%(Croatia)' then (select country_id from ORIG_CNT where trim(country_name) = 'Croatia') \\\n",
    "       when country_name like '%(Czech Republic)' or country_name like '%Czechoslovakia%' \\\n",
    "            then (select country_id from ORIG_CNT where trim(country_name) = 'Czech Republic') \\\n",
    "       when country_name like '%(Hungary)' then (select country_id from ORIG_CNT where trim(country_name) = 'Hungary') \\\n",
    "       when country_name like '%(Slovenia)' then (select country_id from ORIG_CNT where trim(country_name) = 'Slovenia') \\\n",
    "       when country_name like '%(Ukraine)' then (select country_id from ORIG_CNT where trim(country_name) = 'Ukraine') \\\n",
    "       when country_name like '%(Italy)' then (select country_id from ORIG_CNT where trim(country_name) = 'Italy') \\\n",
    "       when country_name like '%(Germany)' or trim(country_name) in ('East Germany', 'Federal Republic of Germany')\\\n",
    "            then (select country_id from ORIG_CNT where trim(country_name) = 'Germany') \\\n",
    "       when country_name like '%(Israel)' then (select country_id from ORIG_CNT where trim(country_name) = 'Israel') \\\n",
    "       when country_name like '%(Bangladesh)' then (select country_id from ORIG_CNT where trim(country_name) = 'Bangladesh') \\\n",
    "       when country_name like '%(India)' then (select country_id from ORIG_CNT where trim(country_name) = 'India') \\\n",
    "       when country_name like '%(Saint Lucia)' then (select country_id from ORIG_CNT where trim(country_name) = 'Saint Lucia') \\\n",
    "       when country_name like '%(Greece)' then (select country_id from ORIG_CNT where trim(country_name) = 'Greece') \\\n",
    "       when country_name like '%(Denmark)' then (select country_id from ORIG_CNT where trim(country_name) = 'Denmark') \\\n",
    "       when country_name like '%(Algeria)' then (select country_id from ORIG_CNT where trim(country_name) = 'Algeria') \\\n",
    "       when country_name like '%(Ghana)' then (select country_id from ORIG_CNT where trim(country_name) = 'Ghana') \\\n",
    "       when country_name like '%(Slovakia)' then (select country_id from ORIG_CNT where trim(country_name) = 'Slovakia') \\\n",
    "       when country_name like '%(Turkey)' then (select country_id from ORIG_CNT where trim(country_name) = 'Turkey') \\\n",
    "       when country_name like '%(Zambia)' then (select country_id from ORIG_CNT where trim(country_name) = 'Zambia') \\\n",
    "       when country_name like '%(Iran)' then (select country_id from ORIG_CNT where trim(country_name) = 'Iran') \\\n",
    "       when country_name like '%(Belarus)' then (select country_id from ORIG_CNT where trim(country_name) = 'Belarus') \\\n",
    "       when country_name like '%(Russia)' or country_name like '%Union of Soviet Socialist Republics%' \\\n",
    "            then (select country_id from ORIG_CNT where trim(country_name) = 'Russia') \\\n",
    "       when country_name like '%(Lithuania)' then (select country_id from ORIG_CNT where trim(country_name) = 'Lithuania') \\\n",
    "       when country_name like '%(Azerbaijan)' then (select country_id from ORIG_CNT where trim(country_name) = 'Azerbaijan') \\\n",
    "       when country_name like '%(Finland)' then (select country_id from ORIG_CNT where trim(country_name) = 'Finland') \\\n",
    "       when country_name like '%(Latvia)' then (select country_id from ORIG_CNT where trim(country_name) = 'Latvia') \\\n",
    "       when country_name like '%France)' then (select country_id from ORIG_CNT where trim(country_name) = 'France') \\\n",
    "       when country_name like '%(Zimbabwe)' then (select country_id from ORIG_CNT where trim(country_name) = 'Zimbabwe') \\\n",
    "       when country_name like '%(Pakistan)' then (select country_id from ORIG_CNT where trim(country_name) = 'Pakistan') \\\n",
    "       when country_name like '%China)' then (select country_id from ORIG_CNT where trim(country_name) = 'China') \\\n",
    "       when country_name like '%(Indonesia)' then (select country_id from ORIG_CNT where trim(country_name) = 'Indonesia') \\\n",
    "       when country_name like '%(Serbia)' then (select country_id from ORIG_CNT where trim(country_name) = 'Serbia') \\\n",
    "       when country_name like '%(Republic of Macedonia)' \\\n",
    "            then (select country_id from ORIG_CNT where trim(country_name) = 'Macedonia') \\\n",
    "       when country_name like '%(Bosnia%' \\\n",
    "            then (select country_id from ORIG_CNT where trim(country_name) = 'Bosnia and Herzegovina') \\\n",
    "       when trim(country_name) in ('Northern Ireland', 'Scotland') \\\n",
    "            then (select country_id from ORIG_CNT where trim(country_name) = 'United Kingdom') \\\n",
    "       when country_name like '%(South Korea)' then (select country_id from ORIG_CNT where trim(country_name) = 'South Korea') \\\n",
    "       when trim(country_name) = 'Trinidad' \\\n",
    "            then (select country_id from ORIG_CNT where trim(country_name) = 'Trinidad and Tobago') \\\n",
    "       when country_name like '%(Myanmar)' then (select country_id from ORIG_CNT where trim(country_name) = 'Myanmar') \\\n",
    "       else null end as parent_country_id, \\\n",
    "       country_name \\\n",
    "       from HIST_CNT\")"
   ]
  },
  {
   "cell_type": "markdown",
   "id": "7f2d2ec9",
   "metadata": {},
   "source": [
    "Union dataframes"
   ]
  },
  {
   "cell_type": "code",
   "execution_count": 48,
   "id": "974d5f43",
   "metadata": {},
   "outputs": [
    {
     "name": "stdout",
     "output_type": "stream",
     "text": [
      "+----------+-----------------+---------------------------------+----------+-------+\n",
      "|country_id|parent_country_id|country_name                     |population|service|\n",
      "+----------+-----------------+---------------------------------+----------+-------+\n",
      "|0         |null             |Afghanistan                      |31056997  |0,38   |\n",
      "|1         |null             |Aland Islands                    |null      |null   |\n",
      "|2         |null             |Albania                          |3581655   |0,579  |\n",
      "|248       |null             |Zimbabwe                         |12236805  |0,579  |\n",
      "|249       |73               |Alsace (then Germany, now France)|null      |null   |\n",
      "|250       |14               |Austria-Hungary (Austria)        |null      |null   |\n",
      "+----------+-----------------+---------------------------------+----------+-------+\n",
      "\n"
     ]
    }
   ],
   "source": [
    "# Create the same structure of dataframe 3 with historical names\n",
    "df_tmp = df_tmp.withColumn(\"1\", f.lit(None)).withColumn(\"2\", f.lit(None)).withColumn(\"3\", f.lit(None)) \\\n",
    "    .withColumn(\"4\", f.lit(None)).withColumn(\"5\", f.lit(None)).withColumn(\"6\", f.lit(None)).withColumn(\"7\", f.lit(None)) \\\n",
    "    .withColumn(\"8\", f.lit(None)).withColumn(\"9\", f.lit(None)).withColumn(\"10\", f.lit(None)).withColumn(\"11\", f.lit(None)) \\\n",
    "    .withColumn(\"12\", f.lit(None)).withColumn(\"13\", f.lit(None)).withColumn(\"14\", f.lit(None)).withColumn(\"15\", f.lit(None)) \\\n",
    "    .withColumn(\"16\", f.lit(None)).withColumn(\"17\", f.lit(None)).withColumn(\"18\", f.lit(None)).withColumn(\"19\", f.lit(None))\n",
    "\n",
    "# Union dataframes\n",
    "df_countries = df_countries.union(df_tmp)\n",
    "\n",
    "# Check results\n",
    "df_countries.select(\"country_id\", \"parent_country_id\", \"country_name\", \"population\", \"service\") \\\n",
    "            .where(\"country_id in (0,1,2,248,249,250)\") \\\n",
    "            .show(truncate=False)"
   ]
  },
  {
   "cell_type": "markdown",
   "id": "984ba170",
   "metadata": {},
   "source": [
    "### Add region_id - link to the Regions table"
   ]
  },
  {
   "cell_type": "code",
   "execution_count": 49,
   "id": "8bb4679c",
   "metadata": {},
   "outputs": [],
   "source": [
    "join_expr = f.trim(df_countries[\"region\"]) == f.trim(df_regions[\"region_name\"])\n",
    "df_countries = df_countries.join(df_regions, join_expr, \"left_outer\").drop(\"region\", \"region_name\")"
   ]
  },
  {
   "cell_type": "code",
   "execution_count": 50,
   "id": "d7ce8095",
   "metadata": {},
   "outputs": [
    {
     "data": {
      "text/plain": [
       "22"
      ]
     },
     "execution_count": 50,
     "metadata": {},
     "output_type": "execute_result"
    }
   ],
   "source": [
    "# Check null region_id values - records from the ISO2 countries dataframe. Should be 22 records\n",
    "df_countries.select(\"country_id\", \"parent_country_id\", \"country_name\", \"region_id\") \\\n",
    "            .where(\"region_id is null and parent_country_id is null\") \\\n",
    "            .count()"
   ]
  },
  {
   "cell_type": "markdown",
   "id": "774d268f",
   "metadata": {},
   "source": [
    "### Add continent_id - link to the Continents table"
   ]
  },
  {
   "cell_type": "code",
   "execution_count": 51,
   "id": "9a76609d",
   "metadata": {},
   "outputs": [],
   "source": [
    "# Join dataframes Countries, Continents, ISO2 Code\n",
    "join_expr = f.trim(df_names_orig[\"country_code\"]) == f.trim(df_continents_orig[\"country_code\"])\n",
    "df_tmp = df_names_orig.join(df_continents_orig, join_expr, \"left_outer\") \\\n",
    "                        .select(\"country_name\", \"continent_code\") \\\n",
    "                        .withColumnRenamed(\"continent_code\", \"c_code\") \\\n",
    "                        .withColumnRenamed(\"country_name\", \"c_name\")\n",
    "\n",
    "join_expr = f.trim(df_tmp[\"c_code\"]) == f.trim(df_continents[\"continent_code\"])\n",
    "df_tmp = df_tmp.join(df_continents, join_expr, \"left_outer\").select(\"c_name\", \"continent_id\")\n",
    "\n",
    "join_expr = f.trim(df_tmp[\"c_name\"]) == f.trim(df_countries[\"country_name\"])\n",
    "df_countries = df_countries.join(df_tmp, join_expr, \"left_outer\")"
   ]
  },
  {
   "cell_type": "code",
   "execution_count": 52,
   "id": "f6a02fe8",
   "metadata": {},
   "outputs": [
    {
     "name": "stdout",
     "output_type": "stream",
     "text": [
      "+----------+---------------------+------------+\n",
      "|country_id|country_name         |continent_id|\n",
      "+----------+---------------------+------------+\n",
      "|79        |Gaza Strip           |null        |\n",
      "|155       |Netherlands Antilles |null        |\n",
      "|244       |West Bank            |null        |\n",
      "+----------+---------------------+------------+\n",
      "\n"
     ]
    }
   ],
   "source": [
    "# Check null values for all countries except historical names\n",
    "df_countries.select(\"country_id\", \"country_name\", \"continent_id\") \\\n",
    "            .where(\"continent_id is null and parent_country_id is null\").show(truncate=False)"
   ]
  },
  {
   "cell_type": "markdown",
   "id": "a3e10765",
   "metadata": {},
   "source": [
    "Selected countries with no matches in the ISO2 dataframe. Add values manually:\n",
    "- Gaza Strip and West Bank have the ISO2 code = 'PS' and continent = 'ASIA'\n",
    "- Netherlands Antilles have 3 ISO2 codes, but 1 continent = 'NORTH AMERICA'"
   ]
  },
  {
   "cell_type": "code",
   "execution_count": 53,
   "id": "3ac23acb",
   "metadata": {},
   "outputs": [],
   "source": [
    "df_continents.createOrReplaceTempView(\"CONTINENTS\")\n",
    "asia_id = sp.sql(\"select continent_id from CONTINENTS where continent_name = 'ASIA'\").collect()[0][0]\n",
    "na_id = sp.sql(\"select continent_id from CONTINENTS where continent_name = 'NORTH AMERICA'\").collect()[0][0]\n",
    "\n",
    "df_countries = df_countries.withColumn(\"continent_id\", \\\n",
    "                              f.when(f.trim(f.col(\"country_name\")) == 'Gaza Strip', asia_id) \\\n",
    "                               .when(f.trim(f.col(\"country_name\")) == 'Netherlands Antilles', na_id) \\\n",
    "                               .when(f.trim(f.col(\"country_name\")) == 'West Bank', asia_id) \\\n",
    "                               .otherwise(df_tmp[\"continent_id\"]))"
   ]
  },
  {
   "cell_type": "code",
   "execution_count": 54,
   "id": "182ee6af",
   "metadata": {},
   "outputs": [
    {
     "name": "stdout",
     "output_type": "stream",
     "text": [
      "+----------+---------------------+------------+\n",
      "|country_id|country_name         |continent_id|\n",
      "+----------+---------------------+------------+\n",
      "|79        |Gaza Strip           |2           |\n",
      "|155       |Netherlands Antilles |0           |\n",
      "|235       |United States        |0           |\n",
      "|244       |West Bank            |2           |\n",
      "+----------+---------------------+------------+\n",
      "\n"
     ]
    }
   ],
   "source": [
    "# Check results\n",
    "df_countries.select(\"country_id\", \"country_name\", \"continent_id\") \\\n",
    "            .where(\"trim(country_name) in ('Gaza Strip', 'Netherlands Antilles', 'West Bank', 'United States')\") \\\n",
    "            .show(truncate=False)"
   ]
  },
  {
   "cell_type": "markdown",
   "id": "703113dc",
   "metadata": {},
   "source": [
    "### Add Capitals"
   ]
  },
  {
   "cell_type": "code",
   "execution_count": 55,
   "id": "068b9fc8",
   "metadata": {},
   "outputs": [],
   "source": [
    "# Join dataframes Countries, ISO2 Code, Capitals\n",
    "join_expr = f.trim(df_names_orig[\"country_code\"]) == f.trim(df_capitals_orig[\"country_code\"])\n",
    "df_tmp = df_names_orig.join(df_capitals_orig, join_expr, \"left_outer\") \\\n",
    "                        .select(\"country_name\", \"capital_name\") \\\n",
    "                        .withColumnRenamed(\"country_name\", \"c_name\")\n",
    "\n",
    "# + add missing capitals\n",
    "join_expr = f.trim(df_tmp[\"c_name\"]) == f.trim(df_countries[\"country_name\"])\n",
    "df_countries = df_countries.join(df_tmp, join_expr, \"left_outer\") \\\n",
    "                           .withColumn(\"capital_name\", \\\n",
    "                                f.when(f.col(\"capital_name\") == '', f.lit(None)) \\\n",
    "                                 .when(f.trim(f.col(\"country_name\")) == 'Scotland', 'Edinburgh') \\\n",
    "                                 .when(f.trim(f.col(\"country_name\")) == 'Northern Ireland', 'Belfast') \\\n",
    "                                 .when(f.trim(f.col(\"country_name\")) == 'Netherlands Antilles', 'Willemstad') \\\n",
    "                                 .when(f.trim(f.col(\"country_name\")) == 'West Bank', 'East Jerusalem') \\\n",
    "                                 .when(f.trim(f.col(\"country_name\")) == 'Gaza Strip', 'East Jerusalem') \\\n",
    "                                 .otherwise(f.col(\"capital_name\")))"
   ]
  },
  {
   "cell_type": "code",
   "execution_count": 56,
   "id": "32eacdab",
   "metadata": {},
   "outputs": [],
   "source": [
    "# Update Countries dataset\n",
    "df_countries = df_countries.select(\"country_id\", \"country_name\", \"region_id\", \"continent_id\", \"parent_country_id\", \\\n",
    "                                   \"capital_name\", \"population\", \"area_sq_miles\", \"pop_dencity_per_sq_mile\", \"coastline\", \\\n",
    "                                   \"net_migration\", \"infant_mortality_per_1000\", \"gdb_dollar_per_capita\", \"percent_literacy\", \\\n",
    "                                   \"phones_per_1000\", \"percent_arable\", \"percent_crops\", \"percent_other\", \"climate\", \\\n",
    "                                   \"birthrate\", \"deathrate\", \"agriculture\", \"industry\", \"service\") \\\n",
    "                           .sort(\"country_id\")"
   ]
  },
  {
   "cell_type": "markdown",
   "id": "37c5c237",
   "metadata": {},
   "source": [
    "Check dataframe"
   ]
  },
  {
   "cell_type": "code",
   "execution_count": 57,
   "id": "a95e2706",
   "metadata": {},
   "outputs": [
    {
     "name": "stdout",
     "output_type": "stream",
     "text": [
      "+----------+------------+---------+------------+-----------------+------------+----------+-------------+-----------------------+---------+-------------+-------------------------+---------------------+----------------+---------------+--------------+-------------+-------------+-------+---------+---------+-----------+--------+-------+\n",
      "|country_id|country_name|region_id|continent_id|parent_country_id|capital_name|population|area_sq_miles|pop_dencity_per_sq_mile|coastline|net_migration|infant_mortality_per_1000|gdb_dollar_per_capita|percent_literacy|phones_per_1000|percent_arable|percent_crops|percent_other|climate|birthrate|deathrate|agriculture|industry|service|\n",
      "+----------+------------+---------+------------+-----------------+------------+----------+-------------+-----------------------+---------+-------------+-------------------------+---------------------+----------------+---------------+--------------+-------------+-------------+-------+---------+---------+-----------+--------+-------+\n",
      "|0         |Afghanistan |2        |2           |null             |Kabul       |31056997  |647500       |48,0                   |0,00     |23,06        |163,07                   |700                  |36,0            |3,2            |12,13         |0,22         |87,65        |1      |46,6     |20,34    |0,38       |0,24    |0,38   |\n",
      "+----------+------------+---------+------------+-----------------+------------+----------+-------------+-----------------------+---------+-------------+-------------------------+---------------------+----------------+---------------+--------------+-------------+-------------+-------+---------+---------+-----------+--------+-------+\n",
      "only showing top 1 row\n",
      "\n"
     ]
    }
   ],
   "source": [
    "df_countries.show(1, truncate=False)"
   ]
  },
  {
   "cell_type": "code",
   "execution_count": null,
   "id": "39e20d3f",
   "metadata": {},
   "outputs": [],
   "source": [
    "# Save to hive - hadoop\n",
    "# df_countries.write.format(\"parquet\").mode(\"overwrite\").saveAsTable(\"whdb.countries\")"
   ]
  },
  {
   "cell_type": "markdown",
   "id": "4f6dcb55",
   "metadata": {},
   "source": [
    "## Country Codes table\n",
    "Contains a list of all possible Country Codes: ISO2, ISO3, country code names, phone codes, link to currency codes<br>\n",
    "In most cases, country code names are the same as country names in the Countries dataset. "
   ]
  },
  {
   "cell_type": "code",
   "execution_count": 58,
   "id": "d937a063",
   "metadata": {},
   "outputs": [],
   "source": [
    "# Join ISO3 Codes\n",
    "df_country_codes = df_names_orig.withColumnRenamed(\"country_code\", \"country_code1\")\n",
    "join_expr = f.trim(df_country_codes[\"country_code1\"]) == f.trim(df_iso3_orig[\"country_code\"])\n",
    "df_country_codes = df_country_codes.join(df_iso3_orig, join_expr, \"left_outer\")\n",
    "\n",
    "# Join Curency Codes\n",
    "df_country_codes = df_country_codes.withColumnRenamed(\"country_code\", \"country_code2\")\n",
    "join_expr = f.trim(df_country_codes[\"country_code1\"]) == f.trim(df_currencies_orig[\"country_code\"])\n",
    "df_country_codes = df_country_codes.join(df_currencies_orig, join_expr, \"left_outer\")\n",
    "\n",
    "# Join Currency ID\n",
    "df_country_codes = df_country_codes.withColumnRenamed(\"currency_code\", \"currency_code1\")\n",
    "join_expr = f.trim(df_country_codes[\"currency_code1\"]) == f.trim(df_currencies[\"currency_code\"])\n",
    "df_country_codes = df_country_codes.join(df_currencies, join_expr, \"left_outer\")\n",
    "\n",
    "# Join Phone Codes\n",
    "df_country_codes = df_country_codes.withColumnRenamed(\"country_code\", \"country_code3\")\n",
    "join_expr = f.trim(df_country_codes[\"country_code3\"]) == f.trim(df_phones_orig[\"country_code\"])\n",
    "df_country_codes = df_country_codes.join(df_phones_orig, join_expr, \"left_outer\")\n",
    "\n",
    "# Add ID, select and rename columns\n",
    "df_country_codes = df_country_codes.sort(\"country_name\") \\\n",
    "                                   .withColumn(\"country_code_id\", f.monotonically_increasing_id()) \\\n",
    "                                   .withColumnRenamed(\"country_name\", \"code_name\") \\\n",
    "                                   .withColumnRenamed(\"country_code\", \"iso2_code\") \\\n",
    "                                   .select(\"country_code_id\", \"code_name\", \"iso2_code\", \"iso3_code\", \\\n",
    "                                           \"currency_code_id\", \"phone_code\")"
   ]
  },
  {
   "cell_type": "markdown",
   "id": "902e86d3",
   "metadata": {},
   "source": [
    "Check dataframe"
   ]
  },
  {
   "cell_type": "code",
   "execution_count": 59,
   "id": "915a687b",
   "metadata": {},
   "outputs": [
    {
     "name": "stdout",
     "output_type": "stream",
     "text": [
      "+---------------+-------------+---------+---------+----------------+----------+\n",
      "|country_code_id|code_name    |iso2_code|iso3_code|currency_code_id|phone_code|\n",
      "+---------------+-------------+---------+---------+----------------+----------+\n",
      "|0              |Afghanistan  |AF       |AFG      |147             |93        |\n",
      "|1              |Aland Islands|AX       |ALA      |17              |+358-18   |\n",
      "|2              |Albania      |AL       |ALB      |121             |355       |\n",
      "+---------------+-------------+---------+---------+----------------+----------+\n",
      "only showing top 3 rows\n",
      "\n"
     ]
    }
   ],
   "source": [
    "df_country_codes.show(3,truncate=False)"
   ]
  },
  {
   "cell_type": "code",
   "execution_count": null,
   "id": "f981645c",
   "metadata": {},
   "outputs": [],
   "source": [
    "# Save to hive - hadoop\n",
    "# df_country_codes.write.format(\"parquet\").mode(\"overwrite\").saveAsTable(\"whdb.country_codes\")"
   ]
  },
  {
   "cell_type": "markdown",
   "id": "6047773d",
   "metadata": {},
   "source": [
    "## Codes in Countries table\n",
    "Contains matches between countries and country codes"
   ]
  },
  {
   "cell_type": "markdown",
   "id": "b668d533",
   "metadata": {},
   "source": [
    "Join dataframes Country Codes with Countries (not historical records), add matches"
   ]
  },
  {
   "cell_type": "code",
   "execution_count": 60,
   "id": "fdee070a",
   "metadata": {},
   "outputs": [
    {
     "name": "stdout",
     "output_type": "stream",
     "text": [
      "+-------------+--------------------+\n",
      "|iso2_code_tmp|    country_name_tmp|\n",
      "+-------------+--------------------+\n",
      "|           BQ|Netherlands Antilles|\n",
      "|           CW|Netherlands Antilles|\n",
      "|           PS|         Gaza Strip |\n",
      "|           SX|Netherlands Antilles|\n",
      "|           PS|          West Bank |\n",
      "+-------------+--------------------+\n",
      "\n"
     ]
    }
   ],
   "source": [
    "join_expr = f.trim(df_country_codes[\"code_name\"]) == f.trim(df_countries[\"country_name\"])\n",
    "df_codes_in_countries = df_country_codes.join(df_countries.where(\"parent_country_id is null\"), join_expr, \"outer\") \\\n",
    "                                        .withColumn(\"iso2_code_tmp\", \\\n",
    "                                           f.when(f.trim(f.col(\"country_name\")) == 'Gaza Strip', 'PS') \\\n",
    "                                            .when(f.trim(f.col(\"country_name\")) == 'West Bank', 'PS') \\\n",
    "                                            .otherwise(f.col(\"iso2_code\"))) \\\n",
    "                                        .withColumn(\"country_name_tmp\", \\\n",
    "                                           f.when(f.trim(f.col(\"iso2_code\")) == 'BQ', 'Netherlands Antilles') \\\n",
    "                                            .when(f.trim(f.col(\"iso2_code\")) == 'CW', 'Netherlands Antilles') \\\n",
    "                                            .when(f.trim(f.col(\"iso2_code\")) == 'SX', 'Netherlands Antilles') \\\n",
    "                                            .otherwise(f.col(\"country_name\"))) \\\n",
    "                                        .select(\"iso2_code_tmp\", \"country_name_tmp\") \\\n",
    "                                        .where(\"country_name_tmp is not null\") \\\n",
    "                                        .where(\"iso2_code_tmp is not null\")\n",
    "\n",
    "# Check results\n",
    "df_codes_in_countries.where(\"iso2_code_tmp in ('BQ', 'CW', 'SX', 'PS')\").show()"
   ]
  },
  {
   "cell_type": "markdown",
   "id": "a3a68f24",
   "metadata": {},
   "source": [
    "Add ID, Country ID, Country Code ID"
   ]
  },
  {
   "cell_type": "code",
   "execution_count": 61,
   "id": "b486be60",
   "metadata": {},
   "outputs": [],
   "source": [
    "join_expr = f.trim(df_codes_in_countries[\"iso2_code_tmp\"]) == f.trim(df_country_codes[\"iso2_code\"])\n",
    "join_expr1 = f.trim(df_codes_in_countries[\"country_name_tmp\"]) == f.trim(df_countries[\"country_name\"])\n",
    "\n",
    "# df_cc_tmp will be used in the section Cities\n",
    "df_cc_tmp = df_codes_in_countries.join(df_country_codes, join_expr, \"inner\") \\\n",
    "                                 .join(df_countries, join_expr1, \"inner\")\n",
    "\n",
    "df_codes_in_countries = df_cc_tmp.sort(\"country_code_id\") \\\n",
    "                                 .withColumn(\"code_in_country_id\", f.monotonically_increasing_id()) \\\n",
    "                                 .select(\"code_in_country_id\", \"country_code_id\", \"country_id\")"
   ]
  },
  {
   "cell_type": "markdown",
   "id": "4439cd27",
   "metadata": {},
   "source": [
    "Check dataframe"
   ]
  },
  {
   "cell_type": "code",
   "execution_count": 62,
   "id": "5e8cf4ee",
   "metadata": {},
   "outputs": [
    {
     "name": "stdout",
     "output_type": "stream",
     "text": [
      "+------------------+---------------+----------+\n",
      "|code_in_country_id|country_code_id|country_id|\n",
      "+------------------+---------------+----------+\n",
      "|0                 |0              |0         |\n",
      "|1                 |1              |1         |\n",
      "|2                 |2              |2         |\n",
      "+------------------+---------------+----------+\n",
      "only showing top 3 rows\n",
      "\n"
     ]
    }
   ],
   "source": [
    "df_codes_in_countries.show(3,False)"
   ]
  },
  {
   "cell_type": "code",
   "execution_count": null,
   "id": "2623743c",
   "metadata": {},
   "outputs": [],
   "source": [
    "# Save to hive - hadoop\n",
    "# df_codes_in_countries.write.format(\"parquet\").mode(\"overwrite\").saveAsTable(\"whdb.codes_in_countries\")"
   ]
  },
  {
   "cell_type": "markdown",
   "id": "3411d390",
   "metadata": {},
   "source": [
    "## Cities table\n",
    "Contains a list of all cities. Created from the original Cities dataset.\n",
    "All cities in the Nobel Laureate dataset exist in the Cities dataset. No need to load additional cities."
   ]
  },
  {
   "cell_type": "markdown",
   "id": "ce8af5ae",
   "metadata": {},
   "source": [
    "### Create Cities dataset, add Country ID\n",
    "Use the temp dataset Code in Countries because the list of countries in the Cities dataset is very similar to ISO2 codes"
   ]
  },
  {
   "cell_type": "markdown",
   "id": "60d171cf",
   "metadata": {},
   "source": [
    "Prepare a temp dataframe with codes in countries to join."
   ]
  },
  {
   "cell_type": "code",
   "execution_count": 63,
   "id": "84f706c4",
   "metadata": {},
   "outputs": [],
   "source": [
    "df_cc_tmp = df_cc_tmp.withColumn(\"iso2_code\", f.lower(f.col(\"iso2_code\"))) \\\n",
    "                     .select(\"iso2_code\", \"country_name\", \"country_id\")"
   ]
  },
  {
   "cell_type": "markdown",
   "id": "188705a8",
   "metadata": {},
   "source": [
    "Check the list of countries in the original Cities dataset - look for values that are not in the Country Code dataset."
   ]
  },
  {
   "cell_type": "code",
   "execution_count": 64,
   "id": "2faa851a",
   "metadata": {},
   "outputs": [
    {
     "name": "stdout",
     "output_type": "stream",
     "text": [
      "+-------+\n",
      "|Country|\n",
      "+-------+\n",
      "|     zr|\n",
      "|     an|\n",
      "+-------+\n",
      "\n"
     ]
    }
   ],
   "source": [
    "join_expr = f.trim(df_cities_orig[\"Country\"]) == f.trim(df_cc_tmp[\"iso2_code\"])\n",
    "df_tmp = df_cities_orig.join(df_cc_tmp, join_expr, \"left_anti\").select(\"Country\").distinct()\n",
    "df_tmp.show()"
   ]
  },
  {
   "cell_type": "markdown",
   "id": "7460676c",
   "metadata": {},
   "source": [
    "Country 'zr' is 'Democratic Republic of the Congo', country code = 'CD'<br>\n",
    "Country 'an' is 'Netherlands Antilles' with country codes = 'BQ', 'CW', 'SX'<br>"
   ]
  },
  {
   "cell_type": "markdown",
   "id": "7731f090",
   "metadata": {},
   "source": [
    "Check the cities with country codes 'zr' and 'cd' in the original dataset."
   ]
  },
  {
   "cell_type": "code",
   "execution_count": 65,
   "id": "c2023d72",
   "metadata": {},
   "outputs": [
    {
     "data": {
      "text/plain": [
       "0"
      ]
     },
     "execution_count": 65,
     "metadata": {},
     "output_type": "execute_result"
    }
   ],
   "source": [
    "df_tmp1 = df_cities_orig.where(\"Country = 'zr'\") \\\n",
    "                        .withColumn(\"City_zr\", \\\n",
    "                           (f.concat(f.col(\"City\"),f.lit('_'),f.col(\"AccentCity\"),f.lit('_'),f.col(\"Region\")))) \\\n",
    "                        .select(\"City_zr\")\n",
    "df_tmp2 = df_cities_orig.where(\"Country = 'cd'\") \\\n",
    "                        .withColumn(\"City_cd\", \\\n",
    "                           (f.concat(f.col(\"City\"),f.lit('_'),f.col(\"AccentCity\"),f.lit('_'),f.col(\"Region\")))) \\\n",
    "                        .select(\"City_cd\")\n",
    "\n",
    "join_expr = f.trim(df_tmp1[\"City_zr\"]) == f.trim(df_tmp2[\"City_cd\"])\n",
    "df_tmp = df_tmp1.join(df_tmp2, join_expr, \"left_anti\")\n",
    "\n",
    "df_tmp.count()"
   ]
  },
  {
   "cell_type": "markdown",
   "id": "2e417b5e",
   "metadata": {},
   "source": [
    "Lists of cities in countries with codes 'zr' and 'cd' are identical.\n",
    "Delete records with country = 'zr'"
   ]
  },
  {
   "cell_type": "code",
   "execution_count": 66,
   "id": "b659670b",
   "metadata": {},
   "outputs": [],
   "source": [
    "df_cities = df_cities_orig.where(\"Country != 'zr'\")"
   ]
  },
  {
   "cell_type": "markdown",
   "id": "da5fc1ca",
   "metadata": {},
   "source": [
    "Check if there are cities in the Netherlands Antilles with country codes \"bq\", \"cw\", \"sx\""
   ]
  },
  {
   "cell_type": "code",
   "execution_count": 67,
   "id": "f2efe279",
   "metadata": {},
   "outputs": [
    {
     "name": "stdout",
     "output_type": "stream",
     "text": [
      "+-------+----+----------+------+----------+--------+---------+-------+\n",
      "|Country|City|AccentCity|Region|Population|Latitude|Longitude|CityUpd|\n",
      "+-------+----+----------+------+----------+--------+---------+-------+\n",
      "+-------+----+----------+------+----------+--------+---------+-------+\n",
      "\n"
     ]
    }
   ],
   "source": [
    "df_cities.where(\"Country in ('bq', 'cw', 'sx')\").show()"
   ]
  },
  {
   "cell_type": "markdown",
   "id": "807b12c0",
   "metadata": {},
   "source": [
    "There are no Cities.<br>\n",
    "Update the temp Code in the Country dataset - change the codes 'bq', 'cw', 'sx' to 'an', group it into one record"
   ]
  },
  {
   "cell_type": "code",
   "execution_count": 68,
   "id": "77a4b907",
   "metadata": {},
   "outputs": [
    {
     "name": "stdout",
     "output_type": "stream",
     "text": [
      "+---------+---------------------+----------+\n",
      "|iso2_code|country_name         |country_id|\n",
      "+---------+---------------------+----------+\n",
      "|an       |Netherlands Antilles |155       |\n",
      "+---------+---------------------+----------+\n",
      "\n"
     ]
    }
   ],
   "source": [
    "df_cc_tmp = df_cc_tmp.withColumn(\"iso2_code\", f.when(f.col(\"iso2_code\") == 'bq', 'an') \\\n",
    "                                               .when(f.col(\"iso2_code\") == 'cw', 'an') \\\n",
    "                                               .when(f.col(\"iso2_code\") == 'sx', 'an') \\\n",
    "                                               .otherwise(f.col(\"iso2_code\"))) \\\n",
    "                     .distinct()\n",
    "\n",
    "# Check results\n",
    "df_cc_tmp.where(\"iso2_code = 'an'\").show(5,False)"
   ]
  },
  {
   "cell_type": "markdown",
   "id": "50191a6f",
   "metadata": {},
   "source": [
    "Check for duplicate country codes in the temp Code in Country dataframe - code 'ps'"
   ]
  },
  {
   "cell_type": "code",
   "execution_count": 69,
   "id": "2d981c9a",
   "metadata": {},
   "outputs": [
    {
     "name": "stdout",
     "output_type": "stream",
     "text": [
      "+---------+-----+\n",
      "|iso2_code|count|\n",
      "+---------+-----+\n",
      "|       ps|    2|\n",
      "+---------+-----+\n",
      "\n",
      "+---------+------------+----------+\n",
      "|iso2_code|country_name|country_id|\n",
      "+---------+------------+----------+\n",
      "|       ps|  West Bank |       244|\n",
      "|       ps| Gaza Strip |        79|\n",
      "+---------+------------+----------+\n",
      "\n"
     ]
    }
   ],
   "source": [
    "df_cc_tmp.groupBy(\"iso2_code\").count().where(\"count > 1\").show()\n",
    "df_cc_tmp.where(\"iso2_code = 'ps'\").show()"
   ]
  },
  {
   "cell_type": "markdown",
   "id": "84572618",
   "metadata": {},
   "source": [
    "Country 'ps' has 2 records in the Countries dataframe: 'West Bank' and 'Gaza Strip'<br>\n",
    "Separate the codes in the temp Codes in Countries dataframe"
   ]
  },
  {
   "cell_type": "code",
   "execution_count": 70,
   "id": "255e5f99",
   "metadata": {},
   "outputs": [
    {
     "name": "stdout",
     "output_type": "stream",
     "text": [
      "+---------+------------+----------+\n",
      "|iso2_code|country_name|country_id|\n",
      "+---------+------------+----------+\n",
      "|    ps_wb|  West Bank |       244|\n",
      "|    ps_gs| Gaza Strip |        79|\n",
      "+---------+------------+----------+\n",
      "\n"
     ]
    }
   ],
   "source": [
    "df_cc_tmp = df_cc_tmp.withColumn(\"iso2_code\", f.when(f.trim(f.col(\"country_name\")) == 'West Bank', 'ps_wb') \\\n",
    "                                               .when(f.trim(f.col(\"country_name\")) == 'Gaza Strip', 'ps_gs') \\\n",
    "                                               .otherwise(f.col(\"iso2_code\")))\n",
    "\n",
    "# Check results\n",
    "df_cc_tmp.where(\"iso2_code like 'ps%'\").show()"
   ]
  },
  {
   "cell_type": "markdown",
   "id": "a32678a5",
   "metadata": {},
   "source": [
    "Divide the codes in the original Cities dataframe by longitude."
   ]
  },
  {
   "cell_type": "code",
   "execution_count": 71,
   "id": "7d0903d8",
   "metadata": {},
   "outputs": [
    {
     "name": "stdout",
     "output_type": "stream",
     "text": [
      "+---------------+----------+------------------+\n",
      "|AccentCity     |CountryUpd|Longitude         |\n",
      "+---------------+----------+------------------+\n",
      "|Abasan         |ps_gs     |34.346111         |\n",
      "|Abasan al Kabir|ps_gs     |34.346111         |\n",
      "|Abasân el-Kabîr|ps_gs     |34.346111         |\n",
      "|Abu al `Ajaj   |ps_wb     |35.488333000000004|\n",
      "|`Abud          |ps_wb     |35.066944         |\n",
      "+---------------+----------+------------------+\n",
      "only showing top 5 rows\n",
      "\n"
     ]
    }
   ],
   "source": [
    "df_cities = df_cities.withColumn(\"CountryUpd\", \n",
    "                        f.when((f.col(\"Country\") == 'ps') & (f.col(\"Longitude\") <= 34.8), 'ps_gs') \\\n",
    "                         .when((f.col(\"Country\") == 'ps') & (f.col(\"Longitude\") > 34.8), 'ps_wb') \\\n",
    "                         .otherwise(f.col(\"Country\")))\n",
    "\n",
    "# Check results\n",
    "df_cities.where(\"Country = 'ps'\").select(\"AccentCity\", \"CountryUpd\", \"Longitude\").show(5,False)"
   ]
  },
  {
   "cell_type": "markdown",
   "id": "dec074f2",
   "metadata": {},
   "source": [
    "Join dataframes - add a Country ID to the Cities dataframe"
   ]
  },
  {
   "cell_type": "code",
   "execution_count": 72,
   "id": "4a05b674",
   "metadata": {},
   "outputs": [
    {
     "name": "stdout",
     "output_type": "stream",
     "text": [
      "Count or City records before join =  3150946\n",
      "Count or City records after join =  3150946\n"
     ]
    }
   ],
   "source": [
    "# Check count of records in the Cities dataset before join\n",
    "print(\"Count or City records before join = \", df_cities.count())\n",
    "\n",
    "# Join dataframes\n",
    "join_expr = f.trim(df_cities[\"CountryUpd\"]) == f.trim(df_cc_tmp[\"iso2_code\"])\n",
    "df_cities = df_cities.join(df_cc_tmp, join_expr, \"left_outer\")\n",
    "\n",
    "# Check count of records in the Cities dataset after join\n",
    "print(\"Count or City records after join = \", df_cities.count())"
   ]
  },
  {
   "cell_type": "markdown",
   "id": "52357bb7",
   "metadata": {},
   "source": [
    "### Add ID, rename or delete columns"
   ]
  },
  {
   "cell_type": "code",
   "execution_count": 73,
   "id": "474b1e8d",
   "metadata": {},
   "outputs": [],
   "source": [
    "df_cities = df_cities.sort(\"country_id\", \"AccentCity\") \\\n",
    "                     .withColumn(\"city_id\", f.monotonically_increasing_id()) \\\n",
    "                     .withColumnRenamed(\"City\", \"city_name\") \\\n",
    "                     .withColumnRenamed(\"AccentCity\", \"accent_city_name\") \\\n",
    "                     .withColumnRenamed(\"Region\", \"city_region\") \\\n",
    "                     .withColumnRenamed(\"Population\", \"population\") \\\n",
    "                     .withColumnRenamed(\"Latitude\", \"latitude\") \\\n",
    "                     .withColumnRenamed(\"Longitude\", \"longitude\") \\\n",
    "                     .select(\"city_id\", \"city_name\", \"accent_city_name\", \"country_id\", \"city_region\", \"population\", \\\n",
    "                             \"latitude\", \"longitude\", \"CityUpd\", \"Country\")"
   ]
  },
  {
   "cell_type": "markdown",
   "id": "df2dfba1",
   "metadata": {},
   "source": [
    "Dataframe Cities completed.<br>\n",
    "The CityUpd and Country columns are required for future joining the Nobel Laureates data frame. It will be removed later.<br>\n",
    "Check dataframe:"
   ]
  },
  {
   "cell_type": "code",
   "execution_count": 74,
   "id": "7a2f600d",
   "metadata": {},
   "outputs": [
    {
     "name": "stdout",
     "output_type": "stream",
     "text": [
      "+-------+---------------+----------------+----------+-----------+----------+---------+---------+---------------+-------+\n",
      "|city_id|city_name      |accent_city_name|country_id|city_region|population|latitude |longitude|CityUpd        |Country|\n",
      "+-------+---------------+----------------+----------+-----------+----------+---------+---------+---------------+-------+\n",
      "|0      |\"dekh\"\"iykh'ya\"|\"Dekh\"\"iykh'ya\" |0         |13         |null      |34.60345 |69.2405  |\"Dekh\"\"iykh'ya\"|af     |\n",
      "|1      |\"dekh\"\"yak\"    |\"Dekh\"\"yak\"     |0         |10         |null      |32.739348|64.994051|\"Dekh\"\"yak\"    |af     |\n",
      "|2      |\"dekh\"\"yak\"    |\"Dekh\"\"yak\"     |0         |39         |null      |32.533033|65.892138|\"Dekh\"\"yak\"    |af     |\n",
      "+-------+---------------+----------------+----------+-----------+----------+---------+---------+---------------+-------+\n",
      "only showing top 3 rows\n",
      "\n"
     ]
    }
   ],
   "source": [
    "df_cities.show(3,False)"
   ]
  },
  {
   "cell_type": "code",
   "execution_count": null,
   "id": "ef6dc06a",
   "metadata": {},
   "outputs": [],
   "source": [
    "# Save to hive - hadoop\n",
    "# df_cities.write.format(\"parquet\").mode(\"overwrite\").saveAsTable(\"whdb.cities\")"
   ]
  },
  {
   "cell_type": "markdown",
   "id": "ab96b142",
   "metadata": {},
   "source": [
    "### Create a temp dataframe with a list of missing city names\n",
    "Creating a dataframe with mismatches in city names to join the dataframes of laureates persons and organizations"
   ]
  },
  {
   "cell_type": "code",
   "execution_count": 75,
   "id": "885e8899",
   "metadata": {},
   "outputs": [],
   "source": [
    "data = [{\"mis_city_name\": \"Casteldàwson\", \"orig_city_name\": \"Castledawson\", \"orig_region\": \"S7\", \"orig_country\": \"gb\"},\n",
    "{\"mis_city_name\": \"Grand Valley, CO\", \"orig_city_name\": \"Green Valley Acres\", \"orig_region\": \"CO\", \"orig_country\": \"us\"},\n",
    "{\"mis_city_name\": \"Yamanashi Prefecture\", \"orig_city_name\": \"Yamanashi\", \"orig_region\": \"37\", \"orig_country\": \"jp\"},\n",
    "{\"mis_city_name\": \"Amherst, NS\", \"orig_city_name\": \"Amherst\", \"orig_region\": \"07\", \"orig_country\": \"ca\"},\n",
    "{\"mis_city_name\": \"Champaign-Urbana, IL\", \"orig_city_name\": \"Champaign\", \"orig_region\": \"IL\", \"orig_country\": \"us\"},\n",
    "{\"mis_city_name\": \"Danzig (Gdansk)\", \"orig_city_name\": \"Danzig\", \"orig_region\": \"82\", \"orig_country\": \"pl\"},\n",
    "{\"mis_city_name\": \"Fleräng\", \"orig_city_name\": \"Uppsala\", \"orig_region\": \"21\", \"orig_country\": \"se\"},\n",
    "{\"mis_city_name\": \"Kattowitz (Katowice)\", \"orig_city_name\": \"Kattowitz\", \"orig_region\": \"83\", \"orig_country\": \"pl\"},\n",
    "{\"mis_city_name\": \"Hobart, Tasmania\", \"orig_city_name\": \"Hobart\", \"orig_region\": \"06\", \"orig_country\": \"au\"},\n",
    "{\"mis_city_name\": \"Leningrad (Saint Petersburg)\", \"orig_city_name\": \"Leningrad\", \"orig_region\": \"66\", \"orig_country\": \"ru\"},\n",
    "{\"mis_city_name\": \"Gaffken (Parusnoye)\", \"orig_city_name\": \"Gaffken\", \"orig_region\": \"23\", \"orig_country\": \"ru\"},\n",
    "{\"mis_city_name\": \"Rufford, near Chesterfield\", \"orig_city_name\": \"Rufford\", \"orig_region\": \"H2\", \"orig_country\": \"gb\"},\n",
    "{\"mis_city_name\": \"Goldschmieden, near Breslau\", \"orig_city_name\": \"Breslau\", \"orig_region\": \"72\", \"orig_country\": \"pl\"},\n",
    "{\"mis_city_name\": \"Kibbutz Sde-Nahum\", \"orig_city_name\": \"Sede Nahum\", \"orig_region\": \"03\", \"orig_country\": \"il\"},\n",
    "{\"mis_city_name\": \"Hansdorf (Lawice)\", \"orig_city_name\": \"Hansdorf\", \"orig_region\": \"85\", \"orig_country\": \"pl\"},\n",
    "{\"mis_city_name\": \"Toyama City\", \"orig_city_name\": \"Toyama\", \"orig_region\": \"08\", \"orig_country\": \"jp\"},\n",
    "{\"mis_city_name\": \"St. Petersburg\", \"orig_city_name\": \"Sankt-Peterburg\", \"orig_region\": \"66\", \"orig_country\": \"ru\"},\n",
    "{\"mis_city_name\": \"Aldea Chimel\", \"orig_city_name\": \"Chimel\", \"orig_region\": \"01\", \"orig_country\": \"gt\"},\n",
    "{\"mis_city_name\": \"Vicuña\", \"orig_city_name\": \"Vicuna\", \"orig_region\": \"07\", \"orig_country\": \"cl\"},\n",
    "{\"mis_city_name\": \"Dippenhall\", \"orig_city_name\": \"Farnham\", \"orig_region\": \"E4\", \"orig_country\": \"gb\"},\n",
    "{\"mis_city_name\": \"Königshütte (Chorzów)\", \"orig_city_name\": \"Königshütte\", \"orig_region\": \"14\", \"orig_country\": \"de\"},\n",
    "{\"mis_city_name\": \"Skedsmo\", \"orig_city_name\": \"Skedsmokorset\", \"orig_region\": \"01\", \"orig_country\": \"no\"},\n",
    "{\"mis_city_name\": \"Kingston, ON\", \"orig_city_name\": \"Kingston\", \"orig_region\": \"08\", \"orig_country\": \"ca\"},\n",
    "{\"mis_city_name\": \"Leggiuno-Sangiano\", \"orig_city_name\": \"Varese\", \"orig_region\": \"09\", \"orig_country\": \"it\"},\n",
    "{\"mis_city_name\": \"Taktser\", \"orig_city_name\": \"Qinghaihu\", \"orig_region\": \"06\", \"orig_country\": \"cn\"},\n",
    "{\"mis_city_name\": \"Gränichen\", \"orig_city_name\": \"Granichen\", \"orig_region\": \"01\", \"orig_country\": \"ch\"},\n",
    "{\"mis_city_name\": \"Neisse (Nysa)\", \"orig_city_name\": \"Neisse\", \"orig_region\": \"79\", \"orig_country\": \"pl\"},\n",
    "{\"mis_city_name\": \"St. Columb Minor\", \"orig_city_name\": \"Saint Columb Minor\", \"orig_region\": \"C6\", \"orig_country\": \"gb\"},\n",
    "{\"mis_city_name\": \"Zelvas\", \"orig_city_name\": \"Zelva\", \"orig_region\": \"60\", \"orig_country\": \"lt\"},\n",
    "{\"mis_city_name\": \"Olympus, TN\", \"orig_city_name\": \"Byrdstown\", \"orig_region\": \"TN\", \"orig_country\": \"us\"},\n",
    "{\"mis_city_name\": \"Sorau (Zory)\", \"orig_city_name\": \"Sorau in Nieder Lausitz\", \"orig_region\": \"76\", \"orig_country\": \"pl\"},\n",
    "{\"mis_city_name\": \"Gjesdal\", \"orig_city_name\": \"Ålgård\", \"orig_region\": \"14\", \"orig_country\": \"no\"},\n",
    "{\"mis_city_name\": \"Viipuri (Vyborg)\", \"orig_city_name\": \"Viipuri\", \"orig_region\": \"42\", \"orig_country\": \"ru\"},\n",
    "{\"mis_city_name\": \"Kvikne\", \"orig_city_name\": \"Kviknepladsen\", \"orig_region\": \"06\", \"orig_country\": \"no\"},\n",
    "{\"mis_city_name\": \"Nuoro, Sardinia\", \"orig_city_name\": \"Nuoro\", \"orig_region\": \"14\", \"orig_country\": \"it\"},\n",
    "{\"mis_city_name\": \"Priluka (Nova Pryluka)\", \"orig_city_name\": \"Priluka Novaya\", \"orig_region\": \"23\", \"orig_country\": \"ua\"},\n",
    "{\"mis_city_name\": \"Laibach (Ljubljana)\", \"orig_city_name\": \"Laibach\", \"orig_region\": \"04\", \"orig_country\": \"si\"},\n",
    "{\"mis_city_name\": \"Smyrna (Izmir)\", \"orig_city_name\": \"Smyrna\", \"orig_region\": \"35\", \"orig_country\": \"tr\"},\n",
    "{\"mis_city_name\": \"Mexico City\", \"orig_city_name\": \"Mexico\", \"orig_region\": \"09\", \"orig_country\": \"mx\"},\n",
    "{\"mis_city_name\": \"Timmins, ON\", \"orig_city_name\": \"Timmins\", \"orig_region\": \"08\", \"orig_country\": \"ca\"},\n",
    "{\"mis_city_name\": \"San José, CA\", \"orig_city_name\": \"San Jose\", \"orig_region\": \"CA\", \"orig_country\": \"us\"},\n",
    "{\"mis_city_name\": \"Jamaica Plain, MA (Boston)\", \"orig_city_name\": \"Jamaica Plain\", \"orig_region\": \"MA\", \"orig_country\": \"us\"},\n",
    "{\"mis_city_name\": \"Nitzkydorf, Banat\", \"orig_city_name\": \"Nitzkydorf\", \"orig_region\": \"36\", \"orig_country\": \"ro\"},\n",
    "{\"mis_city_name\": \"Waltersdorf (Niegoslawice)\", \"orig_city_name\": \"Waltersdorf\", \"orig_region\": \"76\", \"orig_country\": \"pl\"},\n",
    "{\"mis_city_name\": \"Agrigento, Sicily\", \"orig_city_name\": \"Agrigento\", \"orig_region\": \"15\", \"orig_country\": \"it\"},\n",
    "{\"mis_city_name\": \"Medicine Hat, Alberta\", \"orig_city_name\": \"Medicine Hat\", \"orig_region\": \"01\", \"orig_country\": \"ca\"},\n",
    "{\"mis_city_name\": \"&#346;eteniai\", \"orig_city_name\": \"Kedainiai\", \"orig_region\": \"60\", \"orig_country\": \"lt\"},\n",
    "{\"mis_city_name\": \"Kharkov (Kharkiv)\", \"orig_city_name\": \"Kharkov\", \"orig_region\": \"07\", \"orig_country\": \"ua\"},\n",
    "{\"mis_city_name\": \"Wailacama\", \"orig_city_name\": \"Dukuh Kupang Timur\", \"orig_region\": \"08\", \"orig_country\": \"id\"},\n",
    "{\"mis_city_name\": \"Pressburg (Bratislava)\", \"orig_city_name\": \"Pressburg\", \"orig_region\": \"02\", \"orig_country\": \"sk\"},\n",
    "{\"mis_city_name\": \"Lennep (Remscheid)\", \"orig_city_name\": \"Lennep\", \"orig_region\": \"07\", \"orig_country\": \"de\"},\n",
    "{\"mis_city_name\": \"Higashimatsuyama\", \"orig_city_name\": \"Higashi-Matsuyama\", \"orig_region\": \"34\", \"orig_country\": \"jp\"},\n",
    "{\"mis_city_name\": \"Nam Ha province\", \"orig_city_name\": \"Phu Ly\", \"orig_region\": \"80\", \"orig_country\": \"vn\"},\n",
    "{\"mis_city_name\": \"Cheetham Hill, near Manchester  \", \"orig_city_name\": \"Manchester\", \"orig_region\": \"I2\", \"orig_country\": \"gb\"},\n",
    "{\"mis_city_name\": \"Kingston Hill\", \"orig_city_name\": \"London\", \"orig_region\": \"H9\", \"orig_country\": \"gb\"},\n",
    "{\"mis_city_name\": \"Hofei, Anhwei\", \"orig_city_name\": \"Hefei\", \"orig_region\": \"01\", \"orig_country\": \"cn\"},\n",
    "{\"mis_city_name\": \"St. Louis, MO\", \"orig_city_name\": \"Saint Louis\", \"orig_region\": \"MO\", \"orig_country\": \"us\"},\n",
    "{\"mis_city_name\": \"Dabrovica\", \"orig_city_name\": \"Dabrowica\", \"orig_region\": \"77\", \"orig_country\": \"pl\"},\n",
    "{\"mis_city_name\": \"Mount Verno, NY\", \"orig_city_name\": \"Mount Vernon\", \"orig_region\": \"NY\", \"orig_country\": \"us\"},\n",
    "{\"mis_city_name\": \"Ta'izz\", \"orig_city_name\": \"Taiz\", \"orig_region\": \"11\", \"orig_country\": \"ye\"},\n",
    "{\"mis_city_name\": \"Mit Abu al-Kawm\", \"orig_city_name\": \"Mit Abu al Kawm\", \"orig_region\": \"09\", \"orig_country\": \"eg\"},\n",
    "{\"mis_city_name\": \"Chidambaram, Tamil Nadu\", \"orig_city_name\": \"Chidambaram\", \"orig_region\": \"25\", \"orig_country\": \"in\"},\n",
    "{\"mis_city_name\": \"Tananarive (Antananarivo)\", \"orig_city_name\": \"Tananarive\", \"orig_region\": \"05\", \"orig_country\": \"mg\"},\n",
    "{\"mis_city_name\": \"Frankfurt-on-the-Main\", \"orig_city_name\": \"Frankfurt am Main\", \"orig_region\": \"05\", \"orig_country\": \"de\"},\n",
    "{\"mis_city_name\": \"Hoechst\", \"orig_city_name\": \"Frankfurt am Main\", \"orig_region\": \"05\", \"orig_country\": \"de\"},\n",
    "{\"mis_city_name\": \"Jhang Maghi&#257;na\", \"orig_city_name\": \"Jhang\", \"orig_region\": \"12\", \"orig_country\": \"in\"},\n",
    "{\"mis_city_name\": \"Zhejiang Ningbo\", \"orig_city_name\": \"Ningbo\", \"orig_region\": \"14\", \"orig_country\": \"cn\"},\n",
    "{\"mis_city_name\": \"Wilno (Vilnius)\", \"orig_city_name\": \"Wilno\", \"orig_region\": \"65\", \"orig_country\": \"lt\"},\n",
    "{\"mis_city_name\": \"Langford Grove, Maldon, Essex\", \"orig_city_name\": \"Langford\", \"orig_region\": \"E4  \", \"orig_country\": \"gb\"},\n",
    "{\"mis_city_name\": \"Clausthal (Clausthal-Zellerfeld)\", \"orig_city_name\": \"Clausthal\", \"orig_region\": \"06\", \"orig_country\": \"de\"},\n",
    "{\"mis_city_name\": \"Strassburg (Strasbourg)\", \"orig_city_name\": \"Strassburg\", \"orig_region\": \"C1  \", \"orig_country\": \"fr\"},\n",
    "{\"mis_city_name\": \"Rangoon (Yangon)\", \"orig_city_name\": \"Rangoon\", \"orig_region\": \"17\", \"orig_country\": \"mm\"},\n",
    "{\"mis_city_name\": \"Strehlen (Strzelin)\", \"orig_city_name\": \"Strehlen\", \"orig_region\": \"72\", \"orig_country\": \"pl\"},\n",
    "{\"mis_city_name\": \"Buczacz (Buchach)\", \"orig_city_name\": \"Buczacz\", \"orig_region\": \"22\", \"orig_country\": \"ua\"},\n",
    "{\"mis_city_name\": \"Kalgoorlie\", \"orig_city_name\": \"Boulder\", \"orig_region\": \"08\", \"orig_country\": \"au\"},\n",
    "{\"mis_city_name\": \"Nizhny Tagil\", \"orig_city_name\": \"Nizhnii Tagil\", \"orig_region\": \"71\", \"orig_country\": \"ru\"},\n",
    "{\"mis_city_name\": \"Bremerhaven-Lehe\", \"orig_city_name\": \"Bremerhaven\", \"orig_region\": \"03\", \"orig_country\": \"de\"},\n",
    "{\"mis_city_name\": \"Corteno\", \"orig_city_name\": \"Brescia\", \"orig_region\": \"09\", \"orig_country\": \"it\"},\n",
    "{\"mis_city_name\": \"Windsor, ON\", \"orig_city_name\": \"Windsor\", \"orig_region\": \"08\", \"orig_country\": \"ca\"},\n",
    "{\"mis_city_name\": \"Bnin (Kórnik)\", \"orig_city_name\": \"Bnin\", \"orig_region\": \"86\", \"orig_country\": \"pl\"},\n",
    "{\"mis_city_name\": \"Iria Flavia\", \"orig_city_name\": \"Iria\", \"orig_region\": \"58\", \"orig_country\": \"es\"},\n",
    "{\"mis_city_name\": \"Breslau (Wroclaw)\", \"orig_city_name\": \"Breslau\", \"orig_region\": \"72\", \"orig_country\": \"pl\"},\n",
    "{\"mis_city_name\": \"Uskup (Skopje)\", \"orig_city_name\": \"Üsküp\", \"orig_region\": \"39\", \"orig_country\": \"tr\"},\n",
    "{\"mis_city_name\": \"Koenigsberg (Kaliningrad)\", \"orig_city_name\": \"Königsberg\", \"orig_region\": \"23\", \"orig_country\": \"ru\"},\n",
    "{\"mis_city_name\": \"Reykjavik\", \"orig_city_name\": \"Reykjavík\", \"orig_region\": \"10\", \"orig_country\": \"is\"},\n",
    "{\"mis_city_name\": \"Petilla de Aragó\", \"orig_city_name\": \"Petilla de Aragón\", \"orig_region\": \"32\", \"orig_country\": \"es\"},\n",
    "{\"mis_city_name\": \"'s Graveland\", \"orig_city_name\": \"'s-Graveland\", \"orig_region\": \"07\", \"orig_country\": \"nl\"},\n",
    "{\"mis_city_name\": \"Zloczov\", \"orig_city_name\": \"Zloczow\", \"orig_region\": \"15\", \"orig_country\": \"ua\"},\n",
    "{\"mis_city_name\": \"Vishneva\", \"orig_city_name\": \"Wisniowa\", \"orig_region\": \"77\", \"orig_country\": \"pl\"},\n",
    "{\"mis_city_name\": \"St. Paul, MN\", \"orig_city_name\": \"Saint Paul\", \"orig_region\": \"MN\", \"orig_country\": \"us\"},\n",
    "{\"mis_city_name\": \"Kristiania (Oslo)\", \"orig_city_name\": \"Kristiania\", \"orig_region\": \"12\", \"orig_country\": \"no\"},\n",
    "{\"mis_city_name\": \"Rendcombe\", \"orig_city_name\": \"Cirencester\", \"orig_region\": \"E6\", \"orig_country\": \"gb\"},\n",
    "{\"mis_city_name\": \"Vitebsk, Belorussia\", \"orig_city_name\": \"Vitebsk\", \"orig_region\": \"07\", \"orig_country\": \"by\"},\n",
    "{\"mis_city_name\": \"Mürzzuschlag\", \"orig_city_name\": \"Murzzuschlag\", \"orig_region\": \"06\", \"orig_country\": \"at\"},\n",
    "{\"mis_city_name\": \"Val di Castello\", \"orig_city_name\": \"Pietrasanta\", \"orig_region\": \"16\", \"orig_country\": \"it\"},\n",
    "{\"mis_city_name\": \"Glencorse\", \"orig_city_name\": \"Midlothian\", \"orig_region\": \"V5\", \"orig_country\": \"gb\"},\n",
    "{\"mis_city_name\": \"Strelno (Strzelno)\", \"orig_city_name\": \"Strelno\", \"orig_region\": \"73\", \"orig_country\": \"pl\"},\n",
    "{\"mis_city_name\": \"Lochfield\", \"orig_city_name\": \"Lichfield\", \"orig_region\": \"N1\", \"orig_country\": \"gb\"},\n",
    "{\"mis_city_name\": \"the Hague\", \"orig_city_name\": \"The Hague\", \"orig_region\": \"11\", \"orig_country\": \"nl\"},\n",
    "{\"mis_city_name\": \"Ivano-Frankivsk\", \"orig_city_name\": \"IvanoFrankivsk\", \"orig_region\": \"06\", \"orig_country\": \"ua\"},\n",
    "{\"mis_city_name\": \"Victoria, BC\", \"orig_city_name\": \"Victoria\", \"orig_region\": \"02\", \"orig_country\": \"ca\"},\n",
    "{\"mis_city_name\": \"Lethbridge, Alberta\", \"orig_city_name\": \"Lethbridge\", \"orig_region\": \"01\", \"orig_country\": \"ca\"},\n",
    "{\"mis_city_name\": \"Wickenberg, AZ\", \"orig_city_name\": \"Wickenburg\", \"orig_region\": \"AZ\", \"orig_country\": \"us\"},\n",
    "{\"mis_city_name\": \"Grantchester\", \"orig_city_name\": \"Cambridgeshire\", \"orig_region\": \"C3\", \"orig_country\": \"gb\"},\n",
    "{\"mis_city_name\": \"Wakulla Springs State Park, FL  \", \"orig_city_name\": \"Wakulla Springs\", \"orig_region\": \"FL\", \"orig_country\": \"us\"},\n",
    "{\"mis_city_name\": \"Presqu'île-de-Giens\", \"orig_city_name\": \"Giens\", \"orig_region\": \"B8\", \"orig_country\": \"fr\"},\n",
    "{\"mis_city_name\": \"Newfoundland\", \"orig_city_name\": \"Saint John's\", \"orig_region\": \"05\", \"orig_country\": \"ca\"},\n",
    "{\"mis_city_name\": \"New Jersey, NJ\", \"orig_city_name\": \"Jersey City\", \"orig_region\": \"NJ\", \"orig_country\": \"us\"},\n",
    "{\"mis_city_name\": \"Penrhyndeudraeth\", \"orig_city_name\": \"Penrhyndeudreath\", \"orig_region\": \"Y2\", \"orig_country\": \"gb\"},\n",
    "{\"mis_city_name\": \"Perranarworthal\", \"orig_city_name\": \"County of Cornwall\", \"orig_region\": \"C6\", \"orig_country\": \"gb\"},\n",
    "{\"mis_city_name\": \"Llangarron\", \"orig_city_name\": \"Ross on Wye\", \"orig_region\": \"F7\", \"orig_country\": \"gb\"},\n",
    "{\"mis_city_name\": \"Kraków\", \"orig_city_name\": \"Krakow\", \"orig_region\": \"77\", \"orig_country\": \"pl\"},\n",
    "{\"mis_city_name\": \"Hamilton, Ontario\", \"orig_city_name\": \"Hamilton\", \"orig_region\": \"08\", \"orig_country\": \"ca\"},\n",
    "{\"mis_city_name\": \"Putney Heath\", \"orig_city_name\": \"London\", \"orig_region\": \"H9\", \"orig_country\": \"gb\"},\n",
    "{\"mis_city_name\": \"Shipston-on-Stour\", \"orig_city_name\": \"Shipston on Stour\", \"orig_region\": \"P3\", \"orig_country\": \"gb\"},\n",
    "{\"mis_city_name\": \"Brive-Corrèze\", \"orig_city_name\": \"Brive-la-Gaillarde\", \"orig_region\": \"B1\", \"orig_country\": \"fr\"},\n",
    "{\"mis_city_name\": \"Övralid\", \"orig_city_name\": \"Motala\", \"orig_region\": \"16\", \"orig_country\": \"se\"},\n",
    "{\"mis_city_name\": \"Bornheim-Merten\", \"orig_city_name\": \"Merten\", \"orig_region\": \"07\", \"orig_country\": \"de\"},\n",
    "{\"mis_city_name\": \"Truro, NS\", \"orig_city_name\": \"Truro\", \"orig_region\": \"07\", \"orig_country\": \"ca\"},\n",
    "{\"mis_city_name\": \"Waterford, CT\", \"orig_city_name\": \"New London\", \"orig_region\": \"CT\", \"orig_country\": \"us\"},\n",
    "{\"mis_city_name\": \"West Berlin\", \"orig_city_name\": \"Berlin\", \"orig_region\": \"16\", \"orig_country\": \"de\"},\n",
    "{\"mis_city_name\": \"Palma, Majorca\", \"orig_city_name\": \"Palma de Mallorca\", \"orig_region\": \"07\", \"orig_country\": \"es\"},\n",
    "{\"mis_city_name\": \"Ayot St. Lawrence\", \"orig_city_name\": \"Ayot Saint Lawrence\", \"orig_region\": \"F8\", \"orig_country\": \"gb\"},\n",
    "{\"mis_city_name\": \"Moffett Field, CA\", \"orig_city_name\": \"Santa Clara\", \"orig_region\": \"CA\", \"orig_country\": \"us\"},\n",
    "{\"mis_city_name\": \"Lewes, East Sussex\", \"orig_city_name\": \"Lewes\", \"orig_region\": \"E2\", \"orig_country\": \"gb\"},\n",
    "{\"mis_city_name\": \"Agnetendorf (Jagniatków)\", \"orig_city_name\": \"Jelenia Gora\", \"orig_region\": \"72\", \"orig_country\": \"pl\"},\n",
    "{\"mis_city_name\": \"Research Triangle Park, NC\", \"orig_city_name\": \"Raleigh\", \"orig_region\": \"NC\", \"orig_country\": \"us\"},\n",
    "{\"mis_city_name\": \"Bucksburn (Scotland)\", \"orig_city_name\": \"Bucksburn\", \"orig_region\": \"T5\", \"orig_country\": \"gb\"},\n",
    "{\"mis_city_name\": \"Lidingö-Stockholm\", \"orig_city_name\": \"Lidingö\", \"orig_region\": \"26\", \"orig_country\": \"se\"},\n",
    "{\"mis_city_name\": \"Breisgau\", \"orig_city_name\": \"Freiburg im Breisgau\", \"orig_region\": \"01\", \"orig_country\": \"de\"},\n",
    "{\"mis_city_name\": \"J&uuml;lich\", \"orig_city_name\": \"Jülich\", \"orig_region\": \"07\", \"orig_country\": \"de\"},\n",
    "{\"mis_city_name\": \"Mannheim-Rheinau\", \"orig_city_name\": \"Rheinau\", \"orig_region\": \"01\", \"orig_country\": \"de\"},\n",
    "{\"mis_city_name\": \"Sapporo\", \"orig_city_name\": \"Sapporo-shi\", \"orig_region\": \"12\", \"orig_country\": \"jp\"},\n",
    "{\"mis_city_name\": \"Berlin-Dahlem\", \"orig_city_name\": \"Dahlem\", \"orig_region\": \"16\", \"orig_country\": \"de\"},\n",
    "{\"mis_city_name\": \"Long Island, New York, NY\", \"orig_city_name\": \"Long Island City\", \"orig_region\": \"NY\", \"orig_country\": \"us\"},\n",
    "{\"mis_city_name\": \"Harwell, Berkshire\", \"orig_city_name\": \"Harwell\", \"orig_region\": \"K2\", \"orig_country\": \"gb\"},\n",
    "{\"mis_city_name\": \"Argonne, IL\", \"orig_city_name\": \"Lemont\", \"orig_region\": \"IL\", \"orig_country\": \"us\"},\n",
    "{\"mis_city_name\": \"Altenberg; Grünau im Almtal\", \"orig_city_name\": \"Altenberg\", \"orig_region\": \"04\", \"orig_country\": \"at\"},\n",
    "{\"mis_city_name\": \"Massachusetts, MA\", \"orig_city_name\": \"Boston\", \"orig_region\": \"MA\", \"orig_country\": \"us\"},\n",
    "{\"mis_city_name\": \"Mülheim/Ruhr\", \"orig_city_name\": \"Mülheim an der Ruhr\", \"orig_region\": \"07\", \"orig_country\": \"de\"},\n",
    "{\"mis_city_name\": \"Rüschlikon\", \"orig_city_name\": \"Zurich\", \"orig_region\": \"25\", \"orig_country\": \"ch\"},    \n",
    "{\"mis_city_name\": \"Kyoto\", \"orig_city_name\": \"Kyoto-shi\", \"orig_region\": \"22\", \"orig_country\": \"jp\"},\n",
    "{\"mis_city_name\": \"Guebwiller\", \"orig_city_name\": \"Guebwiller\", \"orig_region\": \"C1\", \"orig_country\": \"fr\"},\n",
    "{\"mis_city_name\": \"Lahore\", \"orig_city_name\": \"Lahore\", \"orig_region\": \"02\", \"orig_country\": \"pk\"},\n",
    "{\"mis_city_name\": \"Thorshavn\", \"orig_city_name\": \"Thorshavn\", \"orig_region\": \"00\", \"orig_country\": \"fo\"},\n",
    "{\"mis_city_name\": \"Cluny\", \"orig_city_name\": \"Offord Cluny\", \"orig_region\": \"C3\", \"orig_country\": \"gb\"},\n",
    "{\"mis_city_name\": \"Lagow\", \"orig_city_name\": \"Lagow\", \"orig_region\": \"72\", \"orig_country\": \"pl\"},\n",
    "{\"mis_city_name\": \"Neuchâtel\", \"orig_city_name\": \"Neuchâtel\", \"orig_region\": \"A6\", \"orig_country\": \"fr\"},\n",
    "{\"mis_city_name\": \"Kaysersberg\", \"orig_city_name\": \"Kaysersberg\", \"orig_region\": \"C1\", \"orig_country\": \"fr\"},\n",
    "{\"mis_city_name\": \"Dili\", \"orig_city_name\": \"Dukuh Kupang Timur\", \"orig_region\": \"08\", \"orig_country\": \"id\"},\n",
    "{\"mis_city_name\": \"Bad Salzbrunn\", \"orig_city_name\": \"Bad Salzbrunn\", \"orig_region\": \"72\", \"orig_country\": \"pl\"},\n",
    "{\"mis_city_name\": \"San Juan\", \"orig_city_name\": \"San Juan\", \"orig_region\": \"PR\", \"orig_country\": \"us\"},\n",
    "{\"mis_city_name\": \"Lanzarote\", \"orig_city_name\": \"Arrecife\", \"orig_region\": \"53\", \"orig_country\": \"es\"},\n",
    "{\"mis_city_name\": \"Hong Kong\", \"orig_city_name\": \"Hong Kong\", \"orig_region\": \"00\", \"orig_country\": \"hk\"}]\n",
    "\n",
    "df_tmp_mis_cities = sp.createDataFrame(data)"
   ]
  },
  {
   "cell_type": "code",
   "execution_count": 76,
   "id": "b1f543c0",
   "metadata": {},
   "outputs": [],
   "source": [
    "join_expr = (f.trim(df_tmp_mis_cities[\"orig_city_name\"]) == f.trim(df_cities[\"accent_city_name\"])) \\\n",
    "            & (f.trim(df_tmp_mis_cities[\"orig_region\"]) == f.trim(df_cities[\"city_region\"])) \\\n",
    "            & (f.trim(df_tmp_mis_cities[\"orig_country\"]) == f.trim(df_cities[\"Country\"]))\n",
    "\n",
    "df_tmp_mis_cities = df_tmp_mis_cities.join(df_cities, join_expr, \"left_outer\") \\\n",
    "                                     .select(\"city_id\", \"mis_city_name\", \"orig_city_name\", \"orig_region\", \"orig_country\") \\\n",
    "                                     .sort(\"city_id\")"
   ]
  },
  {
   "cell_type": "markdown",
   "id": "b08621ca",
   "metadata": {},
   "source": [
    "## Societies table\n",
    "Contains a list of Societies: laureates with laureate type = \"Organization\""
   ]
  },
  {
   "cell_type": "markdown",
   "id": "26a5d675",
   "metadata": {},
   "source": [
    "Check the Laureate ID column: check that 1 laureate ID matches 1 laureate name"
   ]
  },
  {
   "cell_type": "code",
   "execution_count": 77,
   "id": "13066ed2",
   "metadata": {},
   "outputs": [
    {
     "name": "stdout",
     "output_type": "stream",
     "text": [
      "+-----------+-----+\n",
      "|Laureate ID|count|\n",
      "+-----------+-----+\n",
      "+-----------+-----+\n",
      "\n"
     ]
    }
   ],
   "source": [
    "df_nobel_orig.select(\"Laureate ID\", \"Full Name\").distinct().sort(\"Laureate ID\") \\\n",
    "             .groupBy(\"Laureate ID\").count().where(\"count > 1\").show()"
   ]
  },
  {
   "cell_type": "markdown",
   "id": "0fe2bcec",
   "metadata": {},
   "source": [
    "1 ID - 1 Name. The original ID will be preserved for the Societies and Laureate Persons dataframes."
   ]
  },
  {
   "cell_type": "code",
   "execution_count": 78,
   "id": "c85bd9e8",
   "metadata": {},
   "outputs": [
    {
     "name": "stdout",
     "output_type": "stream",
     "text": [
      "+-----------+---------------------------------------------------------------------------------+\n",
      "|laureate_id|society_name                                                                     |\n",
      "+-----------+---------------------------------------------------------------------------------+\n",
      "|467        |Institut de droit international (Institute of International Law)                 |\n",
      "|477        |Bureau international permanent de la Paix (Permanent International Peace Bureau) |\n",
      "|482        |Comité international de la Croix Rouge (International Committee of the Red Cross)|\n",
      "+-----------+---------------------------------------------------------------------------------+\n",
      "only showing top 3 rows\n",
      "\n"
     ]
    }
   ],
   "source": [
    "df_societies = df_nobel_orig.withColumnRenamed(\"Laureate Type\", \"laureate_type\") \\\n",
    "                            .withColumnRenamed(\"Laureate ID\", \"laureate_id\") \\\n",
    "                            .withColumnRenamed(\"Full Name\", \"society_name\") \\\n",
    "                            .where(\"laureate_type = 'Organization'\") \\\n",
    "                            .select(\"laureate_id\", \"society_name\") \\\n",
    "                            .distinct() \\\n",
    "                            .sort(\"laureate_id\")\n",
    "    \n",
    "# Check results\n",
    "df_societies.show(3,False)"
   ]
  },
  {
   "cell_type": "code",
   "execution_count": null,
   "id": "30c9808f",
   "metadata": {},
   "outputs": [],
   "source": [
    "# Save to hive - hadoop\n",
    "# df_societies.write.format(\"parquet\").mode(\"overwrite\").saveAsTable(\"whdb.societies\")"
   ]
  },
  {
   "cell_type": "markdown",
   "id": "db333f05",
   "metadata": {},
   "source": [
    "## Laureate Persons table\n",
    "Contains a list of laureates persons: laureates with laureate type = \"Individual\"<br>\n",
    "The original ID will be preserved for the Societies and Laureate Persons tables."
   ]
  },
  {
   "cell_type": "code",
   "execution_count": 79,
   "id": "979f34d9",
   "metadata": {},
   "outputs": [],
   "source": [
    "df_laureates_persons = df_nobel_orig.withColumnRenamed(\"Laureate Type\", \"laureate_type\") \\\n",
    "                                    .withColumnRenamed(\"Laureate ID\", \"laureate_id\") \\\n",
    "                                    .withColumnRenamed(\"Full Name\", \"full_name\") \\\n",
    "                                    .withColumnRenamed(\"Birth Date\", \"birth_date\") \\\n",
    "                                    .withColumnRenamed(\"Birth City\", \"birth_city\") \\\n",
    "                                    .withColumnRenamed(\"Birth Country\", \"birth_country\") \\\n",
    "                                    .withColumnRenamed(\"Death Date\", \"death_date\") \\\n",
    "                                    .withColumnRenamed(\"Death City\", \"death_city\") \\\n",
    "                                    .withColumnRenamed(\"Death Country\", \"death_country\") \\\n",
    "                                    .where(\"laureate_type = 'Individual'\") \\\n",
    "                                    .select(\"laureate_id\", \"full_name\", \"Sex\", \"birth_date\", \"birth_city\", \\\n",
    "                                            \"birth_country\", \"death_date\", \"death_city\", \"death_country\") \\\n",
    "                                    .distinct()"
   ]
  },
  {
   "cell_type": "markdown",
   "id": "9898edea",
   "metadata": {},
   "source": [
    "### Add Gender ID"
   ]
  },
  {
   "cell_type": "code",
   "execution_count": 80,
   "id": "fd234948",
   "metadata": {},
   "outputs": [],
   "source": [
    "join_expr = f.trim(df_laureates_persons[\"Sex\"]) == f.trim(df_genders[\"gender\"])\n",
    "df_laureates_persons = df_laureates_persons.join(df_genders, join_expr, \"left_outer\") \\\n",
    "                                           .select(\"laureate_id\", \"full_name\", \"gender_id\", \"birth_date\", \"birth_city\", \\\n",
    "                                                   \"birth_country\", \"death_date\", \"death_city\", \"death_country\")"
   ]
  },
  {
   "cell_type": "markdown",
   "id": "454d3001",
   "metadata": {},
   "source": [
    "### Add Birth Country ID"
   ]
  },
  {
   "cell_type": "code",
   "execution_count": 81,
   "id": "5ce878af",
   "metadata": {},
   "outputs": [],
   "source": [
    "join_expr = f.trim(df_laureates_persons[\"birth_country\"]) == f.trim(df_countries[\"country_name\"])\n",
    "df_laureates_persons = df_laureates_persons.join(df_countries, join_expr, \"left_outer\") \\\n",
    "                                           .withColumnRenamed(\"country_id\", \"birth_country_id\") \\\n",
    "                                           .withColumnRenamed(\"parent_country_id\", \"birth_parent_country_id\") \\\n",
    "                                           .select(\"laureate_id\", \"full_name\", \"gender_id\", \"birth_date\", \"birth_city\", \\\n",
    "                                                   \"birth_country_id\", \"death_date\", \"death_city\", \"death_country\", \\\n",
    "                                                   \"birth_country\", \"birth_parent_country_id\")"
   ]
  },
  {
   "cell_type": "code",
   "execution_count": 82,
   "id": "2d6676b8",
   "metadata": {},
   "outputs": [
    {
     "data": {
      "text/plain": [
       "0"
      ]
     },
     "execution_count": 82,
     "metadata": {},
     "output_type": "execute_result"
    }
   ],
   "source": [
    "# Check null values\n",
    "df_laureates_persons.where(\"birth_country_id is null and birth_country is not null\").count()"
   ]
  },
  {
   "cell_type": "markdown",
   "id": "c6905531",
   "metadata": {},
   "source": [
    "### Add Death Country ID"
   ]
  },
  {
   "cell_type": "code",
   "execution_count": 83,
   "id": "51baf371",
   "metadata": {},
   "outputs": [],
   "source": [
    "join_expr = f.trim(df_laureates_persons[\"death_country\"]) == f.trim(df_countries[\"country_name\"])\n",
    "df_laureates_persons = df_laureates_persons.join(df_countries, join_expr, \"left_outer\") \\\n",
    "                                           .withColumnRenamed(\"country_id\", \"death_country_id\") \\\n",
    "                                           .withColumnRenamed(\"parent_country_id\", \"death_parent_country_id\") \\\n",
    "                                           .select(\"laureate_id\", \"full_name\", \"gender_id\", \"birth_date\", \"birth_city\", \\\n",
    "                                                   \"birth_country_id\", \"death_date\", \"death_city\", \"death_country_id\", \\\n",
    "                                                   \"birth_parent_country_id\", \"death_parent_country_id\", \"death_country\")"
   ]
  },
  {
   "cell_type": "code",
   "execution_count": 84,
   "id": "2c944237",
   "metadata": {},
   "outputs": [
    {
     "data": {
      "text/plain": [
       "0"
      ]
     },
     "execution_count": 84,
     "metadata": {},
     "output_type": "execute_result"
    }
   ],
   "source": [
    "# Check null values\n",
    "df_laureates_persons.where(\"death_country_id is null and death_country is not null\").count()"
   ]
  },
  {
   "cell_type": "markdown",
   "id": "a31ea446",
   "metadata": {},
   "source": [
    "### Add Birth City ID"
   ]
  },
  {
   "cell_type": "markdown",
   "id": "2a3f66f7",
   "metadata": {},
   "source": [
    "Add existing in the Cities dataframe names  - current countries<br>\n",
    "Join Cities dataframe by city name + country ID"
   ]
  },
  {
   "cell_type": "code",
   "execution_count": 85,
   "id": "f5c58835",
   "metadata": {},
   "outputs": [],
   "source": [
    "join_expr = (f.trim(df_laureates_persons[\"birth_city\"]) == f.trim(df_cities[\"CityUpd\"])) \\\n",
    "            & (df_laureates_persons[\"birth_country_id\"] == df_cities[\"country_id\"])\n",
    "df_laureates_persons = df_laureates_persons.join(df_cities, join_expr, \"left_outer\") \\\n",
    "                                           .withColumnRenamed(\"city_id\", \"birth_city_id\") \\\n",
    "                                           .drop(\"city_name\", \"accent_city_name\", \"country_id\", \"city_region\", \"population\", \\\n",
    "                                                 \"latitude\", \"longitude\", \"CityUpd\", \"Country\")\n",
    "\n",
    "# Some cities are not unique by \"City Name\" + \"Country\". Remove duplicates from dataframe, use first City ID number\n",
    "w = Window.partitionBy(\"laureate_id\").orderBy(f.col(\"laureate_id\"))\n",
    "df_laureates_persons = df_laureates_persons.withColumn(\"row\", f.row_number().over(w)) \\\n",
    "                                           .filter(f.col(\"row\") == 1) \\\n",
    "                                           .drop(\"row\")"
   ]
  },
  {
   "cell_type": "markdown",
   "id": "e480e39d",
   "metadata": {},
   "source": [
    "Add existing in the Cities dataframe names - historical countries<br>\n",
    "Join Cities dataframe by city name + parent country ID"
   ]
  },
  {
   "cell_type": "code",
   "execution_count": 86,
   "id": "bfafe1bb",
   "metadata": {},
   "outputs": [],
   "source": [
    "join_expr = (f.trim(df_laureates_persons[\"birth_city\"]) == f.trim(df_cities[\"CityUpd\"])) \\\n",
    "            & (df_laureates_persons[\"birth_parent_country_id\"] == df_cities[\"country_id\"])\n",
    "df_laureates_persons = df_laureates_persons.join(df_cities, join_expr, \"left_outer\") \\\n",
    "                                           .withColumn(\"birth_city_id\", \\\n",
    "                                              f.when(f.col(\"birth_city_id\") >= 0, f.col(\"birth_city_id\")) \\\n",
    "                                               .otherwise(f.col(\"city_id\"))) \\\n",
    "                                           .drop(\"city_name\", \"accent_city_name\", \"country_id\", \"city_region\", \"population\", \\\n",
    "                                                 \"latitude\", \"longitude\", \"CityUpd\", \"Country\", \"city_id\")\n",
    "\n",
    "# Some cities are not unique by \"City Name\" + \"Country\". Remove duplicates from dataframe, use first City ID number\n",
    "w = Window.partitionBy(\"laureate_id\").orderBy(f.col(\"laureate_id\"))\n",
    "df_laureates_persons = df_laureates_persons.withColumn(\"row\", f.row_number().over(w)) \\\n",
    "                                           .filter(f.col(\"row\") == 1) \\\n",
    "                                           .drop(\"row\")"
   ]
  },
  {
   "cell_type": "markdown",
   "id": "28f4c935",
   "metadata": {},
   "source": [
    "Add missing in the Cities dataframe names<br>\n",
    "Join missing city names to the Laureates dataframe - use the dataframe df_tmp_mis_cities created above"
   ]
  },
  {
   "cell_type": "code",
   "execution_count": 87,
   "id": "a1261d2a",
   "metadata": {},
   "outputs": [],
   "source": [
    "join_expr = f.trim(df_laureates_persons[\"birth_city\"]) == f.trim(df_tmp_mis_cities[\"mis_city_name\"])\n",
    "df_laureates_persons = df_laureates_persons.join(df_tmp_mis_cities, join_expr, \"left_outer\") \\\n",
    "                                           .withColumn(\"birth_city_id\", \\\n",
    "                                              f.when(f.col(\"birth_city_id\") >= 0, f.col(\"birth_city_id\")) \\\n",
    "                                               .otherwise(f.col(\"city_id\"))) \\\n",
    "                                               .select(\"laureate_id\", \"full_name\", \"gender_id\", \"birth_date\", \"birth_city_id\", \\\n",
    "                                                       \"birth_country_id\", \"death_date\", \"death_city\", \"death_country_id\", \\\n",
    "                                                       \"birth_parent_country_id\", \"death_parent_country_id\", \"birth_city\")"
   ]
  },
  {
   "cell_type": "code",
   "execution_count": 88,
   "id": "81567bc4",
   "metadata": {},
   "outputs": [
    {
     "data": {
      "text/plain": [
       "0"
      ]
     },
     "execution_count": 88,
     "metadata": {},
     "output_type": "execute_result"
    }
   ],
   "source": [
    "# Check null values\n",
    "df_laureates_persons.where(\"birth_city_id is null and birth_city is not null\").count()"
   ]
  },
  {
   "cell_type": "markdown",
   "id": "41c5475e",
   "metadata": {},
   "source": [
    "### Add Death City ID"
   ]
  },
  {
   "cell_type": "markdown",
   "id": "04faaf30",
   "metadata": {},
   "source": [
    "Add existing in the Cities dataframe names  - current countries<br>\n",
    "Join Cities dataframe by city name + country ID"
   ]
  },
  {
   "cell_type": "code",
   "execution_count": 89,
   "id": "d688c4e5",
   "metadata": {},
   "outputs": [],
   "source": [
    "join_expr = (f.trim(df_laureates_persons[\"death_city\"]) == f.trim(df_cities[\"CityUpd\"])) \\\n",
    "            & (df_laureates_persons[\"death_country_id\"] == df_cities[\"country_id\"])\n",
    "df_laureates_persons = df_laureates_persons.join(df_cities, join_expr, \"left_outer\") \\\n",
    "                                           .withColumnRenamed(\"city_id\", \"death_city_id\") \\\n",
    "                                           .drop(\"city_name\", \"accent_city_name\", \"country_id\", \"city_region\", \"population\", \\\n",
    "                                                 \"latitude\", \"longitude\", \"CityUpd\", \"Country\")\n",
    "\n",
    "# Some cities are not unique by \"City Name\" + \"Country\". Remove duplicates from dataframe, use first City ID number\n",
    "w = Window.partitionBy(\"laureate_id\").orderBy(f.col(\"laureate_id\"))\n",
    "df_laureates_persons = df_laureates_persons.withColumn(\"row\", f.row_number().over(w)) \\\n",
    "                                           .filter(f.col(\"row\") == 1) \\\n",
    "                                           .drop(\"row\")"
   ]
  },
  {
   "cell_type": "markdown",
   "id": "a8ba7100",
   "metadata": {},
   "source": [
    "Add existing in the Cities dataframe names - historical countries<br>\n",
    "Join Cities dataframe by city name + parent country ID"
   ]
  },
  {
   "cell_type": "code",
   "execution_count": 90,
   "id": "8ff8e097",
   "metadata": {},
   "outputs": [],
   "source": [
    "join_expr = (f.trim(df_laureates_persons[\"death_city\"]) == f.trim(df_cities[\"CityUpd\"])) \\\n",
    "            & (df_laureates_persons[\"death_parent_country_id\"] == df_cities[\"country_id\"])\n",
    "df_laureates_persons = df_laureates_persons.join(df_cities, join_expr, \"left_outer\") \\\n",
    "                                           .withColumn(\"death_city_id\", \\\n",
    "                                              f.when(f.col(\"death_city_id\") >= 0, f.col(\"death_city_id\")) \\\n",
    "                                               .otherwise(f.col(\"city_id\"))) \\\n",
    "                                           .drop(\"city_name\", \"accent_city_name\", \"country_id\", \"city_region\", \"population\", \\\n",
    "                                                 \"latitude\", \"longitude\", \"CityUpd\", \"Country\", \"city_id\")\n",
    "\n",
    "# Some cities are not unique by \"City Name\" + \"Country\". Remove duplicates from dataframe, use first City ID number\n",
    "w = Window.partitionBy(\"laureate_id\").orderBy(f.col(\"laureate_id\"))\n",
    "df_laureates_persons = df_laureates_persons.withColumn(\"row\", f.row_number().over(w)) \\\n",
    "                                           .filter(f.col(\"row\") == 1) \\\n",
    "                                           .drop(\"row\")"
   ]
  },
  {
   "cell_type": "markdown",
   "id": "f72fea86",
   "metadata": {},
   "source": [
    "Add missing in the Cities dataframe names<br>\n",
    "Join missing city names to the Laureates dataframe - use the dataframe df_tmp_mis_cities created above"
   ]
  },
  {
   "cell_type": "code",
   "execution_count": 91,
   "id": "92a44313",
   "metadata": {},
   "outputs": [],
   "source": [
    "join_expr = f.trim(df_laureates_persons[\"death_city\"]) == f.trim(df_tmp_mis_cities[\"mis_city_name\"])\n",
    "df_laureates_persons = df_laureates_persons.join(df_tmp_mis_cities, join_expr, \"left_outer\") \\\n",
    "                                           .withColumn(\"death_city_id\", \\\n",
    "                                              f.when(f.col(\"death_city_id\") >= 0, f.col(\"death_city_id\")) \\\n",
    "                                               .otherwise(f.col(\"city_id\"))) \\\n",
    "                                           .select(\"laureate_id\", \"full_name\", \"gender_id\", \"birth_date\", \"birth_city_id\", \\\n",
    "                                                   \"birth_country_id\", \"death_date\", \"death_city_id\", \"death_country_id\", \\\n",
    "                                                   \"birth_parent_country_id\", \"death_parent_country_id\", \"death_city\")"
   ]
  },
  {
   "cell_type": "code",
   "execution_count": 92,
   "id": "4c98db03",
   "metadata": {},
   "outputs": [
    {
     "data": {
      "text/plain": [
       "0"
      ]
     },
     "execution_count": 92,
     "metadata": {},
     "output_type": "execute_result"
    }
   ],
   "source": [
    "# Check null values\n",
    "df_laureates_persons.where(\"death_city_id is null and death_city is not null\").count()"
   ]
  },
  {
   "cell_type": "code",
   "execution_count": 93,
   "id": "bcdcfba4",
   "metadata": {},
   "outputs": [],
   "source": [
    "df_laureates_persons = df_laureates_persons.select(\"laureate_id\", \"full_name\", \"gender_id\", \"birth_date\", \"birth_city_id\", \\\n",
    "                                                   \"birth_country_id\", \"death_date\", \"death_city_id\", \"death_country_id\") \\\n",
    "                                           .sort(\"laureate_id\")"
   ]
  },
  {
   "cell_type": "markdown",
   "id": "8420d1db",
   "metadata": {},
   "source": [
    "Dataframe is ready.<br>\n",
    "Check dataframe"
   ]
  },
  {
   "cell_type": "code",
   "execution_count": 94,
   "id": "e8c39663",
   "metadata": {},
   "outputs": [
    {
     "name": "stdout",
     "output_type": "stream",
     "text": [
      "+-----------+----------------------+---------+----------+-------------+----------------+----------+-------------+----------------+\n",
      "|laureate_id|full_name             |gender_id|birth_date|birth_city_id|birth_country_id|death_date|death_city_id|death_country_id|\n",
      "+-----------+----------------------+---------+----------+-------------+----------------+----------+-------------+----------------+\n",
      "|1          |Wilhelm Conrad Röntgen|1        |1845-03-27|8590091352   |289             |1923-02-10|8590071893   |81              |\n",
      "|2          |Hendrik Antoon Lorentz|1        |1853-07-18|17180141601  |154             |1928-02-04|null         |154             |\n",
      "|3          |Pieter Zeeman         |1        |1865-05-25|17180150094  |154             |1943-10-09|17180141534  |154             |\n",
      "+-----------+----------------------+---------+----------+-------------+----------------+----------+-------------+----------------+\n",
      "only showing top 3 rows\n",
      "\n"
     ]
    }
   ],
   "source": [
    "df_laureates_persons.show(3,False)"
   ]
  },
  {
   "cell_type": "code",
   "execution_count": null,
   "id": "682e8bec",
   "metadata": {},
   "outputs": [],
   "source": [
    "# Save to hive - hadoop\n",
    "# df_laureates_persons.write.format(\"parquet\").mode(\"overwrite\").saveAsTable(\"whdb.laureates_persons\")"
   ]
  },
  {
   "cell_type": "markdown",
   "id": "c2611892",
   "metadata": {},
   "source": [
    "## Organizations table\n",
    "Contains a list of organizations where the laureates (\"individual\") worked"
   ]
  },
  {
   "cell_type": "code",
   "execution_count": 95,
   "id": "404cac41",
   "metadata": {},
   "outputs": [],
   "source": [
    "# Update null City ID and Country ID for organizations\n",
    "df_nobel_orig = df_nobel_orig.withColumn(\"Organization City\", \\\n",
    "                                f.when(f.trim(f.col(\"Organization Name\")) == 'Howard Hughes Medical Institute', 'Durham, NC') \\\n",
    "                                 .when(f.trim(f.col(\"Organization Name\")) == 'University of Delaware', 'Newark, DE') \\\n",
    "                                 .otherwise(f.col(\"Organization City\"))) \\\n",
    "                             .withColumn(\"Organization Country\", \\\n",
    "                                f.when(f.trim(f.col(\"Organization Name\")) == 'Howard Hughes Medical Institute',\\\n",
    "                                       'United States') \\\n",
    "                                 .when((f.trim(f.col(\"Organization Name\")) == 'Institut Pasteur') \\\n",
    "                                       & (f.trim(f.col(\"Organization City\")) == 'Tunis'), \\\n",
    "                                       'Tunisia') \\\n",
    "                                 .otherwise(f.col(\"Organization Country\")))"
   ]
  },
  {
   "cell_type": "code",
   "execution_count": 96,
   "id": "83537a97",
   "metadata": {},
   "outputs": [],
   "source": [
    "df_organizations = df_nobel_orig.withColumnRenamed(\"Laureate Type\", \"laureate_type\") \\\n",
    "                                .withColumnRenamed(\"Organization Name\", \"organization_name\") \\\n",
    "                                .withColumnRenamed(\"Organization Country\", \"organization_country\") \\\n",
    "                                .withColumnRenamed(\"Organization City\", \"organization_city\") \\\n",
    "                                .select(\"organization_name\", \"organization_country\", \"organization_city\") \\\n",
    "                                .where(\"laureate_type = 'Individual' and organization_name is not null\") \\\n",
    "                                .distinct() \\\n",
    "                                .sort(\"organization_name\")\n",
    "\n",
    "# Add Organization ID\n",
    "w = Window.orderBy(\"organization_name\")\n",
    "df_organizations = df_organizations.withColumn(\"organization_id\", f.row_number().over(w) - 1) \\\n",
    "                                   .select(\"organization_id\", \"organization_name\", \"organization_country\", \"organization_city\")"
   ]
  },
  {
   "cell_type": "code",
   "execution_count": 97,
   "id": "4a6020b4",
   "metadata": {},
   "outputs": [
    {
     "name": "stdout",
     "output_type": "stream",
     "text": [
      "+---------------+----------------------+--------------------+-----------------+\n",
      "|organization_id|organization_name     |organization_country|organization_city|\n",
      "+---------------+----------------------+--------------------+-----------------+\n",
      "|96             |Institut Pasteur      |France              |Paris            |\n",
      "|97             |Institut Pasteur      |Tunisia             |Tunis            |\n",
      "|266            |University of Delaware|United States       |Newark, DE       |\n",
      "+---------------+----------------------+--------------------+-----------------+\n",
      "\n"
     ]
    }
   ],
   "source": [
    "# Check updated country and city\n",
    "df_organizations.where(\"organization_name in ('University of Delaware', 'Institut Pasteur')\").show(10,False)"
   ]
  },
  {
   "cell_type": "markdown",
   "id": "4bc469e1",
   "metadata": {},
   "source": [
    "Add parent organizations that are not in the list of organizations"
   ]
  },
  {
   "cell_type": "code",
   "execution_count": 98,
   "id": "a5a4714e",
   "metadata": {},
   "outputs": [],
   "source": [
    "# Parent organization not listed in the Nobel Prizes dataframe\n",
    "data = [{\"org_name\": \"Duke University\", \"org_country\": \"United States\", \"org_city\": \"Durham, NC\"},\n",
    "{\"org_name\": \"Max Planck Society\", \"org_country\": \"Germany\", \"org_city\": \"Munich\"},\n",
    "{\"org_name\": \"The University of California\", \"org_country\": \"United States\", \"org_city\": \"Berkeley, CA\"}]\n",
    "\n",
    "df_tmp_mis_org = sp.createDataFrame(data)\n",
    "\n",
    "# Check the max value of organization_id\n",
    "max_count_id = df_organizations.select(f.max(\"organization_id\")).collect()[0][0]\n",
    "\n",
    "# Add organization_id - starts from the next organization_id\n",
    "w = Window.orderBy(\"org_name\")\n",
    "df_tmp_mis_org = df_tmp_mis_org.withColumn(\"org_id\", f.row_number().over(w) + max_count_id) \\\n",
    "                               .select(\"org_id\", \"org_name\", \"org_country\", \"org_city\")"
   ]
  },
  {
   "cell_type": "code",
   "execution_count": 99,
   "id": "4041105e",
   "metadata": {},
   "outputs": [],
   "source": [
    "# Union dataframes\n",
    "df_organizations = df_organizations.union(df_tmp_mis_org)"
   ]
  },
  {
   "cell_type": "markdown",
   "id": "3f1f2fb5",
   "metadata": {},
   "source": [
    "### Add Parent Organization ID"
   ]
  },
  {
   "cell_type": "code",
   "execution_count": 100,
   "id": "d0523e31",
   "metadata": {},
   "outputs": [],
   "source": [
    "df_organizations.createOrReplaceTempView(\"ORG\")\n",
    "df_organizations = sp.sql(\"select organization_id, organization_name, organization_city, organization_country, \\\n",
    "       case \\\n",
    "       when trim(organization_name) = 'Australian National University' and trim(organization_city) = 'Weston Creek' \\\n",
    "            then (select organization_id from ORG where trim(organization_name) = 'Australian National University' \\\n",
    "            and trim(organization_city) = 'Canberra') \\\n",
    "        when (trim(organization_name) = 'Bell Laboratories' and trim(organization_city) = 'Holmdel, NJ') \\\n",
    "        or trim(organization_name) = 'Bell Telephone Laboratories' \\\n",
    "            then (select organization_id from ORG where trim(organization_name) = 'Bell Laboratories' \\\n",
    "            and trim(organization_city) = 'Murray Hill, NJ') \\\n",
    "        when organization_name like 'Columbia University Division%'  \\\n",
    "            then (select organization_id from ORG where trim(organization_name) = 'Columbia University') \\\n",
    "        when organization_name like 'Duke University %'  \\\n",
    "            then (select organization_id from ORG where trim(organization_name) = 'Duke University') \\\n",
    "        when organization_name like '%Fritz-Haber-Institut%' or organization_name like '%Max-Planck%' \\\n",
    "            or organization_name like '%Max Planck Institute%' \\\n",
    "            then (select organization_id from ORG where trim(organization_name) = 'Max Planck Society') \\\n",
    "        when organization_name like 'Harvard University,%'  \\\n",
    "            then (select organization_id from ORG where trim(organization_name) = 'Harvard University') \\\n",
    "        when trim(organization_name) = 'I.G. Farbenindustrie A.G.' and trim(organization_city) = 'Heidelberg' \\\n",
    "            then (select organization_id from ORG where trim(organization_name) = 'I.G. Farbenindustrie A.G.' \\\n",
    "            and trim(organization_city) = 'Mannheim-Rheinau') \\\n",
    "        when trim(organization_name) = 'Imperial Cancer Research Fund Laboratory' \\\n",
    "            then (select organization_id from ORG where trim(organization_name) = 'Imperial Cancer Research Fund') \\\n",
    "        when trim(organization_name) = 'Johns Hopkins University School of Medicine' \\\n",
    "            then (select organization_id from ORG where trim(organization_name) = 'Johns Hopkins University') \\\n",
    "        when trim(organization_name) = 'Karolinska Institutet, Nobel Medical Institute' \\\n",
    "            then (select organization_id from ORG where trim(organization_name) = 'Karolinska Institutet') \\\n",
    "        when trim(organization_name) = 'Kiel University' and trim(organization_country) = 'Federal Republic of Germany' \\\n",
    "            then (select organization_id from ORG where trim(organization_name) = 'Kiel University' \\\n",
    "            and trim(organization_country) = 'Germany') \\\n",
    "        when organization_name like 'London University,%' \\\n",
    "            then (select organization_id from ORG where trim(organization_name) = 'London University') \\\n",
    "        when organization_name like 'Massachusetts Institute of Technology (MIT),%' \\\n",
    "            then (select organization_id from ORG \\\n",
    "            where trim(organization_name) = 'Massachusetts Institute of Technology (MIT)') \\\n",
    "        when trim(organization_name) = 'New York University, College of Medicine' \\\n",
    "            then (select organization_id from ORG where trim(organization_name) = 'New York University') \\\n",
    "        when trim(organization_name) = 'P.N. Lebedev Physical Institute' \\\n",
    "        and trim(organization_country) = 'Union of Soviet Socialist Republics' \\\n",
    "            then (select organization_id from ORG where trim(organization_name) = 'P.N. Lebedev Physical Institute' \\\n",
    "            and trim(organization_country) = 'Russia') \\\n",
    "        when trim(organization_name) = 'Rockefeller Institute for Medical Research' \\\n",
    "            then (select organization_id from ORG where trim(organization_name) = 'Rockefeller University') \\\n",
    "        when trim(organization_name) = 'Sorbonne University, Institut Henri Poincaré' \\\n",
    "            then (select organization_id from ORG where trim(organization_name) = 'Sorbonne University') \\\n",
    "        when trim(organization_name) = 'Stanford University School of Medicine' \\\n",
    "            then (select organization_id from ORG where trim(organization_name) = 'Stanford University') \\\n",
    "        when organization_name like 'University of California%' and trim(organization_city) != 'Berkeley, CA' \\\n",
    "            then (select organization_id from ORG where trim(organization_name) = 'University of California' \\\n",
    "            and trim(organization_city) = 'Berkeley, CA') \\\n",
    "        when trim(organization_name) = 'University of Chicago, Ben May Laboratory for Cancer Research' \\\n",
    "            then (select organization_id from ORG where trim(organization_name) = 'University of Chicago') \\\n",
    "        when trim(organization_name) = 'University of Colorado, JILA' \\\n",
    "            then (select organization_id from ORG where trim(organization_name) = 'University of Colorado') \\\n",
    "        when trim(organization_name) = 'University of Freiburg' \\\n",
    "            then (select organization_id from ORG where trim(organization_name) = 'University of Freiburg im Breisgau') \\\n",
    "        when trim(organization_name) = 'University of Heidelberg' and trim(organization_country) = 'Federal Republic of Germany' \\\n",
    "            then (select organization_id from ORG where trim(organization_name) = 'University of Heidelberg' \\\n",
    "            and trim(organization_country) = 'Germany') \\\n",
    "        when trim(organization_name) = 'University of Oxford, Royal Society' \\\n",
    "            then (select organization_id from ORG where trim(organization_name) = 'University of Oxford') \\\n",
    "        when organization_name like 'University of Texas %' \\\n",
    "            then (select organization_id from ORG where trim(organization_name) = 'University of Texas') \\\n",
    "        when trim(organization_name) = 'University of Tokyo' and trim(organization_city) = 'Kashiwa' \\\n",
    "            then (select organization_id from ORG where trim(organization_name) = 'University of Tokyo' \\\n",
    "            and trim(organization_city) = 'Tokyo') \\\n",
    "        when trim(organization_name) = 'University of Zurich, Institute of Experimental Immunology' \\\n",
    "            then (select organization_id from ORG where trim(organization_name) = 'University of Zurich') \\\n",
    "        when trim(organization_name) = 'Vanderbilt University School of Medicine' \\\n",
    "            then (select organization_id from ORG where trim(organization_name) = 'Vanderbilt Universitye') \\\n",
    "        when trim(organization_name) = 'Veterans Administration Hospital' and trim(organization_city) = 'New Orleans, LA' \\\n",
    "            then (select organization_id from ORG where trim(organization_name) = 'Veterans Administration Hospital' \\\n",
    "            and trim(organization_city) = 'Bronx, NY') \\\n",
    "        when trim(organization_name) = 'Yale University, School of Medicine' \\\n",
    "            then (select organization_id from ORG where trim(organization_name) = 'Yale University') \\\n",
    "       else null end as parent_organization_id \\\n",
    "       from ORG\")"
   ]
  },
  {
   "cell_type": "code",
   "execution_count": 101,
   "id": "0afb045a",
   "metadata": {},
   "outputs": [
    {
     "name": "stdout",
     "output_type": "stream",
     "text": [
      "+------------------------------+----------------------+\n",
      "|organization_name             |parent_organization_id|\n",
      "+------------------------------+----------------------+\n",
      "|Australian National University|9                     |\n",
      "|Bell Laboratories             |13                    |\n",
      "+------------------------------+----------------------+\n",
      "only showing top 2 rows\n",
      "\n"
     ]
    }
   ],
   "source": [
    "# Check results\n",
    "df_organizations.select(\"organization_name\", \"parent_organization_id\").where(\"parent_organization_id is not null\").show(2,False)"
   ]
  },
  {
   "cell_type": "markdown",
   "id": "0b6276b3",
   "metadata": {},
   "source": [
    "### Add Organization Country ID"
   ]
  },
  {
   "cell_type": "code",
   "execution_count": 102,
   "id": "db4f313a",
   "metadata": {},
   "outputs": [],
   "source": [
    "join_expr = f.trim(df_organizations[\"organization_country\"]) == f.trim(df_countries[\"country_name\"])\n",
    "df_organizations = df_organizations.join(df_countries, join_expr, \"left_outer\") \\\n",
    "                            .withColumnRenamed(\"country_id\", \"organization_country_id\") \\\n",
    "                            .withColumnRenamed(\"parent_country_id\", \"organization_parent_country_id\") \\\n",
    "                            .select(\"organization_id\", \"organization_name\", \"organization_country\", \"organization_country_id\", \\\n",
    "                                    \"organization_city\", \"organization_parent_country_id\", \"parent_organization_id\")"
   ]
  },
  {
   "cell_type": "code",
   "execution_count": 103,
   "id": "cfcda256",
   "metadata": {},
   "outputs": [
    {
     "data": {
      "text/plain": [
       "0"
      ]
     },
     "execution_count": 103,
     "metadata": {},
     "output_type": "execute_result"
    }
   ],
   "source": [
    "# Check null values\n",
    "df_organizations.where(\"organization_country_id is null and organization_country is not null\").count()"
   ]
  },
  {
   "cell_type": "markdown",
   "id": "5ece6a18",
   "metadata": {},
   "source": [
    "### Add Organization City ID"
   ]
  },
  {
   "cell_type": "markdown",
   "id": "cd45db46",
   "metadata": {},
   "source": [
    "Add existing in the Cities dataframe names  - current countries<br>\n",
    "Join Cities dataframe by city name + country ID"
   ]
  },
  {
   "cell_type": "code",
   "execution_count": 104,
   "id": "085acd5c",
   "metadata": {},
   "outputs": [],
   "source": [
    "join_expr = (f.trim(df_organizations[\"organization_city\"]) == f.trim(df_cities[\"CityUpd\"])) \\\n",
    "                & (df_organizations[\"organization_country_id\"] == df_cities[\"country_id\"])\n",
    "df_organizations = df_organizations.join(df_cities, join_expr, \"left_outer\") \\\n",
    "                                   .withColumnRenamed(\"city_id\", \"organization_city_id\") \\\n",
    "                                   .drop(\"city_name\", \"accent_city_name\", \"country_id\", \"city_region\", \"population\", \\\n",
    "                                         \"latitude\", \"longitude\", \"CityUpd\", \"Country\")\n",
    "\n",
    "# Some cities are not unique by \"City Name\" + \"Country\". Remove duplicates from dataframe, use first City ID number\n",
    "w = Window.partitionBy(\"organization_id\").orderBy(f.col(\"organization_id\"))\n",
    "df_organizations = df_organizations.withColumn(\"row\", f.row_number().over(w)) \\\n",
    "                                   .filter(f.col(\"row\") == 1).drop(\"row\")"
   ]
  },
  {
   "cell_type": "markdown",
   "id": "aa9604b1",
   "metadata": {},
   "source": [
    "Add existing in the Cities dataframe names - historical countries<br>\n",
    "Join Cities dataframe by city name + parent country ID"
   ]
  },
  {
   "cell_type": "code",
   "execution_count": 105,
   "id": "be6f79d8",
   "metadata": {},
   "outputs": [],
   "source": [
    "join_expr = (f.trim(df_organizations[\"organization_city\"]) == f.trim(df_cities[\"CityUpd\"])) \\\n",
    "                & (df_organizations[\"organization_parent_country_id\"] == df_cities[\"country_id\"])\n",
    "df_organizations = df_organizations.join(df_cities, join_expr, \"left_outer\") \\\n",
    "                                   .withColumn(\"organization_city_id\", \\\n",
    "                                      f.when(f.col(\"organization_city_id\") >= 0, f.col(\"organization_city_id\")) \\\n",
    "                                       .otherwise(f.col(\"city_id\"))) \\\n",
    "                                   .drop(\"city_name\", \"accent_city_name\", \"country_id\", \"city_region\", \"population\", \\\n",
    "                                         \"latitude\", \"longitude\", \"CityUpd\", \"Country\", \"city_id\")\n",
    "\n",
    "# Some cities are not unique by \"City Name\" + \"Country\". Remove duplicates from dataframe, use first City ID number\n",
    "w = Window.partitionBy(\"organization_id\").orderBy(f.col(\"organization_id\"))\n",
    "df_organizations = df_organizations.withColumn(\"row\", f.row_number().over(w)) \\\n",
    "                                   .filter(f.col(\"row\") == 1).drop(\"row\")"
   ]
  },
  {
   "cell_type": "markdown",
   "id": "89110696",
   "metadata": {},
   "source": [
    "Add missing in the Cities dataframe names<br>\n",
    "Join missing city names to the Laureates dataframe - use the dataframe df_tmp_mis_cities created above"
   ]
  },
  {
   "cell_type": "code",
   "execution_count": 106,
   "id": "c78d6cc4",
   "metadata": {},
   "outputs": [],
   "source": [
    "join_expr = f.trim(df_organizations[\"organization_city\"]) == f.trim(df_tmp_mis_cities[\"mis_city_name\"])\n",
    "df_organizations = df_organizations.join(df_tmp_mis_cities, join_expr, \"left_outer\") \\\n",
    "                                   .withColumn(\"organization_city_id\", \\\n",
    "                                       f.when(f.col(\"organization_city_id\") >= 0, f.col(\"organization_city_id\")) \\\n",
    "                                        .otherwise(f.col(\"city_id\"))) \\\n",
    "                                   .select(\"organization_id\", \"organization_name\", \"organization_country_id\", \\\n",
    "                                           \"organization_city_id\", \"parent_organization_id\", \\\n",
    "                                           \"organization_country\", \"organization_city\") \\\n",
    "                                   .sort(\"organization_id\")"
   ]
  },
  {
   "cell_type": "code",
   "execution_count": 107,
   "id": "3977fd28",
   "metadata": {},
   "outputs": [
    {
     "data": {
      "text/plain": [
       "0"
      ]
     },
     "execution_count": 107,
     "metadata": {},
     "output_type": "execute_result"
    }
   ],
   "source": [
    "# Check null values\n",
    "df_organizations.where(\"organization_city_id is not null and organization_city is null\").count()"
   ]
  },
  {
   "cell_type": "markdown",
   "id": "db684476",
   "metadata": {},
   "source": [
    "The Organization Country and Organization City columns will be removed later - these columns are required for the Persons in Organizations data frame."
   ]
  },
  {
   "cell_type": "markdown",
   "id": "b824e623",
   "metadata": {},
   "source": [
    "Check dataframe"
   ]
  },
  {
   "cell_type": "code",
   "execution_count": 108,
   "id": "ea931d00",
   "metadata": {},
   "outputs": [
    {
     "name": "stdout",
     "output_type": "stream",
     "text": [
      "+---------------+--------------------------------------+-----------------------+--------------------+----------------------+-----------------------------------+-----------------+\n",
      "|organization_id|organization_name                     |organization_country_id|organization_city_id|parent_organization_id|organization_country               |organization_city|\n",
      "+---------------+--------------------------------------+-----------------------+--------------------+----------------------+-----------------------------------+-----------------+\n",
      "|0              |A.F. Ioffe Physico-Technical Institute|182                    |25769846536         |null                  |Russia                             |St. Petersburg   |\n",
      "|1              |Aarhus University                     |57                     |745653              |null                  |Denmark                            |Aarhus           |\n",
      "|2              |Academy of Sciences                   |306                    |17180652633         |null                  |Union of Soviet Socialist Republics|Moscow           |\n",
      "+---------------+--------------------------------------+-----------------------+--------------------+----------------------+-----------------------------------+-----------------+\n",
      "only showing top 3 rows\n",
      "\n"
     ]
    }
   ],
   "source": [
    "df_organizations.show(3,False)"
   ]
  },
  {
   "cell_type": "code",
   "execution_count": null,
   "id": "0e8774de",
   "metadata": {},
   "outputs": [],
   "source": [
    "# Save to hive - hadoop\n",
    "# df_organizations.write.format(\"parquet\").mode(\"overwrite\").saveAsTable(\"whdb.organizations\")"
   ]
  },
  {
   "cell_type": "markdown",
   "id": "06b7ef22",
   "metadata": {},
   "source": [
    "## Persons in Organizations table\n",
    "Contains the matches of the Laureate Persons and Organizations in which the laureates worked."
   ]
  },
  {
   "cell_type": "code",
   "execution_count": 109,
   "id": "6a1f3cad",
   "metadata": {},
   "outputs": [],
   "source": [
    "# Use the original Nobel Prizes dataset\n",
    "df_persons_in_orgs = df_nobel_orig.withColumnRenamed(\"Laureate Type\", \"laureate_type\") \\\n",
    "                                  .withColumnRenamed(\"Laureate ID\", \"laureate_id\") \\\n",
    "                                  .withColumnRenamed(\"Organization Name\", \"org_name\") \\\n",
    "                                  .withColumnRenamed(\"Organization Country\", \"org_country\") \\\n",
    "                                  .withColumnRenamed(\"Organization City\", \"org_city\") \\\n",
    "                                  .where(\"laureate_type = 'Individual' and org_name is not null\") \\\n",
    "                                  .select(\"laureate_id\", \"org_name\", \"org_country\", \"org_city\") \\\n",
    "                                  .distinct() \\\n",
    "                                  .sort(\"laureate_id\", \"org_name\") \\\n",
    "                                  .withColumn(\"per_org_id\", f.monotonically_increasing_id())"
   ]
  },
  {
   "cell_type": "markdown",
   "id": "d9707d7d",
   "metadata": {},
   "source": [
    "### Add Organization Id"
   ]
  },
  {
   "cell_type": "code",
   "execution_count": 110,
   "id": "62d0321b",
   "metadata": {},
   "outputs": [],
   "source": [
    "join_expr = (f.trim(df_organizations[\"organization_name\"]) == f.trim(df_persons_in_orgs[\"org_name\"])) \\\n",
    "        & (f.trim(df_organizations[\"organization_country\"]) == f.trim(df_persons_in_orgs[\"org_country\"])) \\\n",
    "        & (f.trim(df_organizations[\"organization_city\"]) == f.trim(df_persons_in_orgs[\"org_city\"]))\n",
    "df_persons_in_orgs = df_persons_in_orgs.join(df_organizations, join_expr, \"inner\") \\\n",
    "                                       .select(\"per_org_id\", \"laureate_id\", \"organization_id\") \\\n",
    "                                       .sort(\"per_org_id\")"
   ]
  },
  {
   "cell_type": "code",
   "execution_count": 111,
   "id": "1fc0d81c",
   "metadata": {},
   "outputs": [
    {
     "data": {
      "text/plain": [
       "0"
      ]
     },
     "execution_count": 111,
     "metadata": {},
     "output_type": "execute_result"
    }
   ],
   "source": [
    "# Check null values\n",
    "df_persons_in_orgs.where(\"organization_id is null\").count()"
   ]
  },
  {
   "cell_type": "markdown",
   "id": "ddca7869",
   "metadata": {},
   "source": [
    "Check the dataframe"
   ]
  },
  {
   "cell_type": "code",
   "execution_count": 112,
   "id": "87f075aa",
   "metadata": {},
   "outputs": [
    {
     "name": "stdout",
     "output_type": "stream",
     "text": [
      "+----------+-----------+---------------+\n",
      "|per_org_id|laureate_id|organization_id|\n",
      "+----------+-----------+---------------+\n",
      "|         0|          1|            166|\n",
      "|         1|          2|            133|\n",
      "|         2|          3|              4|\n",
      "|         3|          4|            333|\n",
      "|         4|          5|            335|\n",
      "+----------+-----------+---------------+\n",
      "only showing top 5 rows\n",
      "\n"
     ]
    }
   ],
   "source": [
    "df_persons_in_orgs.show(5)"
   ]
  },
  {
   "cell_type": "code",
   "execution_count": null,
   "id": "b446c3c9",
   "metadata": {},
   "outputs": [],
   "source": [
    "# Save to hive - hadoop\n",
    "# df_persons_in_orgs.write.format(\"parquet\").mode(\"overwrite\").saveAsTable(\"whdb.persons_in_orgs\")"
   ]
  },
  {
   "cell_type": "markdown",
   "id": "b723399d",
   "metadata": {},
   "source": [
    "## Nobel Prizes table\n",
    "Contains a list of Nobel Prizes<br>\n",
    "Data analysis shows that the logical key of the Nobel Prize is \"Laureate ID\" + \"Prize\""
   ]
  },
  {
   "cell_type": "code",
   "execution_count": 113,
   "id": "00a526d9",
   "metadata": {},
   "outputs": [
    {
     "name": "stdout",
     "output_type": "stream",
     "text": [
      "root\n",
      " |-- Year: integer (nullable = true)\n",
      " |-- Category: string (nullable = true)\n",
      " |-- Prize: string (nullable = true)\n",
      " |-- Motivation: string (nullable = true)\n",
      " |-- Prize Share: string (nullable = true)\n",
      " |-- Laureate ID: integer (nullable = true)\n",
      " |-- Laureate Type: string (nullable = true)\n",
      " |-- Full Name: string (nullable = true)\n",
      " |-- Birth Date: string (nullable = true)\n",
      " |-- Birth City: string (nullable = true)\n",
      " |-- Birth Country: string (nullable = true)\n",
      " |-- Sex: string (nullable = true)\n",
      " |-- Organization Name: string (nullable = true)\n",
      " |-- Organization City: string (nullable = true)\n",
      " |-- Organization Country: string (nullable = true)\n",
      " |-- Death Date: string (nullable = true)\n",
      " |-- Death City: string (nullable = true)\n",
      " |-- Death Country: string (nullable = true)\n",
      "\n"
     ]
    }
   ],
   "source": [
    "df_nobel_orig.printSchema()"
   ]
  },
  {
   "cell_type": "code",
   "execution_count": 114,
   "id": "e41b7764",
   "metadata": {},
   "outputs": [],
   "source": [
    "# Columns: Year, Category, Prize, Motivation, Prize Share, Laureate ID, Laureate Type\n",
    "df_nobel_prizes = df_nobel_orig.withColumnRenamed(\"Prize Share\", \"prize_share\") \\\n",
    "                               .withColumnRenamed(\"Motivation\", \"motivation\") \\\n",
    "                               .withColumnRenamed(\"Year\", \"year\") \\\n",
    "                               .withColumnRenamed(\"Laureate ID\", \"laureate_id\") \\\n",
    "                               .withColumnRenamed(\"Laureate Type\", \"laureate_type_tmp\") \\\n",
    "                               .withColumnRenamed(\"Category\", \"category_tmp\") \\\n",
    "                               .withColumnRenamed(\"Prize\", \"prize_tmp\") \\\n",
    "                               .select(\"laureate_id\", \"year\", \"motivation\", \"prize_share\", \\\n",
    "                                       \"category_tmp\", \"laureate_type_tmp\", \"prize_tmp\") \\\n",
    "                               .distinct()"
   ]
  },
  {
   "cell_type": "markdown",
   "id": "dd48d4ab",
   "metadata": {},
   "source": [
    "### Add Category ID"
   ]
  },
  {
   "cell_type": "code",
   "execution_count": 115,
   "id": "acaff5cc",
   "metadata": {},
   "outputs": [],
   "source": [
    "join_expr = f.trim(df_nobel_prizes[\"category_tmp\"]) == f.trim(df_categories[\"category\"])\n",
    "df_nobel_prizes = df_nobel_prizes.join(df_categories, join_expr, \"left_outer\")"
   ]
  },
  {
   "cell_type": "code",
   "execution_count": 116,
   "id": "ae7d1eeb",
   "metadata": {},
   "outputs": [
    {
     "data": {
      "text/plain": [
       "0"
      ]
     },
     "execution_count": 116,
     "metadata": {},
     "output_type": "execute_result"
    }
   ],
   "source": [
    "# Check null values\n",
    "df_nobel_prizes.select(\"category_tmp\", \"category_id\").where(\"category_id is null\").count()"
   ]
  },
  {
   "cell_type": "markdown",
   "id": "d1d0defa",
   "metadata": {},
   "source": [
    "### Add Prize Type ID"
   ]
  },
  {
   "cell_type": "code",
   "execution_count": 117,
   "id": "405917e3",
   "metadata": {},
   "outputs": [],
   "source": [
    "join_expr = f.trim(df_nobel_prizes[\"prize_tmp\"]) == f.trim(df_prize_types[\"prize_type\"])\n",
    "df_nobel_prizes = df_nobel_prizes.join(df_prize_types, join_expr, \"left_outer\")"
   ]
  },
  {
   "cell_type": "code",
   "execution_count": 118,
   "id": "6e7d8846",
   "metadata": {},
   "outputs": [
    {
     "data": {
      "text/plain": [
       "0"
      ]
     },
     "execution_count": 118,
     "metadata": {},
     "output_type": "execute_result"
    }
   ],
   "source": [
    "# Check null values\n",
    "df_nobel_prizes.select(\"prize_tmp\", \"prize_type_id\").where(\"prize_type_id is null\").count()"
   ]
  },
  {
   "cell_type": "markdown",
   "id": "326021b3",
   "metadata": {},
   "source": [
    "### Add Laureate Type ID"
   ]
  },
  {
   "cell_type": "code",
   "execution_count": 119,
   "id": "baca70e5",
   "metadata": {},
   "outputs": [],
   "source": [
    "join_expr = f.trim(df_nobel_prizes[\"laureate_type_tmp\"]) == f.trim(df_laureate_types[\"laureate_type\"])\n",
    "df_nobel_prizes = df_nobel_prizes.join(df_laureate_types, join_expr, \"left_outer\")"
   ]
  },
  {
   "cell_type": "code",
   "execution_count": 120,
   "id": "bfaf2ddd",
   "metadata": {},
   "outputs": [
    {
     "data": {
      "text/plain": [
       "0"
      ]
     },
     "execution_count": 120,
     "metadata": {},
     "output_type": "execute_result"
    }
   ],
   "source": [
    "# Check null values\n",
    "df_nobel_prizes.select(\"laureate_type_tmp\", \"laureate_type_id\").where(\"laureate_type_id is null\").count()"
   ]
  },
  {
   "cell_type": "markdown",
   "id": "1cf510e5",
   "metadata": {},
   "source": [
    "### Add ID"
   ]
  },
  {
   "cell_type": "code",
   "execution_count": 121,
   "id": "51531411",
   "metadata": {},
   "outputs": [],
   "source": [
    "df_nobel_prizes = df_nobel_prizes.sort(\"year\", \"laureate_id\") \\\n",
    "                                 .withColumn(\"nobel_prize_id\", f.monotonically_increasing_id()) \\\n",
    "                                 .select(\"nobel_prize_id\", \"year\", \"category_id\", \"laureate_id\", \"laureate_type_id\", \\\n",
    "                                         \"prize_type_id\", \"prize_share\", \"motivation\")"
   ]
  },
  {
   "cell_type": "markdown",
   "id": "82f7302f",
   "metadata": {},
   "source": [
    "Check dataframe"
   ]
  },
  {
   "cell_type": "code",
   "execution_count": 122,
   "id": "1abd16ce",
   "metadata": {},
   "outputs": [
    {
     "name": "stdout",
     "output_type": "stream",
     "text": [
      "+--------------+----+-----------+-----------+----------------+-------------+-----------+------------------------------------------------------------------------------------------------------------------------------------------------+\n",
      "|nobel_prize_id|year|category_id|laureate_id|laureate_type_id|prize_type_id|prize_share|motivation                                                                                                                                      |\n",
      "+--------------+----+-----------+-----------+----------------+-------------+-----------+------------------------------------------------------------------------------------------------------------------------------------------------+\n",
      "|0             |1901|2          |1          |0               |506          |1/1        |in recognition of the extraordinary services he has rendered by the discovery of the remarkable rays subsequently named after him               |\n",
      "|1             |1901|0          |160        |0               |58           |1/1        |in recognition of the extraordinary services he has rendered by the discovery of the laws of chemical dynamics and osmotic pressure in solutions|\n",
      "+--------------+----+-----------+-----------+----------------+-------------+-----------+------------------------------------------------------------------------------------------------------------------------------------------------+\n",
      "only showing top 2 rows\n",
      "\n"
     ]
    }
   ],
   "source": [
    "df_nobel_prizes.show(2,False)"
   ]
  },
  {
   "cell_type": "code",
   "execution_count": null,
   "id": "1308c728",
   "metadata": {},
   "outputs": [],
   "source": [
    "# Save to hive - hadoop\n",
    "# df_nobel_prizes.write.format(\"parquet\").mode(\"overwrite\").saveAsTable(\"whdb.nobel_prizes\")"
   ]
  },
  {
   "cell_type": "markdown",
   "id": "5abb507a",
   "metadata": {},
   "source": [
    "### Remove additional columns from the dataframes: Cities, Organizations"
   ]
  },
  {
   "cell_type": "code",
   "execution_count": 123,
   "id": "ac3b7dc0",
   "metadata": {},
   "outputs": [],
   "source": [
    "df_organizations = df_organizations.select(\"organization_id\", \"organization_name\", \"organization_country_id\", \\\n",
    "                                           \"organization_city_id\", \"parent_organization_id\")\n",
    "\n",
    "df_cities = df_cities.select(\"city_id\", \"city_name\", \"accent_city_name\", \"country_id\", \"city_region\", \"population\", \\\n",
    "                             \"latitude\", \"longitude\")"
   ]
  },
  {
   "cell_type": "code",
   "execution_count": 124,
   "id": "99fd2544",
   "metadata": {},
   "outputs": [
    {
     "name": "stdout",
     "output_type": "stream",
     "text": [
      "root\n",
      " |-- city_id: long (nullable = false)\n",
      " |-- city_name: string (nullable = true)\n",
      " |-- accent_city_name: string (nullable = true)\n",
      " |-- country_id: integer (nullable = true)\n",
      " |-- city_region: string (nullable = true)\n",
      " |-- population: double (nullable = true)\n",
      " |-- latitude: double (nullable = true)\n",
      " |-- longitude: double (nullable = true)\n",
      "\n"
     ]
    }
   ],
   "source": [
    "df_cities.printSchema()"
   ]
  },
  {
   "cell_type": "code",
   "execution_count": 125,
   "id": "6766d912",
   "metadata": {},
   "outputs": [
    {
     "name": "stdout",
     "output_type": "stream",
     "text": [
      "root\n",
      " |-- organization_id: integer (nullable = false)\n",
      " |-- organization_name: string (nullable = true)\n",
      " |-- organization_country_id: integer (nullable = true)\n",
      " |-- organization_city_id: long (nullable = true)\n",
      " |-- parent_organization_id: integer (nullable = true)\n",
      "\n"
     ]
    }
   ],
   "source": [
    "df_organizations.printSchema()"
   ]
  },
  {
   "cell_type": "code",
   "execution_count": 126,
   "id": "ad9b839e",
   "metadata": {},
   "outputs": [],
   "source": [
    "sp.stop()"
   ]
  }
 ],
 "metadata": {
  "kernelspec": {
   "display_name": "Python 3 (ipykernel)",
   "language": "python",
   "name": "python3"
  },
  "language_info": {
   "codemirror_mode": {
    "name": "ipython",
    "version": 3
   },
   "file_extension": ".py",
   "mimetype": "text/x-python",
   "name": "python",
   "nbconvert_exporter": "python",
   "pygments_lexer": "ipython3",
   "version": "3.9.7"
  }
 },
 "nbformat": 4,
 "nbformat_minor": 5
}

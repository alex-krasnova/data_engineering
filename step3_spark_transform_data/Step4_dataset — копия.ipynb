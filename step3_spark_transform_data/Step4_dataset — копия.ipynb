{
 "cells": [
  {
   "cell_type": "code",
   "execution_count": 1,
   "id": "cfdf357d",
   "metadata": {},
   "outputs": [],
   "source": [
    "import os\n",
    "import findspark\n",
    "import pandas as pd\n",
    "from pyspark.sql import SparkSession\n",
    "from pyspark.sql import functions as f\n",
    "from pyspark.sql import Column as c\n",
    "from pyspark.sql.window import Window\n",
    "\n",
    "\n",
    "findspark.init()\n",
    "findspark.find()\n",
    "\n",
    "os.environ[\"PYSPARK_DRIVER_PYTHON\"] = \"python3\"\n",
    "os.environ[\"PYSPARK_SUBMIT_ARGS\"] = \"pyspark-shell\""
   ]
  },
  {
   "cell_type": "markdown",
   "id": "0b62be19",
   "metadata": {},
   "source": [
    "# Start session\n",
    "http://localhost:4040"
   ]
  },
  {
   "cell_type": "code",
   "execution_count": 2,
   "id": "3500eeae",
   "metadata": {},
   "outputs": [],
   "source": [
    "sp = SparkSession.builder.master('local[*]').config(\"spark.driver.memory\", \"15g\").appName('spark_test_tables').getOrCreate()"
   ]
  },
  {
   "cell_type": "code",
   "execution_count": 3,
   "id": "ef7d0fbe",
   "metadata": {},
   "outputs": [],
   "source": [
    "sp.conf.set(\"spark.sql.adaptive.enabled\",True)\n",
    "sp.conf.set(\"spark.sql.adaptive.skewJoin.enabled\",True)\n",
    "sp.conf.set(\"spark.sql.adaptive.coalescePartitions.enabled\",True)"
   ]
  },
  {
   "cell_type": "markdown",
   "id": "7cb8453b",
   "metadata": {},
   "source": [
    "# Preprocessing\n",
    "Create spark datasets from all CSV and JSON files"
   ]
  },
  {
   "cell_type": "code",
   "execution_count": 4,
   "id": "ece465d9",
   "metadata": {},
   "outputs": [],
   "source": [
    "# Open CSV file in spark dataframe\n",
    "def spark_csv_open(file):\n",
    "    path = \"data/\" + file\n",
    "    \n",
    "    # open file\n",
    "    df = sp.read.format(\"csv\") \\\n",
    "            .option(\"mode\", \"FAILFAST\") \\\n",
    "            .option(\"inferSchema\", \"true\") \\\n",
    "            .option(\"header\",\"true\") \\\n",
    "            .option(\"escapeQuotes\", \"true\") \\\n",
    "            .option(\"path\", path) \\\n",
    "            .load()\n",
    "    \n",
    "    # return spark dataframe\n",
    "    return df\n",
    "\n",
    "# Open JSON file with format {key:value} in pandas dataframe (key = 'country_code'), transform to spark dataframe\n",
    "def spark_json_open(file,colname):\n",
    "    path = \"data/\" + file\n",
    "    \n",
    "    # open file - pandas dataframe\n",
    "    sf = pd.read_json(path, typ='series')\n",
    "    df = pd.DataFrame({'country_code':sf.index, colname:sf.values})\n",
    "\n",
    "    # create spark dataframe from pandas dataframe\n",
    "    df = sp.createDataFrame(df)\n",
    "    \n",
    "    # return spark dataframe\n",
    "    return df\n",
    "\n",
    "\n",
    "# Create spark datasets from files\n",
    "column1 = 'country_code'\n",
    "df_nobel_orig = spark_csv_open('nobel_upd.csv')\n",
    "df_countries_orig = spark_csv_open('countries of the world.csv')\n",
    "df_cities_orig = spark_csv_open('worldcitiespop.csv')\n",
    "df_continents_orig = spark_json_open('continent.json','continent_code')\n",
    "df_names_orig = spark_json_open('names.json','country_name')"
   ]
  },
  {
   "cell_type": "markdown",
   "id": "28cff135",
   "metadata": {},
   "source": [
    "Use the result of analysis done for the 'snowflake' dataframes.<br>\n",
    "Prepare Countries, Cities, Organizations information."
   ]
  },
  {
   "cell_type": "code",
   "execution_count": 5,
   "id": "4060b7d7",
   "metadata": {},
   "outputs": [
    {
     "data": {
      "text/plain": [
       "969"
      ]
     },
     "execution_count": 5,
     "metadata": {},
     "output_type": "execute_result"
    }
   ],
   "source": [
    "# Count of records in the original Nobel Laureates dataset\n",
    "df_nobel_orig.count()"
   ]
  },
  {
   "cell_type": "markdown",
   "id": "f68465ac",
   "metadata": {},
   "source": [
    "## Countries\n",
    "Update country names for join country information"
   ]
  },
  {
   "cell_type": "code",
   "execution_count": 6,
   "id": "3011e310",
   "metadata": {},
   "outputs": [],
   "source": [
    "# Fix the names in the Countries dataset\n",
    "df_countries_orig = df_countries_orig.withColumn(\"Country\", \\\n",
    "                                   f.when(f.trim(f.col(\"Country\")) == 'Congo, Repub. of the', 'Republic of the Congo') \\\n",
    "                                    .when(f.trim(f.col(\"Country\")) == 'Korea, North', 'North Korea') \\\n",
    "                                    .when(f.trim(f.col(\"Country\")) == 'Congo, Dem. Rep.', 'Democratic Republic of the Congo') \\\n",
    "                                    .when(f.trim(f.col(\"Country\")) == 'Burma', 'Myanmar') \\\n",
    "                                    .when(f.trim(f.col(\"Country\")) == 'Central African Rep.', 'Central African Republic') \\\n",
    "                                    .when(f.trim(f.col(\"Country\")) == 'Macau', 'Macao') \\\n",
    "                                    .when(f.trim(f.col(\"Country\")) == 'Micronesia, Fed. St.', 'Micronesia') \\\n",
    "                                    .when(f.trim(f.col(\"Country\")) == 'Virgin Islands', 'U.S. Virgin Islands') \\\n",
    "                                    .when(f.trim(f.col(\"Country\")) == 'N. Mariana Islands', 'Northern Mariana Islands') \\\n",
    "                                    .when(f.trim(f.col(\"Country\")) == 'Gambia, The', 'Gambia') \\\n",
    "                                    .when(f.trim(f.col(\"Country\")) == 'Cote d\\'Ivoire', 'Ivory Coast') \\\n",
    "                                    .when(f.trim(f.col(\"Country\")) == 'St Pierre & Miquelon', 'Saint Pierre and Miquelon') \\\n",
    "                                    .when(f.trim(f.col(\"Country\")) == 'British Virgin Is.', 'British Virgin Islands') \\\n",
    "                                    .when(f.trim(f.col(\"Country\")) == 'Korea, South', 'South Korea') \\\n",
    "                                    .when(f.trim(f.col(\"Country\")) == 'Bahamas, The', 'Bahamas') \\\n",
    "                                    .when(f.trim(f.col(\"Country\")) == 'Trinidad & Tobago', 'Trinidad and Tobago') \\\n",
    "                                    .when(f.trim(f.col(\"Country\")) == 'Bosnia & Herzegovina', 'Bosnia and Herzegovina') \\\n",
    "                                    .when(f.trim(f.col(\"Country\")) == 'Antigua & Barbuda', 'Antigua and Barbuda') \\\n",
    "                                    .when(f.trim(f.col(\"Country\")) == 'Sao Tome & Principe', 'Sao Tome and Principe') \\\n",
    "                                    .when(f.trim(f.col(\"Country\")) == 'Saint Kitts & Nevis', 'Saint Kitts and Nevis') \\\n",
    "                                    .when(f.trim(f.col(\"Country\")) == 'Turks & Caicos Is', 'Turks and Caicos Islands') \\\n",
    "                                    .when(f.trim(f.col(\"Country\")) == 'United States', 'United States of America') \\\n",
    "                                    .when(f.trim(f.col(\"Country\")) == 'Guadeloupe', 'Guadeloupe Island') \\\n",
    "                                    .otherwise(f.col(\"Country\")))\n",
    "\n",
    "# Fix the names in the ISO2 dataset\n",
    "df_names_orig = df_names_orig.withColumn(\"country_name\", \\\n",
    "                                        f.when(f.trim(f.col(\"country_name\")) == 'United States', 'United States of America') \\\n",
    "                                         .when(f.trim(f.col(\"country_name\")) == 'Guadeloupe', 'Guadeloupe Island') \\\n",
    "                                         .otherwise(f.col(\"country_name\")))\n",
    "\n",
    "# Join ISO2, Countries and Continents dataset - for adding continents\n",
    "join_expr = f.trim(df_countries_orig[\"Country\"]) == f.trim(df_names_orig[\"country_name\"])\n",
    "df_countries_orig = df_countries_orig.join(df_names_orig, join_expr, \"left_outer\") \\\n",
    "                                     .withColumnRenamed(\"country_code\", \"cc\") \\\n",
    "                                     .drop(\"country_name\")\n",
    "\n",
    "join_expr = f.trim(df_countries_orig[\"cc\"]) == f.trim(df_continents_orig[\"country_code\"])\n",
    "df_countries_orig = df_countries_orig.join(df_continents_orig, join_expr, \"left_outer\") \\\n",
    "                                     .withColumn(\"continent_name\",  f.when(f.col(\"continent_code\") == 'NA', 'NORTH AMERICA') \\\n",
    "                                        .when(f.col(\"continent_code\") == 'SA', 'SOUTH AMERICA') \\\n",
    "                                        .when(f.col(\"continent_code\") == 'AS', 'ASIA') \\\n",
    "                                        .when(f.col(\"continent_code\") == 'AN', 'ANTARCTICA') \\\n",
    "                                        .when(f.col(\"continent_code\") == 'OC', 'AUSTRALIA/OCEANIA') \\\n",
    "                                        .when(f.col(\"continent_code\") == 'EU', 'EUROPE') \\\n",
    "                                        .when(f.col(\"continent_code\") == 'AF', 'AFRICA') \\\n",
    "                                        .otherwise('')) \\\n",
    "                                     .withColumn(\"country_code\", f.lower(f.col(\"country_code\"))) \\\n",
    "                                     .drop(\"continent_code\", \"cc\")\n",
    "\n",
    "# Fix Country names in the Nobel Prizes dataset\n",
    "df_nobel_orig = df_nobel_orig.withColumn(\"Birth Country\", \\\n",
    "                                 f.when(f.col(\"Birth Country\") == 'W&uuml;rttemberg (Germany)', 'Württemberg (Germany)') \\\n",
    "                                  .otherwise(f.col(\"Birth Country\"))) \\\n",
    "                             .withColumn(\"Organization Country\", \\\n",
    "                                 f.when(f.col(\"Organization Country\") == 'United States', 'United States of America') \\\n",
    "                                  .otherwise(f.col(\"Organization Country\")))"
   ]
  },
  {
   "cell_type": "markdown",
   "id": "28f765b9",
   "metadata": {},
   "source": [
    "## Parent Countries\n",
    "Create a dataframe with matches 'Country Name' - 'Parent Country Name'.<br>\n",
    "If a city changed a country, specify the historical country."
   ]
  },
  {
   "cell_type": "code",
   "execution_count": 7,
   "id": "899e088e",
   "metadata": {},
   "outputs": [],
   "source": [
    "data = [{\"c_name\": \"British Protectorate of Palestine (Israel)\", \"p_c_name\": \"Israel\"},\n",
    "{\"c_name\": \"Czechoslovakia (Czech Republic)\", \"p_c_name\": \"Czech Republic\"},\n",
    "{\"c_name\": \"Russian Empire (Latvia)\", \"p_c_name\": \"Latvia\"},\n",
    "{\"c_name\": \"Trinidad\", \"p_c_name\": \"Trinidad and Tobago\"},\n",
    "{\"c_name\": \"Austria-Hungary (Poland)\", \"p_c_name\": \"Poland\"},\n",
    "{\"c_name\": \"Schleswig (Germany)\", \"p_c_name\": \"Germany\"},\n",
    "{\"c_name\": \"Russian Empire (Poland)\", \"p_c_name\": \"Poland\"},\n",
    "{\"c_name\": \"British India (India)\", \"p_c_name\": \"India\"},\n",
    "{\"c_name\": \"British West Indies (Saint Lucia)\", \"p_c_name\": \"Saint Lucia\"},\n",
    "{\"c_name\": \"Tuscany (Italy)\", \"p_c_name\": \"Italy\"},\n",
    "{\"c_name\": \"Bosnia (Bosnia and Herzegovina)\", \"p_c_name\": \"Bosnia and Herzegovina\"},\n",
    "{\"c_name\": \"Austria-Hungary (Ukraine)\", \"p_c_name\": \"Ukraine\"},\n",
    "{\"c_name\": \"Russian Empire (Lithuania)\", \"p_c_name\": \"Lithuania\"},\n",
    "{\"c_name\": \"Austria-Hungary (Slovenia)\", \"p_c_name\": \"Slovenia\"},\n",
    "{\"c_name\": \"Austria-Hungary (Hungary)\", \"p_c_name\": \"Hungary\"},\n",
    "{\"c_name\": \"German-occupied Poland (Poland)\", \"p_c_name\": \"Poland\"},\n",
    "{\"c_name\": \"Austria-Hungary (Bosnia and Herzegovina)\", \"p_c_name\": \"Bosnia and Herzegovina\"},\n",
    "{\"c_name\": \"Faroe Islands (Denmark)\", \"p_c_name\": \"Denmark\"},\n",
    "{\"c_name\": \"Austrian Empire (Czech Republic)\", \"p_c_name\": \"Czech Republic\"},\n",
    "{\"c_name\": \"Korea (South Korea)\", \"p_c_name\": \"South Korea\"},\n",
    "{\"c_name\": \"French Algeria (Algeria)\", \"p_c_name\": \"Algeria\"},\n",
    "{\"c_name\": \"Ottoman Empire (Turkey)\", \"p_c_name\": \"Turkey\"},\n",
    "{\"c_name\": \"West Germany (Germany)\", \"p_c_name\": \"Germany\"},\n",
    "{\"c_name\": \"Austrian Empire (Italy)\", \"p_c_name\": \"Italy\"},\n",
    "{\"c_name\": \"Prussia (Germany)\", \"p_c_name\": \"Germany\"},\n",
    "{\"c_name\": \"Russian Empire (Ukraine)\", \"p_c_name\": \"Ukraine\"},\n",
    "{\"c_name\": \"British Mandate of Palestine (Israel)\", \"p_c_name\": \"Israel\"},\n",
    "{\"c_name\": \"Mecklenburg (Germany)\", \"p_c_name\": \"Germany\"},\n",
    "{\"c_name\": \"Persia (Iran)\", \"p_c_name\": \"Iran\"},\n",
    "{\"c_name\": \"Crete (Greece)\", \"p_c_name\": \"Greece\"},\n",
    "{\"c_name\": \"Gold Coast (Ghana)\", \"p_c_name\": \"Ghana\"},\n",
    "{\"c_name\": \"Tibet (People's Republic of China)\", \"p_c_name\": \"China\"},\n",
    "{\"c_name\": \"Austria-Hungary (Czech Republic)\", \"p_c_name\": \"Czech Republic\"},\n",
    "{\"c_name\": \"Prussia (Poland)\", \"p_c_name\": \"Poland\"},\n",
    "{\"c_name\": \"Russian Empire (Belarus)\", \"p_c_name\": \"Belarus\"},\n",
    "{\"c_name\": \"Russian Empire (Azerbaijan)\", \"p_c_name\": \"Azerbaijan\"},\n",
    "{\"c_name\": \"Union of Soviet Socialist Republics (Belarus)\", \"p_c_name\": \"Belarus\"},\n",
    "{\"c_name\": \"Southern Rhodesia (Zimbabwe)\", \"p_c_name\": \"Zimbabwe\"},\n",
    "{\"c_name\": \"Burma (Myanmar)\", \"p_c_name\": \"Myanmar\"},\n",
    "{\"c_name\": \"Russian Empire (Russia)\", \"p_c_name\": \"Russia\"},\n",
    "{\"c_name\": \"Hesse-Kassel (Germany)\", \"p_c_name\": \"Germany\"},\n",
    "{\"c_name\": \"Austria-Hungary (Croatia)\", \"p_c_name\": \"Croatia\"},\n",
    "{\"c_name\": \"Württemberg (Germany)\", \"p_c_name\": \"Germany\"},\n",
    "{\"c_name\": \"Free City of Danzig (Poland)\", \"p_c_name\": \"Poland\"},\n",
    "{\"c_name\": \"Prussia (Russia)\", \"p_c_name\": \"Russia\"},\n",
    "{\"c_name\": \"British India (Bangladesh)\", \"p_c_name\": \"Bangladesh\"},\n",
    "{\"c_name\": \"Ottoman Empire (Republic of Macedonia)\", \"p_c_name\": \"Macedonia\"},\n",
    "{\"c_name\": \"Austria-Hungary (Austria)\", \"p_c_name\": \"Austria\"},\n",
    "{\"c_name\": \"East Friesland (Germany)\", \"p_c_name\": \"Germany\"},\n",
    "{\"c_name\": \"Union of Soviet Socialist Republics (Russia)\", \"p_c_name\": \"Russia\"},\n",
    "{\"c_name\": \"Java, Dutch East Indies (Indonesia)\", \"p_c_name\": \"Indonesia\"},\n",
    "{\"c_name\": \"Russian Empire (Finland)\", \"p_c_name\": \"Finland\"},\n",
    "{\"c_name\": \"Scotland\", \"p_c_name\": \"United Kingdom\"},\n",
    "{\"c_name\": \"Northern Ireland\", \"p_c_name\": \"United Kingdom\"},\n",
    "{\"c_name\": \"Bavaria (Germany)\", \"p_c_name\": \"Germany\"},\n",
    "{\"c_name\": \"Austrian Empire (Austria)\", \"p_c_name\": \"Austria\"},\n",
    "{\"c_name\": \"Union of Soviet Socialist Republics\", \"p_c_name\": \"Russia\"},\n",
    "{\"c_name\": \"Northern Rhodesia (Zambia)\", \"p_c_name\": \"Zambia\"},\n",
    "{\"c_name\": \"Czechoslovakia\", \"p_c_name\": \"Czech Republic\"},\n",
    "{\"c_name\": \"Yugoslavia (Serbia)\", \"p_c_name\": \"Serbia\"},\n",
    "{\"c_name\": \"East Germany\", \"p_c_name\": \"Germany\"},\n",
    "{\"c_name\": \"Federal Republic of Germany\", \"p_c_name\": \"Germany\"},\n",
    "{\"c_name\": \"Alsace (then Germany, now France)\", \"p_c_name\": \"France\"},\n",
    "{\"c_name\": \"Germany (Poland)\", \"p_c_name\": \"Germany\"},\n",
    "{\"c_name\": \"Germany (France)\", \"p_c_name\": \"Germany\"},\n",
    "{\"c_name\": \"Germany (Russia)\", \"p_c_name\": \"Germany\"},\n",
    "{\"c_name\": \"Poland (Ukraine)\", \"p_c_name\": \"Poland\"},\n",
    "{\"c_name\": \"Poland (Lithuania)\", \"p_c_name\": \"Poland\"},\n",
    "{\"c_name\": \"Poland (Belarus)\", \"p_c_name\": \"Poland\"},\n",
    "{\"c_name\": \"Hungary (Slovakia)\", \"p_c_name\": \"Hungary\"},\n",
    "{\"c_name\": \"India (Pakistan)\", \"p_c_name\": \"India\"}]\n",
    "\n",
    "df_mis_cntr = sp.createDataFrame(data)"
   ]
  },
  {
   "cell_type": "markdown",
   "id": "aec4ed27",
   "metadata": {},
   "source": [
    "## Organizations\n",
    "Update null City and Country for organizations"
   ]
  },
  {
   "cell_type": "code",
   "execution_count": 8,
   "id": "866b7fcd",
   "metadata": {},
   "outputs": [],
   "source": [
    "df_nobel_orig = df_nobel_orig.withColumn(\"Organization City\", \\\n",
    "                                f.when(f.trim(f.col(\"Organization Name\")) == 'Howard Hughes Medical Institute', 'Durham, NC') \\\n",
    "                                 .when(f.trim(f.col(\"Organization Name\")) == 'University of Delaware', 'Newark, DE') \\\n",
    "                                 .otherwise(f.col(\"Organization City\"))) \\\n",
    "                             .withColumn(\"Organization Country\", \\\n",
    "                                f.when(f.trim(f.col(\"Organization Name\")) == 'Howard Hughes Medical Institute',\\\n",
    "                                       'United States of America') \\\n",
    "                                 .when((f.trim(f.col(\"Organization Name\")) == 'Institut Pasteur') \\\n",
    "                                       & (f.trim(f.col(\"Organization City\")) == 'Tunis'), \\\n",
    "                                       'Tunisia') \\\n",
    "                                 .otherwise(f.col(\"Organization Country\")))"
   ]
  },
  {
   "cell_type": "markdown",
   "id": "ceef530d",
   "metadata": {},
   "source": [
    "## Parent Organizations\n",
    "Create a dataframe with matches 'Organization Name' - 'Parent Organization Name'."
   ]
  },
  {
   "cell_type": "code",
   "execution_count": 9,
   "id": "23ee04aa",
   "metadata": {},
   "outputs": [],
   "source": [
    "data = [{\"o_name\": \"Bell Telephone Laboratories\", \"p_o_name\": \"Bell Laboratories\"},\n",
    "{\"o_name\": \"Columbia University Division, Cardio-Pulmonary Laboratory, Bellevue Hospital\", \"p_o_name\": \"Columbia University\"},\n",
    "{\"o_name\": \"Duke University Medical Center\", \"p_o_name\": \"Duke University\"},\n",
    "{\"o_name\": \"Duke University School of Medicine\", \"p_o_name\": \"Duke University\"},\n",
    "{\"o_name\": \"Max-Planck-Institut für Chemie\", \"p_o_name\": \"Max Planck Society\"},\n",
    "{\"o_name\": \"Kaiser-Wilhelm-Institut (now Fritz-Haber-Institut) für physikalische Chemie und Electrochemie\", \"p_o_name\": \"Max Planck Society\"},\n",
    "{\"o_name\": \"Kaiser-Wilhelm-Institut (now Max-Planck Institut) für Chemie\", \"p_o_name\": \"Max Planck Society\"},\n",
    "{\"o_name\": \"Kaiser-Wilhelm-Institut (now Max-Planck-Institut) für Biochemie\", \"p_o_name\": \"Max Planck Society\"},\n",
    "{\"o_name\": \"Kaiser-Wilhelm-Institut (now Max-Planck-Institut) für Biologie\", \"p_o_name\": \"Max Planck Society\"},\n",
    "{\"o_name\": \"Fritz-Haber-Institut der Max-Planck-Gesellschaft\", \"p_o_name\": \"Max Planck Society\"},\n",
    "{\"o_name\": \"Kaiser-Wilhelm-Institut (now Max-Planck-Institut) für Physik\", \"p_o_name\": \"Max Planck Society\"},\n",
    "{\"o_name\": \"Max-Planck-Institut für Biochemie \", \"p_o_name\": \"Max Planck Society\"},\n",
    "{\"o_name\": \"Max-Planck-Institut für Kohlenforschung (Max-Planck-Institute for Carbon Research)  \", \"p_o_name\": \"Max Planck Society\"},\n",
    "{\"o_name\": \"Max-Planck-Institut für Quantenoptik\", \"p_o_name\": \"Max Planck Society\"},\n",
    "{\"o_name\": \"Max-Planck-Institut für Biophysik\", \"p_o_name\": \"Max Planck Society\"},\n",
    "{\"o_name\": \"Max-Planck-Institut für Festkörperforschung\", \"p_o_name\": \"Max Planck Society\"},\n",
    "{\"o_name\": \"Kaiser-Wilhelm-Institut (now Max-Planck Institut) für Medizinische Forschung\", \"p_o_name\": \"Max Planck Society\"},\n",
    "{\"o_name\": \"Max-Planck-Institut für medizinische Forschung\", \"p_o_name\": \"Max Planck Society\"},\n",
    "{\"o_name\": \"Max-Planck-Institut für Entwicklungsbiologie\", \"p_o_name\": \"Max Planck Society\"},\n",
    "{\"o_name\": \"Max Planck Institute for Biophysical Chemistry\", \"p_o_name\": \"Max Planck Society\"},\n",
    "{\"o_name\": \"Max-Planck-Institut für Biophysikalische Chemie\", \"p_o_name\": \"Max Planck Society\"},\n",
    "{\"o_name\": \"Max-Planck-Institut für Physikalische Chemie\", \"p_o_name\": \"Max Planck Society\"},\n",
    "{\"o_name\": \"Max-Planck-Institut für Zellchemie\", \"p_o_name\": \"Max Planck Society\"},\n",
    "{\"o_name\": \"Harvard University, Biological Laboratories\", \"p_o_name\": \"Harvard University\"},\n",
    "{\"o_name\": \"Harvard University, Lyman Laboratory\", \"p_o_name\": \"Harvard University\"},\n",
    "{\"o_name\": \"Imperial Cancer Research Fund Laboratory\", \"p_o_name\": \"Imperial Cancer Research Fund\"},\n",
    "{\"o_name\": \"Johns Hopkins University School of Medicine\", \"p_o_name\": \"Johns Hopkins University\"},\n",
    "{\"o_name\": \"Karolinska Institutet, Nobel Medical Institute\", \"p_o_name\": \"Karolinska Institutet\"},\n",
    "{\"o_name\": \"London University, King's College Hospital Medical School\", \"p_o_name\": \"London University\"},\n",
    "{\"o_name\": \"Massachusetts Institute of Technology (MIT), Center for Cancer Research\", \"p_o_name\": \"Massachusetts Institute of Technology (MIT)\"},\n",
    "{\"o_name\": \"New York University, College of Medicine\", \"p_o_name\": \"New York University\"},\n",
    "{\"o_name\": \"Rockefeller Institute for Medical Research\", \"p_o_name\": \"Rockefeller University\"},\n",
    "{\"o_name\": \"Sorbonne University, Institut Henri Poincaré\", \"p_o_name\": \"Sorbonne University\"},\n",
    "{\"o_name\": \"Stanford University School of Medicine\", \"p_o_name\": \"Stanford University\"},\n",
    "{\"o_name\": \"University of California School of Medicine\", \"p_o_name\": \"University of California\"},\n",
    "{\"o_name\": \"University of California, Kavli Institute for Theoretical Physics\", \"p_o_name\": \"University of California\"},\n",
    "{\"o_name\": \"University of Chicago, Ben May Laboratory for Cancer Research\", \"p_o_name\": \"University of Chicago\"},\n",
    "{\"o_name\": \"University of Colorado, JILA\", \"p_o_name\": \"University of Colorado\"},\n",
    "{\"o_name\": \"University of Freiburg\", \"p_o_name\": \"University of Freiburg im Breisgau\"},\n",
    "{\"o_name\": \"University of Oxford, Royal Society\", \"p_o_name\": \"University of Oxford\"},\n",
    "{\"o_name\": \"University of Texas Medical School at Houston\", \"p_o_name\": \"ttttttt\"},\n",
    "{\"o_name\": \"University of Texas Southwestern Medical Center at Dallas\", \"p_o_name\": \"University of Texas\"},\n",
    "{\"o_name\": \"University of Zurich, Institute of Experimental Immunology\", \"p_o_name\": \"University of Zurich\"},\n",
    "{\"o_name\": \"Vanderbilt University School of Medicine\", \"p_o_name\": \"Vanderbilt University\"},\n",
    "{\"o_name\": \"Yale University, School of Medicine\", \"p_o_name\": \"Yale University\"}]\n",
    "\n",
    "df_par_org = sp.createDataFrame(data)"
   ]
  },
  {
   "cell_type": "markdown",
   "id": "c64c7b72",
   "metadata": {},
   "source": [
    "## Cities\n",
    "Add CityUpd column with US Cities in a format 'City, Region' for joining to the dataset.<br>\n",
    "Create a dataframe with mismatches in Cities and Nobel Laureate dataframes."
   ]
  },
  {
   "cell_type": "code",
   "execution_count": 10,
   "id": "350688a3",
   "metadata": {},
   "outputs": [],
   "source": [
    "# CityUpd column\n",
    "df_cities_orig = df_cities_orig.withColumn(\"CityUpd\", \\\n",
    "                              f.when(f.col(\"Country\") == 'us', f.concat_ws(\", \",\"AccentCity\",'Region')) \\\n",
    "                               .otherwise(f.col(\"AccentCity\")))"
   ]
  },
  {
   "cell_type": "code",
   "execution_count": 11,
   "id": "aeb8a3eb",
   "metadata": {},
   "outputs": [],
   "source": [
    "# Dataframe with mismatches. Columns: \n",
    "# 'mis_city_name' - city name in the Nobel Laureates dataframe.\n",
    "# 'orig_city_name', 'orig_region', 'orig_country' - city, region, country names in the Cities dataframe.\n",
    "data = [{\"mis_city_name\": \"Casteldàwson\", \"orig_city_name\": \"Castledawson\", \"orig_region\": \"S7\", \"orig_country\": \"gb\"},\n",
    "{\"mis_city_name\": \"Grand Valley, CO\", \"orig_city_name\": \"Green Valley Acres\", \"orig_region\": \"CO\", \"orig_country\": \"us\"},\n",
    "{\"mis_city_name\": \"Yamanashi Prefecture\", \"orig_city_name\": \"Yamanashi\", \"orig_region\": \"37\", \"orig_country\": \"jp\"},\n",
    "{\"mis_city_name\": \"Amherst, NS\", \"orig_city_name\": \"Amherst\", \"orig_region\": \"07\", \"orig_country\": \"ca\"},\n",
    "{\"mis_city_name\": \"Champaign-Urbana, IL\", \"orig_city_name\": \"Champaign\", \"orig_region\": \"IL\", \"orig_country\": \"us\"},\n",
    "{\"mis_city_name\": \"Danzig (Gdansk)\", \"orig_city_name\": \"Danzig\", \"orig_region\": \"82\", \"orig_country\": \"pl\"},\n",
    "{\"mis_city_name\": \"Fleräng\", \"orig_city_name\": \"Uppsala\", \"orig_region\": \"21\", \"orig_country\": \"se\"},\n",
    "{\"mis_city_name\": \"Kattowitz (Katowice)\", \"orig_city_name\": \"Kattowitz\", \"orig_region\": \"83\", \"orig_country\": \"pl\"},\n",
    "{\"mis_city_name\": \"Hobart, Tasmania\", \"orig_city_name\": \"Hobart\", \"orig_region\": \"06\", \"orig_country\": \"au\"},\n",
    "{\"mis_city_name\": \"Leningrad (Saint Petersburg)\", \"orig_city_name\": \"Leningrad\", \"orig_region\": \"66\", \"orig_country\": \"ru\"},\n",
    "{\"mis_city_name\": \"Gaffken (Parusnoye)\", \"orig_city_name\": \"Gaffken\", \"orig_region\": \"23\", \"orig_country\": \"ru\"},\n",
    "{\"mis_city_name\": \"Rufford, near Chesterfield\", \"orig_city_name\": \"Rufford\", \"orig_region\": \"H2\", \"orig_country\": \"gb\"},\n",
    "{\"mis_city_name\": \"Goldschmieden, near Breslau\", \"orig_city_name\": \"Breslau\", \"orig_region\": \"72\", \"orig_country\": \"pl\"},\n",
    "{\"mis_city_name\": \"Kibbutz Sde-Nahum\", \"orig_city_name\": \"Sede Nahum\", \"orig_region\": \"03\", \"orig_country\": \"il\"},\n",
    "{\"mis_city_name\": \"Hansdorf (Lawice)\", \"orig_city_name\": \"Hansdorf\", \"orig_region\": \"85\", \"orig_country\": \"pl\"},\n",
    "{\"mis_city_name\": \"Toyama City\", \"orig_city_name\": \"Toyama\", \"orig_region\": \"08\", \"orig_country\": \"jp\"},\n",
    "{\"mis_city_name\": \"St. Petersburg\", \"orig_city_name\": \"Sankt-Peterburg\", \"orig_region\": \"66\", \"orig_country\": \"ru\"},\n",
    "{\"mis_city_name\": \"Aldea Chimel\", \"orig_city_name\": \"Chimel\", \"orig_region\": \"01\", \"orig_country\": \"gt\"},\n",
    "{\"mis_city_name\": \"Vicuña\", \"orig_city_name\": \"Vicuna\", \"orig_region\": \"07\", \"orig_country\": \"cl\"},\n",
    "{\"mis_city_name\": \"Dippenhall\", \"orig_city_name\": \"Farnham\", \"orig_region\": \"E4\", \"orig_country\": \"gb\"},\n",
    "{\"mis_city_name\": \"Königshütte (Chorzów)\", \"orig_city_name\": \"Königshütte\", \"orig_region\": \"14\", \"orig_country\": \"de\"},\n",
    "{\"mis_city_name\": \"Skedsmo\", \"orig_city_name\": \"Skedsmokorset\", \"orig_region\": \"01\", \"orig_country\": \"no\"},\n",
    "{\"mis_city_name\": \"Kingston, ON\", \"orig_city_name\": \"Kingston\", \"orig_region\": \"08\", \"orig_country\": \"ca\"},\n",
    "{\"mis_city_name\": \"Leggiuno-Sangiano\", \"orig_city_name\": \"Varese\", \"orig_region\": \"09\", \"orig_country\": \"it\"},\n",
    "{\"mis_city_name\": \"Taktser\", \"orig_city_name\": \"Qinghaihu\", \"orig_region\": \"06\", \"orig_country\": \"cn\"},\n",
    "{\"mis_city_name\": \"Gränichen\", \"orig_city_name\": \"Granichen\", \"orig_region\": \"01\", \"orig_country\": \"ch\"},\n",
    "{\"mis_city_name\": \"Neisse (Nysa)\", \"orig_city_name\": \"Neisse\", \"orig_region\": \"79\", \"orig_country\": \"pl\"},\n",
    "{\"mis_city_name\": \"St. Columb Minor\", \"orig_city_name\": \"Saint Columb Minor\", \"orig_region\": \"C6\", \"orig_country\": \"gb\"},\n",
    "{\"mis_city_name\": \"Zelvas\", \"orig_city_name\": \"Zelva\", \"orig_region\": \"60\", \"orig_country\": \"lt\"},\n",
    "{\"mis_city_name\": \"Olympus, TN\", \"orig_city_name\": \"Byrdstown\", \"orig_region\": \"TN\", \"orig_country\": \"us\"},\n",
    "{\"mis_city_name\": \"Sorau (Zory)\", \"orig_city_name\": \"Sorau in Nieder Lausitz\", \"orig_region\": \"76\", \"orig_country\": \"pl\"},\n",
    "{\"mis_city_name\": \"Gjesdal\", \"orig_city_name\": \"Ålgård\", \"orig_region\": \"14\", \"orig_country\": \"no\"},\n",
    "{\"mis_city_name\": \"Viipuri (Vyborg)\", \"orig_city_name\": \"Viipuri\", \"orig_region\": \"42\", \"orig_country\": \"ru\"},\n",
    "{\"mis_city_name\": \"Kvikne\", \"orig_city_name\": \"Kviknepladsen\", \"orig_region\": \"06\", \"orig_country\": \"no\"},\n",
    "{\"mis_city_name\": \"Nuoro, Sardinia\", \"orig_city_name\": \"Nuoro\", \"orig_region\": \"14\", \"orig_country\": \"it\"},\n",
    "{\"mis_city_name\": \"Priluka (Nova Pryluka)\", \"orig_city_name\": \"Priluka Novaya\", \"orig_region\": \"23\", \"orig_country\": \"ua\"},\n",
    "{\"mis_city_name\": \"Laibach (Ljubljana)\", \"orig_city_name\": \"Laibach\", \"orig_region\": \"04\", \"orig_country\": \"si\"},\n",
    "{\"mis_city_name\": \"Smyrna (Izmir)\", \"orig_city_name\": \"Smyrna\", \"orig_region\": \"35\", \"orig_country\": \"tr\"},\n",
    "{\"mis_city_name\": \"Mexico City\", \"orig_city_name\": \"Mexico\", \"orig_region\": \"09\", \"orig_country\": \"mx\"},\n",
    "{\"mis_city_name\": \"Timmins, ON\", \"orig_city_name\": \"Timmins\", \"orig_region\": \"08\", \"orig_country\": \"ca\"},\n",
    "{\"mis_city_name\": \"San José, CA\", \"orig_city_name\": \"San Jose\", \"orig_region\": \"CA\", \"orig_country\": \"us\"},\n",
    "{\"mis_city_name\": \"Jamaica Plain, MA (Boston)\", \"orig_city_name\": \"Jamaica Plain\", \"orig_region\": \"MA\", \"orig_country\": \"us\"},\n",
    "{\"mis_city_name\": \"Nitzkydorf, Banat\", \"orig_city_name\": \"Nitzkydorf\", \"orig_region\": \"36\", \"orig_country\": \"ro\"},\n",
    "{\"mis_city_name\": \"Waltersdorf (Niegoslawice)\", \"orig_city_name\": \"Waltersdorf\", \"orig_region\": \"76\", \"orig_country\": \"pl\"},\n",
    "{\"mis_city_name\": \"Agrigento, Sicily\", \"orig_city_name\": \"Agrigento\", \"orig_region\": \"15\", \"orig_country\": \"it\"},\n",
    "{\"mis_city_name\": \"Medicine Hat, Alberta\", \"orig_city_name\": \"Medicine Hat\", \"orig_region\": \"01\", \"orig_country\": \"ca\"},\n",
    "{\"mis_city_name\": \"&#346;eteniai\", \"orig_city_name\": \"Kedainiai\", \"orig_region\": \"60\", \"orig_country\": \"lt\"},\n",
    "{\"mis_city_name\": \"Kharkov (Kharkiv)\", \"orig_city_name\": \"Kharkov\", \"orig_region\": \"07\", \"orig_country\": \"ua\"},\n",
    "{\"mis_city_name\": \"Wailacama\", \"orig_city_name\": \"Dukuh Kupang Timur\", \"orig_region\": \"08\", \"orig_country\": \"id\"},\n",
    "{\"mis_city_name\": \"Pressburg (Bratislava)\", \"orig_city_name\": \"Pressburg\", \"orig_region\": \"02\", \"orig_country\": \"sk\"},\n",
    "{\"mis_city_name\": \"Lennep (Remscheid)\", \"orig_city_name\": \"Lennep\", \"orig_region\": \"07\", \"orig_country\": \"de\"},\n",
    "{\"mis_city_name\": \"Higashimatsuyama\", \"orig_city_name\": \"Higashi-Matsuyama\", \"orig_region\": \"34\", \"orig_country\": \"jp\"},\n",
    "{\"mis_city_name\": \"Nam Ha province\", \"orig_city_name\": \"Phu Ly\", \"orig_region\": \"80\", \"orig_country\": \"vn\"},\n",
    "{\"mis_city_name\": \"Cheetham Hill, near Manchester  \", \"orig_city_name\": \"Manchester\", \"orig_region\": \"I2\", \"orig_country\": \"gb\"},\n",
    "{\"mis_city_name\": \"Kingston Hill\", \"orig_city_name\": \"London\", \"orig_region\": \"H9\", \"orig_country\": \"gb\"},\n",
    "{\"mis_city_name\": \"Hofei, Anhwei\", \"orig_city_name\": \"Hefei\", \"orig_region\": \"01\", \"orig_country\": \"cn\"},\n",
    "{\"mis_city_name\": \"St. Louis, MO\", \"orig_city_name\": \"Saint Louis\", \"orig_region\": \"MO\", \"orig_country\": \"us\"},\n",
    "{\"mis_city_name\": \"Dabrovica\", \"orig_city_name\": \"Dabrowica\", \"orig_region\": \"77\", \"orig_country\": \"pl\"},\n",
    "{\"mis_city_name\": \"Mount Verno, NY\", \"orig_city_name\": \"Mount Vernon\", \"orig_region\": \"NY\", \"orig_country\": \"us\"},\n",
    "{\"mis_city_name\": \"Ta'izz\", \"orig_city_name\": \"Taiz\", \"orig_region\": \"11\", \"orig_country\": \"ye\"},\n",
    "{\"mis_city_name\": \"Mit Abu al-Kawm\", \"orig_city_name\": \"Mit Abu al Kawm\", \"orig_region\": \"09\", \"orig_country\": \"eg\"},\n",
    "{\"mis_city_name\": \"Chidambaram, Tamil Nadu\", \"orig_city_name\": \"Chidambaram\", \"orig_region\": \"25\", \"orig_country\": \"in\"},\n",
    "{\"mis_city_name\": \"Tananarive (Antananarivo)\", \"orig_city_name\": \"Tananarive\", \"orig_region\": \"05\", \"orig_country\": \"mg\"},\n",
    "{\"mis_city_name\": \"Frankfurt-on-the-Main\", \"orig_city_name\": \"Frankfurt am Main\", \"orig_region\": \"05\", \"orig_country\": \"de\"},\n",
    "{\"mis_city_name\": \"Hoechst\", \"orig_city_name\": \"Frankfurt am Main\", \"orig_region\": \"05\", \"orig_country\": \"de\"},\n",
    "{\"mis_city_name\": \"Jhang Maghi&#257;na\", \"orig_city_name\": \"Jhang\", \"orig_region\": \"12\", \"orig_country\": \"in\"},\n",
    "{\"mis_city_name\": \"Zhejiang Ningbo\", \"orig_city_name\": \"Ningbo\", \"orig_region\": \"14\", \"orig_country\": \"cn\"},\n",
    "{\"mis_city_name\": \"Wilno (Vilnius)\", \"orig_city_name\": \"Wilno\", \"orig_region\": \"65\", \"orig_country\": \"lt\"},\n",
    "{\"mis_city_name\": \"Langford Grove, Maldon, Essex\", \"orig_city_name\": \"Langford\", \"orig_region\": \"E4  \", \"orig_country\": \"gb\"},\n",
    "{\"mis_city_name\": \"Clausthal (Clausthal-Zellerfeld)\", \"orig_city_name\": \"Clausthal\", \"orig_region\": \"06\", \"orig_country\": \"de\"},\n",
    "{\"mis_city_name\": \"Strassburg (Strasbourg)\", \"orig_city_name\": \"Strassburg\", \"orig_region\": \"C1  \", \"orig_country\": \"fr\"},\n",
    "{\"mis_city_name\": \"Rangoon (Yangon)\", \"orig_city_name\": \"Rangoon\", \"orig_region\": \"17\", \"orig_country\": \"mm\"},\n",
    "{\"mis_city_name\": \"Strehlen (Strzelin)\", \"orig_city_name\": \"Strehlen\", \"orig_region\": \"72\", \"orig_country\": \"pl\"},\n",
    "{\"mis_city_name\": \"Buczacz (Buchach)\", \"orig_city_name\": \"Buczacz\", \"orig_region\": \"22\", \"orig_country\": \"ua\"},\n",
    "{\"mis_city_name\": \"Kalgoorlie\", \"orig_city_name\": \"Boulder\", \"orig_region\": \"08\", \"orig_country\": \"au\"},\n",
    "{\"mis_city_name\": \"Nizhny Tagil\", \"orig_city_name\": \"Nizhnii Tagil\", \"orig_region\": \"71\", \"orig_country\": \"ru\"},\n",
    "{\"mis_city_name\": \"Bremerhaven-Lehe\", \"orig_city_name\": \"Bremerhaven\", \"orig_region\": \"03\", \"orig_country\": \"de\"},\n",
    "{\"mis_city_name\": \"Corteno\", \"orig_city_name\": \"Brescia\", \"orig_region\": \"09\", \"orig_country\": \"it\"},\n",
    "{\"mis_city_name\": \"Windsor, ON\", \"orig_city_name\": \"Windsor\", \"orig_region\": \"08\", \"orig_country\": \"ca\"},\n",
    "{\"mis_city_name\": \"Bnin (Kórnik)\", \"orig_city_name\": \"Bnin\", \"orig_region\": \"86\", \"orig_country\": \"pl\"},\n",
    "{\"mis_city_name\": \"Iria Flavia\", \"orig_city_name\": \"Iria\", \"orig_region\": \"58\", \"orig_country\": \"es\"},\n",
    "{\"mis_city_name\": \"Breslau (Wroclaw)\", \"orig_city_name\": \"Breslau\", \"orig_region\": \"72\", \"orig_country\": \"pl\"},\n",
    "{\"mis_city_name\": \"Uskup (Skopje)\", \"orig_city_name\": \"Üsküp\", \"orig_region\": \"39\", \"orig_country\": \"tr\"},\n",
    "{\"mis_city_name\": \"Koenigsberg (Kaliningrad)\", \"orig_city_name\": \"Königsberg\", \"orig_region\": \"23\", \"orig_country\": \"ru\"},\n",
    "{\"mis_city_name\": \"Reykjavik\", \"orig_city_name\": \"Reykjavík\", \"orig_region\": \"10\", \"orig_country\": \"is\"},\n",
    "{\"mis_city_name\": \"Petilla de Aragó\", \"orig_city_name\": \"Petilla de Aragón\", \"orig_region\": \"32\", \"orig_country\": \"es\"},\n",
    "{\"mis_city_name\": \"'s Graveland\", \"orig_city_name\": \"'s-Graveland\", \"orig_region\": \"07\", \"orig_country\": \"nl\"},\n",
    "{\"mis_city_name\": \"Zloczov\", \"orig_city_name\": \"Zloczow\", \"orig_region\": \"15\", \"orig_country\": \"ua\"},\n",
    "{\"mis_city_name\": \"Vishneva\", \"orig_city_name\": \"Wisniowa\", \"orig_region\": \"77\", \"orig_country\": \"pl\"},\n",
    "{\"mis_city_name\": \"St. Paul, MN\", \"orig_city_name\": \"Saint Paul\", \"orig_region\": \"MN\", \"orig_country\": \"us\"},\n",
    "{\"mis_city_name\": \"Kristiania (Oslo)\", \"orig_city_name\": \"Kristiania\", \"orig_region\": \"12\", \"orig_country\": \"no\"},\n",
    "{\"mis_city_name\": \"Rendcombe\", \"orig_city_name\": \"Cirencester\", \"orig_region\": \"E6\", \"orig_country\": \"gb\"},\n",
    "{\"mis_city_name\": \"Vitebsk, Belorussia\", \"orig_city_name\": \"Vitebsk\", \"orig_region\": \"07\", \"orig_country\": \"by\"},\n",
    "{\"mis_city_name\": \"Mürzzuschlag\", \"orig_city_name\": \"Murzzuschlag\", \"orig_region\": \"06\", \"orig_country\": \"at\"},\n",
    "{\"mis_city_name\": \"Val di Castello\", \"orig_city_name\": \"Pietrasanta\", \"orig_region\": \"16\", \"orig_country\": \"it\"},\n",
    "{\"mis_city_name\": \"Glencorse\", \"orig_city_name\": \"Midlothian\", \"orig_region\": \"V5\", \"orig_country\": \"gb\"},\n",
    "{\"mis_city_name\": \"Strelno (Strzelno)\", \"orig_city_name\": \"Strelno\", \"orig_region\": \"73\", \"orig_country\": \"pl\"},\n",
    "{\"mis_city_name\": \"Lochfield\", \"orig_city_name\": \"Lichfield\", \"orig_region\": \"N1\", \"orig_country\": \"gb\"},\n",
    "{\"mis_city_name\": \"the Hague\", \"orig_city_name\": \"The Hague\", \"orig_region\": \"11\", \"orig_country\": \"nl\"},\n",
    "{\"mis_city_name\": \"Ivano-Frankivsk\", \"orig_city_name\": \"IvanoFrankivsk\", \"orig_region\": \"06\", \"orig_country\": \"ua\"},\n",
    "{\"mis_city_name\": \"Victoria, BC\", \"orig_city_name\": \"Victoria\", \"orig_region\": \"02\", \"orig_country\": \"ca\"},\n",
    "{\"mis_city_name\": \"Lethbridge, Alberta\", \"orig_city_name\": \"Lethbridge\", \"orig_region\": \"01\", \"orig_country\": \"ca\"},\n",
    "{\"mis_city_name\": \"Wickenberg, AZ\", \"orig_city_name\": \"Wickenburg\", \"orig_region\": \"AZ\", \"orig_country\": \"us\"},\n",
    "{\"mis_city_name\": \"Grantchester\", \"orig_city_name\": \"Cambridgeshire\", \"orig_region\": \"C3\", \"orig_country\": \"gb\"},\n",
    "{\"mis_city_name\": \"Wakulla Springs State Park, FL  \", \"orig_city_name\": \"Wakulla Springs\", \"orig_region\": \"FL\", \"orig_country\": \"us\"},\n",
    "{\"mis_city_name\": \"Presqu'île-de-Giens\", \"orig_city_name\": \"Giens\", \"orig_region\": \"B8\", \"orig_country\": \"fr\"},\n",
    "{\"mis_city_name\": \"Newfoundland\", \"orig_city_name\": \"Saint John's\", \"orig_region\": \"05\", \"orig_country\": \"ca\"},\n",
    "{\"mis_city_name\": \"New Jersey, NJ\", \"orig_city_name\": \"Jersey City\", \"orig_region\": \"NJ\", \"orig_country\": \"us\"},\n",
    "{\"mis_city_name\": \"Penrhyndeudraeth\", \"orig_city_name\": \"Penrhyndeudreath\", \"orig_region\": \"Y2\", \"orig_country\": \"gb\"},\n",
    "{\"mis_city_name\": \"Perranarworthal\", \"orig_city_name\": \"County of Cornwall\", \"orig_region\": \"C6\", \"orig_country\": \"gb\"},\n",
    "{\"mis_city_name\": \"Llangarron\", \"orig_city_name\": \"Ross on Wye\", \"orig_region\": \"F7\", \"orig_country\": \"gb\"},\n",
    "{\"mis_city_name\": \"Kraków\", \"orig_city_name\": \"Krakow\", \"orig_region\": \"77\", \"orig_country\": \"pl\"},\n",
    "{\"mis_city_name\": \"Hamilton, Ontario\", \"orig_city_name\": \"Hamilton\", \"orig_region\": \"08\", \"orig_country\": \"ca\"},\n",
    "{\"mis_city_name\": \"Putney Heath\", \"orig_city_name\": \"London\", \"orig_region\": \"H9\", \"orig_country\": \"gb\"},\n",
    "{\"mis_city_name\": \"Shipston-on-Stour\", \"orig_city_name\": \"Shipston on Stour\", \"orig_region\": \"P3\", \"orig_country\": \"gb\"},\n",
    "{\"mis_city_name\": \"Brive-Corrèze\", \"orig_city_name\": \"Brive-la-Gaillarde\", \"orig_region\": \"B1\", \"orig_country\": \"fr\"},\n",
    "{\"mis_city_name\": \"Övralid\", \"orig_city_name\": \"Motala\", \"orig_region\": \"16\", \"orig_country\": \"se\"},\n",
    "{\"mis_city_name\": \"Bornheim-Merten\", \"orig_city_name\": \"Merten\", \"orig_region\": \"07\", \"orig_country\": \"de\"},\n",
    "{\"mis_city_name\": \"Truro, NS\", \"orig_city_name\": \"Truro\", \"orig_region\": \"07\", \"orig_country\": \"ca\"},\n",
    "{\"mis_city_name\": \"Waterford, CT\", \"orig_city_name\": \"New London\", \"orig_region\": \"CT\", \"orig_country\": \"us\"},\n",
    "{\"mis_city_name\": \"West Berlin\", \"orig_city_name\": \"Berlin\", \"orig_region\": \"16\", \"orig_country\": \"de\"},\n",
    "{\"mis_city_name\": \"Palma, Majorca\", \"orig_city_name\": \"Palma de Mallorca\", \"orig_region\": \"07\", \"orig_country\": \"es\"},\n",
    "{\"mis_city_name\": \"Ayot St. Lawrence\", \"orig_city_name\": \"Ayot Saint Lawrence\", \"orig_region\": \"F8\", \"orig_country\": \"gb\"},\n",
    "{\"mis_city_name\": \"Moffett Field, CA\", \"orig_city_name\": \"Santa Clara\", \"orig_region\": \"CA\", \"orig_country\": \"us\"},\n",
    "{\"mis_city_name\": \"Lewes, East Sussex\", \"orig_city_name\": \"Lewes\", \"orig_region\": \"E2\", \"orig_country\": \"gb\"},\n",
    "{\"mis_city_name\": \"Agnetendorf (Jagniatków)\", \"orig_city_name\": \"Jelenia Gora\", \"orig_region\": \"72\", \"orig_country\": \"pl\"},\n",
    "{\"mis_city_name\": \"Research Triangle Park, NC\", \"orig_city_name\": \"Raleigh\", \"orig_region\": \"NC\", \"orig_country\": \"us\"},\n",
    "{\"mis_city_name\": \"Bucksburn (Scotland)\", \"orig_city_name\": \"Bucksburn\", \"orig_region\": \"T5\", \"orig_country\": \"gb\"},\n",
    "{\"mis_city_name\": \"Lidingö-Stockholm\", \"orig_city_name\": \"Lidingö\", \"orig_region\": \"26\", \"orig_country\": \"se\"},\n",
    "{\"mis_city_name\": \"Breisgau\", \"orig_city_name\": \"Freiburg im Breisgau\", \"orig_region\": \"01\", \"orig_country\": \"de\"},\n",
    "{\"mis_city_name\": \"J&uuml;lich\", \"orig_city_name\": \"Jülich\", \"orig_region\": \"07\", \"orig_country\": \"de\"},\n",
    "{\"mis_city_name\": \"Mannheim-Rheinau\", \"orig_city_name\": \"Rheinau\", \"orig_region\": \"01\", \"orig_country\": \"de\"},\n",
    "{\"mis_city_name\": \"Sapporo\", \"orig_city_name\": \"Sapporo-shi\", \"orig_region\": \"12\", \"orig_country\": \"jp\"},\n",
    "{\"mis_city_name\": \"Berlin-Dahlem\", \"orig_city_name\": \"Dahlem\", \"orig_region\": \"16\", \"orig_country\": \"de\"},\n",
    "{\"mis_city_name\": \"Long Island, New York, NY\", \"orig_city_name\": \"Long Island City\", \"orig_region\": \"NY\", \"orig_country\": \"us\"},\n",
    "{\"mis_city_name\": \"Harwell, Berkshire\", \"orig_city_name\": \"Harwell\", \"orig_region\": \"K2\", \"orig_country\": \"gb\"},\n",
    "{\"mis_city_name\": \"Argonne, IL\", \"orig_city_name\": \"Lemont\", \"orig_region\": \"IL\", \"orig_country\": \"us\"},\n",
    "{\"mis_city_name\": \"Altenberg; Grünau im Almtal\", \"orig_city_name\": \"Altenberg\", \"orig_region\": \"04\", \"orig_country\": \"at\"},\n",
    "{\"mis_city_name\": \"Massachusetts, MA\", \"orig_city_name\": \"Boston\", \"orig_region\": \"MA\", \"orig_country\": \"us\"},\n",
    "{\"mis_city_name\": \"Mülheim/Ruhr\", \"orig_city_name\": \"Mülheim an der Ruhr\", \"orig_region\": \"07\", \"orig_country\": \"de\"},\n",
    "{\"mis_city_name\": \"Rüschlikon\", \"orig_city_name\": \"Zurich\", \"orig_region\": \"25\", \"orig_country\": \"ch\"},    \n",
    "{\"mis_city_name\": \"Kyoto\", \"orig_city_name\": \"Kyoto-shi\", \"orig_region\": \"22\", \"orig_country\": \"jp\"},\n",
    "{\"mis_city_name\": \"Guebwiller\", \"orig_city_name\": \"Guebwiller\", \"orig_region\": \"C1\", \"orig_country\": \"fr\"},\n",
    "{\"mis_city_name\": \"Lahore\", \"orig_city_name\": \"Lahore\", \"orig_region\": \"02\", \"orig_country\": \"pk\"},\n",
    "{\"mis_city_name\": \"Thorshavn\", \"orig_city_name\": \"Thorshavn\", \"orig_region\": \"00\", \"orig_country\": \"fo\"},\n",
    "{\"mis_city_name\": \"Cluny\", \"orig_city_name\": \"Offord Cluny\", \"orig_region\": \"C3\", \"orig_country\": \"gb\"},\n",
    "{\"mis_city_name\": \"Lagow\", \"orig_city_name\": \"Lagow\", \"orig_region\": \"72\", \"orig_country\": \"pl\"},\n",
    "{\"mis_city_name\": \"Neuchâtel\", \"orig_city_name\": \"Neuchâtel\", \"orig_region\": \"A6\", \"orig_country\": \"fr\"},\n",
    "{\"mis_city_name\": \"Kaysersberg\", \"orig_city_name\": \"Kaysersberg\", \"orig_region\": \"C1\", \"orig_country\": \"fr\"},\n",
    "{\"mis_city_name\": \"Dili\", \"orig_city_name\": \"Dukuh Kupang Timur\", \"orig_region\": \"08\", \"orig_country\": \"id\"},\n",
    "{\"mis_city_name\": \"Bad Salzbrunn\", \"orig_city_name\": \"Bad Salzbrunn\", \"orig_region\": \"72\", \"orig_country\": \"pl\"},\n",
    "{\"mis_city_name\": \"San Juan\", \"orig_city_name\": \"San Juan\", \"orig_region\": \"PR\", \"orig_country\": \"us\"},\n",
    "{\"mis_city_name\": \"Lanzarote\", \"orig_city_name\": \"Arrecife\", \"orig_region\": \"53\", \"orig_country\": \"es\"},\n",
    "{\"mis_city_name\": \"Hong Kong\", \"orig_city_name\": \"Hong Kong\", \"orig_region\": \"00\", \"orig_country\": \"hk\"}]\n",
    "\n",
    "df_tmp_mis_cities = sp.createDataFrame(data)"
   ]
  },
  {
   "cell_type": "markdown",
   "id": "6e46cfb7",
   "metadata": {},
   "source": [
    "# Create dataset for data analysis\n",
    "Collect data into one dataframe for the future analysis. Contains information about Nobel Prizes with all attributes: countries and cities information, organizations and laureate persons, country codes, etc."
   ]
  },
  {
   "cell_type": "markdown",
   "id": "e52b04f6",
   "metadata": {},
   "source": [
    "## Use Nobel Prize dataframe as main"
   ]
  },
  {
   "cell_type": "code",
   "execution_count": 12,
   "id": "20273ffc",
   "metadata": {},
   "outputs": [],
   "source": [
    "# id is the internal column for grouping, remove it later\n",
    "df = df_nobel_orig.sort(\"Year\", \"Laureate ID\") \\\n",
    "                  .withColumn(\"id\", f.monotonically_increasing_id()) \\\n",
    "                  .withColumnRenamed(\"Year\", \"year\") \\\n",
    "                  .withColumnRenamed(\"Category\", \"category\") \\\n",
    "                  .withColumnRenamed(\"Prize\", \"prize\") \\\n",
    "                  .withColumnRenamed(\"Motivation\", \"motivation\") \\\n",
    "                  .withColumnRenamed(\"Prize Share\", \"prize_share\") \\\n",
    "                  .withColumnRenamed(\"Laureate ID\", \"laureate_id\") \\\n",
    "                  .withColumnRenamed(\"Laureate Type\", \"laureate_type\") \\\n",
    "                  .withColumnRenamed(\"Full Name\", \"full_name\") \\\n",
    "                  .withColumnRenamed(\"Birth Date\", \"birth_date\") \\\n",
    "                  .withColumnRenamed(\"Birth City\", \"birth_city_name\") \\\n",
    "                  .withColumnRenamed(\"Birth Country\", \"birth_country_name\") \\\n",
    "                  .withColumnRenamed(\"Sex\", \"gender\") \\\n",
    "                  .withColumnRenamed(\"Organization Name\", \"organization_name\") \\\n",
    "                  .withColumnRenamed(\"Organization City\", \"organization_city_name\") \\\n",
    "                  .withColumnRenamed(\"Organization Country\", \"organization_country_name\") \\\n",
    "                  .withColumnRenamed(\"Death Date\", \"death_date\") \\\n",
    "                  .withColumnRenamed(\"Death City\", \"death_city_name\") \\\n",
    "                  .withColumnRenamed(\"Death Country\", \"death_country_name\") \\\n",
    "                  .withColumn(\"laureate_person_name\", \\\n",
    "                       f.when(f.col(\"laureate_type\") == 'Individual', f.col(\"full_name\")) \\\n",
    "                        .otherwise(f.lit(None))) \\\n",
    "                  .withColumn(\"society_name\", \\\n",
    "                       f.when(f.col(\"laureate_type\") == 'Organization', f.col(\"full_name\")) \\\n",
    "                        .otherwise(f.lit(None))) \\\n",
    "                  .select(\"id\", \"laureate_id\", \"year\", \"category\", \"prize\", \"prize_share\", \"laureate_type\", \"motivation\", \\\n",
    "                          \"laureate_person_name\", \"gender\", \"society_name\", \n",
    "                          \"birth_date\", \"birth_city_name\", \"birth_country_name\", \\\n",
    "                          \"death_date\", \"death_city_name\", \"death_country_name\", \\\n",
    "                          \"organization_name\", \"organization_city_name\", \"organization_country_name\")"
   ]
  },
  {
   "cell_type": "code",
   "execution_count": 13,
   "id": "5c56a9ad",
   "metadata": {},
   "outputs": [
    {
     "data": {
      "text/plain": [
       "969"
      ]
     },
     "execution_count": 13,
     "metadata": {},
     "output_type": "execute_result"
    }
   ],
   "source": [
    "# Check the count of records in the dataset\n",
    "df.count()"
   ]
  },
  {
   "cell_type": "markdown",
   "id": "ba18c435",
   "metadata": {},
   "source": [
    "## Add Parent Countries and Organizations\n",
    "Parent country name added for historical names of country (or if specified a name of country part). If country has a modern name, parent name = country name.<br>\n",
    "Parent Organizarion name added for parent names of organizations. If organization doesn't have a parent organizarion, parent name = country name.<br>\n",
    "In a result, *parent_name* columns contain a modern/parent name, *name* columns contain a historical/child name.<br>\n",
    "This gives more opportunities to analyze data by country and organization."
   ]
  },
  {
   "cell_type": "code",
   "execution_count": 14,
   "id": "926ae5ca",
   "metadata": {},
   "outputs": [],
   "source": [
    "# Join Birth Country Parent Name\n",
    "join_expr = f.trim(df[\"birth_country_name\"]) == f.trim(df_mis_cntr[\"c_name\"])\n",
    "df = df.join(df_mis_cntr, join_expr, \"left_outer\") \\\n",
    "       .withColumn(\"birth_country_parent_name\", \\\n",
    "            f.when(c.isNull(f.col(\"p_c_name\")), f.col(\"birth_country_name\")) \\\n",
    "             .otherwise(f.col(\"p_c_name\"))) \\\n",
    "       .drop(\"c_name\", \"p_c_name\")\n",
    "\n",
    "# Join Death Country Parent Name\n",
    "join_expr = f.trim(df[\"death_country_name\"]) == f.trim(df_mis_cntr[\"c_name\"])\n",
    "df = df.join(df_mis_cntr, join_expr, \"left_outer\") \\\n",
    "       .withColumn(\"death_country_parent_name\", \\\n",
    "            f.when(c.isNull(f.col(\"p_c_name\")), f.col(\"death_country_name\")) \\\n",
    "             .otherwise(f.col(\"p_c_name\"))) \\\n",
    "       .drop(\"c_name\", \"p_c_name\")\n",
    "\n",
    "# Join Organization Country Parent Name\n",
    "join_expr = f.trim(df[\"organization_country_name\"]) == f.trim(df_mis_cntr[\"c_name\"])\n",
    "df = df.join(df_mis_cntr, join_expr, \"left_outer\") \\\n",
    "       .withColumn(\"organization_country_parent_name\", \\\n",
    "            f.when(c.isNull(f.col(\"p_c_name\")), f.col(\"organization_country_name\")) \\\n",
    "             .otherwise(f.col(\"p_c_name\"))) \\\n",
    "       .drop(\"c_name\", \"p_c_name\")"
   ]
  },
  {
   "cell_type": "code",
   "execution_count": 15,
   "id": "5bdaa8c0",
   "metadata": {},
   "outputs": [
    {
     "data": {
      "text/plain": [
       "0"
      ]
     },
     "execution_count": 15,
     "metadata": {},
     "output_type": "execute_result"
    }
   ],
   "source": [
    "# Check null values\n",
    "df.where(\"(birth_country_parent_name is null and birth_country_name is not null) \\\n",
    "       or (death_country_parent_name is null and death_country_name is not null) \\\n",
    "       or (organization_country_parent_name is null and organization_country_name is not null)\").count()"
   ]
  },
  {
   "cell_type": "markdown",
   "id": "b98e12a4",
   "metadata": {},
   "source": [
    "Parent organization name added for child organizations. if there is no Parent Organization, parent organization = Organization name."
   ]
  },
  {
   "cell_type": "code",
   "execution_count": 16,
   "id": "016c3fb1",
   "metadata": {},
   "outputs": [],
   "source": [
    "#Join Organization Parent Name\n",
    "join_expr = f.trim(df[\"organization_name\"]) == f.trim(df_par_org[\"o_name\"])\n",
    "df = df.join(df_par_org, join_expr, \"left_outer\") \\\n",
    "       .withColumn(\"organization_parent_name\", \\\n",
    "            f.when(c.isNull(f.col(\"p_o_name\")), f.col(\"organization_name\")) \\\n",
    "             .otherwise(f.col(\"p_o_name\"))) \\\n",
    "       .drop(\"o_name\", \"p_o_name\")"
   ]
  },
  {
   "cell_type": "code",
   "execution_count": 17,
   "id": "13888f09",
   "metadata": {},
   "outputs": [
    {
     "data": {
      "text/plain": [
       "0"
      ]
     },
     "execution_count": 17,
     "metadata": {},
     "output_type": "execute_result"
    }
   ],
   "source": [
    "# Check null values\n",
    "df.where(\"organization_parent_name is null and organization_name is not null\").count()"
   ]
  },
  {
   "cell_type": "markdown",
   "id": "df115e50",
   "metadata": {},
   "source": [
    "## Add Country information\n",
    "Join Country information by Parent Country Name columns that contain modern country names."
   ]
  },
  {
   "cell_type": "markdown",
   "id": "890b2061",
   "metadata": {},
   "source": [
    "### Birth Country\n",
    "Add all information about birth place for analysis according to the conditions of the birth of the laureate"
   ]
  },
  {
   "cell_type": "code",
   "execution_count": 18,
   "id": "b975860d",
   "metadata": {},
   "outputs": [],
   "source": [
    "join_expr = f.trim(df[\"birth_country_parent_name\"]) == f.trim(df_countries_orig[\"Country\"])\n",
    "df = df.join(df_countries_orig, join_expr, \"left_outer\") \\\n",
    "       .withColumnRenamed(\"continent_name\", \"birth_continent_name\") \\\n",
    "       .withColumnRenamed(\"Population\", \"birth_country_population\") \\\n",
    "       .withColumnRenamed(\"Region\", \"birth_region_name\") \\\n",
    "       .withColumnRenamed(\"Area (sq. mi.)\", \"birth_country_area_sq_miles\") \\\n",
    "       .withColumnRenamed(\"Pop. Density (per sq. mi.)\", \"birth_country_pop_dencity_per_sq_mile\") \\\n",
    "       .withColumnRenamed(\"Coastline (coast/area ratio)\", \"birth_country_coastline\") \\\n",
    "       .withColumnRenamed(\"Net migration\", \"birth_country_net_migration\") \\\n",
    "       .withColumnRenamed(\"Infant mortality (per 1000 births)\", \"birth_country_infant_mortality_per_1000\") \\\n",
    "       .withColumnRenamed(\"GDP ($ per capita)\", \"birth_country_gdb\") \\\n",
    "       .withColumnRenamed(\"Literacy (%)\", \"birth_country_percent_literacy\") \\\n",
    "       .withColumnRenamed(\"Phones (per 1000)\", \"birth_country_phones_per_1000\") \\\n",
    "       .withColumnRenamed(\"Arable (%)\", \"birth_country_percent_arable\") \\\n",
    "       .withColumnRenamed(\"Crops (%)\", \"birth_country_percent_crops\") \\\n",
    "       .withColumnRenamed(\"Other (%)\", \"birth_country_percent_other\") \\\n",
    "       .withColumnRenamed(\"Climate\", \"birth_country_climate\") \\\n",
    "       .withColumnRenamed(\"Birthrate\", \"birth_country_birthrate\") \\\n",
    "       .withColumnRenamed(\"Deathrate\", \"birth_country_deathrate\") \\\n",
    "       .withColumnRenamed(\"Agriculture\", \"birth_country_agriculture\") \\\n",
    "       .withColumnRenamed(\"Industry\", \"birth_country_industry\") \\\n",
    "       .withColumnRenamed(\"Service\", \"birth_country_service\") \\\n",
    "       .withColumnRenamed(\"country_code\", \"birth_country_code\") \\\n",
    "       .drop(\"Country\")"
   ]
  },
  {
   "cell_type": "code",
   "execution_count": 19,
   "id": "885e1ac4",
   "metadata": {},
   "outputs": [
    {
     "data": {
      "text/plain": [
       "0"
      ]
     },
     "execution_count": 19,
     "metadata": {},
     "output_type": "execute_result"
    }
   ],
   "source": [
    "# Check null values\n",
    "df.where(\"birth_country_parent_name is not null and birth_continent_name is null\").count()"
   ]
  },
  {
   "cell_type": "markdown",
   "id": "9f022bc9",
   "metadata": {},
   "source": [
    "### Death Country\n",
    "Add only main and geographical information about death place for analysis according to the conditions of the end of life of the laureate"
   ]
  },
  {
   "cell_type": "code",
   "execution_count": 20,
   "id": "7c3513b0",
   "metadata": {},
   "outputs": [],
   "source": [
    "join_expr = f.trim(df[\"death_country_parent_name\"]) == f.trim(df_countries_orig[\"Country\"])\n",
    "df = df.join(df_countries_orig, join_expr, \"left_outer\") \\\n",
    "       .withColumnRenamed(\"continent_name\", \"death_continent_name\") \\\n",
    "       .withColumnRenamed(\"Population\", \"death_country_population\") \\\n",
    "       .withColumnRenamed(\"Region\", \"death_region_name\") \\\n",
    "       .withColumnRenamed(\"Coastline (coast/area ratio)\", \"death_country_coastline\") \\\n",
    "       .withColumnRenamed(\"GDP ($ per capita)\", \"death_country_gdb\") \\\n",
    "       .withColumnRenamed(\"Climate\", \"death_country_climate\") \\\n",
    "       .withColumnRenamed(\"country_code\", \"death_country_code\") \\\n",
    "       .drop(\"Country\", \"Area (sq. mi.)\", \"Pop. Density (per sq. mi.)\", \"Net migration\", \"Infant mortality (per 1000 births)\", \\\n",
    "             \"Literacy (%)\", \"Phones (per 1000)\", \"Arable (%)\", \"Crops (%)\", \"Other (%)\", \"Birthrate\", \"Deathrate\", \\\n",
    "             \"Agriculture\", \"Industry\", \"Service\")"
   ]
  },
  {
   "cell_type": "code",
   "execution_count": 21,
   "id": "b1e42649",
   "metadata": {},
   "outputs": [
    {
     "data": {
      "text/plain": [
       "0"
      ]
     },
     "execution_count": 21,
     "metadata": {},
     "output_type": "execute_result"
    }
   ],
   "source": [
    "# Check null values\n",
    "df.where(\"death_country_parent_name is not null and death_continent_name is null\").count()"
   ]
  },
  {
   "cell_type": "markdown",
   "id": "0a0de673",
   "metadata": {},
   "source": [
    "### Organization Country\n",
    "Add only main information about organization place for analysis according to the conditions of the work of the laureate"
   ]
  },
  {
   "cell_type": "code",
   "execution_count": 22,
   "id": "cc166dc4",
   "metadata": {},
   "outputs": [],
   "source": [
    "join_expr = f.trim(df[\"organization_country_parent_name\"]) == f.trim(df_countries_orig[\"Country\"])\n",
    "df = df.join(df_countries_orig, join_expr, \"left_outer\") \\\n",
    "       .withColumnRenamed(\"continent_name\", \"organization_continent_name\") \\\n",
    "       .withColumnRenamed(\"Population\", \"organization_country_population\") \\\n",
    "       .withColumnRenamed(\"Region\", \"organization_region_name\") \\\n",
    "       .withColumnRenamed(\"GDP ($ per capita)\", \"organization_country_gdb\") \\\n",
    "       .withColumnRenamed(\"country_code\", \"organization_country_code\") \\\n",
    "       .drop(\"Country\", \"Area (sq. mi.)\", \"Pop. Density (per sq. mi.)\", \"Net migration\", \"Infant mortality (per 1000 births)\", \\\n",
    "             \"Literacy (%)\", \"Phones (per 1000)\", \"Arable (%)\", \"Crops (%)\", \"Other (%)\", \"Birthrate\", \"Deathrate\", \\\n",
    "             \"Agriculture\", \"Industry\", \"Service\", \"Coastline (coast/area ratio)\", \"Climate\")"
   ]
  },
  {
   "cell_type": "code",
   "execution_count": 23,
   "id": "332397c0",
   "metadata": {},
   "outputs": [
    {
     "data": {
      "text/plain": [
       "0"
      ]
     },
     "execution_count": 23,
     "metadata": {},
     "output_type": "execute_result"
    }
   ],
   "source": [
    "# Check null values\n",
    "df.where(\"organization_country_parent_name is not null and organization_continent_name is null\").count()"
   ]
  },
  {
   "cell_type": "code",
   "execution_count": 24,
   "id": "a242e43d",
   "metadata": {},
   "outputs": [
    {
     "data": {
      "text/plain": [
       "969"
      ]
     },
     "execution_count": 24,
     "metadata": {},
     "output_type": "execute_result"
    }
   ],
   "source": [
    "# Check the count of records in the dataset\n",
    "df.count()"
   ]
  },
  {
   "cell_type": "markdown",
   "id": "bdd157e3",
   "metadata": {},
   "source": [
    "## Add City information"
   ]
  },
  {
   "cell_type": "markdown",
   "id": "934d75b5",
   "metadata": {},
   "source": [
    "### Birth City"
   ]
  },
  {
   "cell_type": "markdown",
   "id": "f83e1bc9",
   "metadata": {},
   "source": [
    "Join the dataframe with mismatches df_tmp_mis_cities to the main dataframe"
   ]
  },
  {
   "cell_type": "code",
   "execution_count": 25,
   "id": "8fba6009",
   "metadata": {},
   "outputs": [],
   "source": [
    "join_expr = f.trim(df[\"birth_city_name\"]) == f.trim(df_tmp_mis_cities[\"mis_city_name\"])\n",
    "df = df.join(df_tmp_mis_cities, join_expr, \"left_outer\").drop(\"mis_city_name\")"
   ]
  },
  {
   "cell_type": "markdown",
   "id": "7935d7d5",
   "metadata": {},
   "source": [
    "Join the dataframe Cities for mismatches by the columns in the dataframe df_tmp_mis_cities"
   ]
  },
  {
   "cell_type": "code",
   "execution_count": 26,
   "id": "00399a42",
   "metadata": {},
   "outputs": [],
   "source": [
    "join_expr = (f.trim(df[\"orig_city_name\"]) == f.trim(df_cities_orig[\"AccentCity\"])) \\\n",
    "            & (f.trim(df[\"orig_region\"]) == f.trim(df_cities_orig[\"Region\"])) \\\n",
    "            & (f.trim(df[\"orig_country\"]) == f.trim(df_cities_orig[\"Country\"]))\n",
    "\n",
    "df = df.join(df_cities_orig, join_expr, \"left_outer\") \\\n",
    "       .withColumnRenamed(\"Region\", \"city_region_tmp\") \\\n",
    "       .withColumnRenamed(\"Population\", \"city_population_tmp\") \\\n",
    "       .withColumnRenamed(\"Latitude\", \"city_latitude_tmp\") \\\n",
    "       .withColumnRenamed(\"Longitude\", \"city_longitude_tmp\") \\\n",
    "       .drop(\"orig_city_name\", \"orig_country\", \"orig_region\", \"Country\", \"City\", \"AccentCity\", \"CityUpd\")"
   ]
  },
  {
   "cell_type": "markdown",
   "id": "c6898e31",
   "metadata": {},
   "source": [
    "Join the dataframe Cities for matches by the columns CityUpd and Country"
   ]
  },
  {
   "cell_type": "code",
   "execution_count": 27,
   "id": "d81e9fab",
   "metadata": {},
   "outputs": [],
   "source": [
    "join_expr = (f.trim(df[\"birth_city_name\"]) == f.trim(df_cities_orig[\"CityUpd\"])) \\\n",
    "            & (f.trim(df[\"birth_country_code\"]) == f.trim(df_cities_orig[\"Country\"]))\n",
    "\n",
    "# City columns: if a value from the df_tmp_mis_cities is not null, then take it, else take a value from the df_cities_orig\n",
    "df = df.join(df_cities_orig, join_expr, \"left_outer\") \\\n",
    "       .withColumn(\"birth_city_region\", \\\n",
    "            f.when(c.isNotNull(f.col(\"city_region_tmp\")), f.col(\"city_region_tmp\")) \\\n",
    "             .otherwise(f.col(\"Region\"))) \\\n",
    "       .withColumn(\"birth_city_population\", \\\n",
    "            f.when(c.isNotNull(f.col(\"city_population_tmp\")), f.col(\"city_population_tmp\")) \\\n",
    "             .otherwise(f.col(\"Population\"))) \\\n",
    "       .withColumn(\"birth_city_latitude\", \\\n",
    "            f.when(c.isNotNull(f.col(\"city_latitude_tmp\")), f.col(\"city_latitude_tmp\")) \\\n",
    "             .otherwise(f.col(\"Latitude\"))) \\\n",
    "       .withColumn(\"birth_city_longitude\", \\\n",
    "            f.when(c.isNotNull(f.col(\"city_longitude_tmp\")), f.col(\"city_longitude_tmp\")) \\\n",
    "             .otherwise(f.col(\"Longitude\"))) \\\n",
    "       .drop(\"birth_country_code\", \"city_region_tmp\", \"city_population_tmp\", \"city_latitude_tmp\", \"city_longitude_tmp\", \\\n",
    "             \"Country\", \"City\", \"AccentCity\", \"Region\", \"Population\", \"Latitude\", \"Longitude\", \"CityUpd\")\n",
    "\n",
    "# Some cities are not unique by \"City Name\" + \"Country\". Remove duplicates from the dataframe, use the first number of City ID\n",
    "w = Window.partitionBy(\"id\").orderBy(f.col(\"id\"))\n",
    "df = df.withColumn(\"row\", f.row_number().over(w)).filter(f.col(\"row\") == 1).drop(\"row\")"
   ]
  },
  {
   "cell_type": "code",
   "execution_count": 28,
   "id": "5c328213",
   "metadata": {},
   "outputs": [
    {
     "data": {
      "text/plain": [
       "0"
      ]
     },
     "execution_count": 28,
     "metadata": {},
     "output_type": "execute_result"
    }
   ],
   "source": [
    "# Check null values\n",
    "df.where(\"birth_city_name is not null and birth_city_region is null\").count()"
   ]
  },
  {
   "cell_type": "markdown",
   "id": "8ff16d2f",
   "metadata": {},
   "source": [
    "### Death City"
   ]
  },
  {
   "cell_type": "markdown",
   "id": "30a8fa52",
   "metadata": {},
   "source": [
    "Join the dataframe with mismatches df_tmp_mis_cities to the main dataframe"
   ]
  },
  {
   "cell_type": "code",
   "execution_count": 29,
   "id": "137de073",
   "metadata": {},
   "outputs": [],
   "source": [
    "join_expr = f.trim(df[\"death_city_name\"]) == f.trim(df_tmp_mis_cities[\"mis_city_name\"])\n",
    "df = df.join(df_tmp_mis_cities, join_expr, \"left_outer\").drop(\"mis_city_name\")"
   ]
  },
  {
   "cell_type": "markdown",
   "id": "86eaf988",
   "metadata": {},
   "source": [
    "Join the dataframe Cities for mismatches by the columns in the dataframe df_tmp_mis_cities"
   ]
  },
  {
   "cell_type": "code",
   "execution_count": 30,
   "id": "079ae5eb",
   "metadata": {},
   "outputs": [],
   "source": [
    "join_expr = (f.trim(df[\"orig_city_name\"]) == f.trim(df_cities_orig[\"AccentCity\"])) \\\n",
    "            & (f.trim(df[\"orig_region\"]) == f.trim(df_cities_orig[\"Region\"])) \\\n",
    "            & (f.trim(df[\"orig_country\"]) == f.trim(df_cities_orig[\"Country\"]))\n",
    "\n",
    "df = df.join(df_cities_orig, join_expr, \"left_outer\") \\\n",
    "       .withColumnRenamed(\"Region\", \"city_region_tmp\") \\\n",
    "       .withColumnRenamed(\"Population\", \"city_population_tmp\") \\\n",
    "       .withColumnRenamed(\"Latitude\", \"city_latitude_tmp\") \\\n",
    "       .withColumnRenamed(\"Longitude\", \"city_longitude_tmp\") \\\n",
    "       .drop(\"orig_city_name\", \"orig_country\", \"orig_region\", \"Country\", \"City\", \"AccentCity\", \"CityUpd\")"
   ]
  },
  {
   "cell_type": "markdown",
   "id": "44e2167c",
   "metadata": {},
   "source": [
    "Join the dataframe Cities for matches by the columns CityUpd and Country"
   ]
  },
  {
   "cell_type": "code",
   "execution_count": 31,
   "id": "78bb9c78",
   "metadata": {},
   "outputs": [],
   "source": [
    "join_expr = (f.trim(df[\"death_city_name\"]) == f.trim(df_cities_orig[\"CityUpd\"])) \\\n",
    "            & (f.trim(df[\"death_country_code\"]) == f.trim(df_cities_orig[\"Country\"]))\n",
    "\n",
    "# City columns: if a value from the df_tmp_mis_cities is not null, then take it, else take a value from the df_cities_orig\n",
    "df = df.join(df_cities_orig, join_expr, \"left_outer\") \\\n",
    "       .withColumn(\"death_city_region\", \\\n",
    "            f.when(c.isNotNull(f.col(\"city_region_tmp\")), f.col(\"city_region_tmp\")) \\\n",
    "             .otherwise(f.col(\"Region\"))) \\\n",
    "       .withColumn(\"death_city_population\", \\\n",
    "            f.when(c.isNotNull(f.col(\"city_population_tmp\")), f.col(\"city_population_tmp\")) \\\n",
    "             .otherwise(f.col(\"Population\"))) \\\n",
    "       .withColumn(\"death_city_latitude\", \\\n",
    "            f.when(c.isNotNull(f.col(\"city_latitude_tmp\")), f.col(\"city_latitude_tmp\")) \\\n",
    "             .otherwise(f.col(\"Latitude\"))) \\\n",
    "       .withColumn(\"death_city_longitude\", \\\n",
    "            f.when(c.isNotNull(f.col(\"city_longitude_tmp\")), f.col(\"city_longitude_tmp\")) \\\n",
    "             .otherwise(f.col(\"Longitude\"))) \\\n",
    "       .drop(\"death_country_code\", \"city_region_tmp\", \"city_population_tmp\", \"city_latitude_tmp\", \"city_longitude_tmp\", \\\n",
    "             \"Country\", \"City\", \"AccentCity\", \"Region\", \"Population\", \"Latitude\", \"Longitude\", \"CityUpd\")\n",
    "\n",
    "# Some cities are not unique by \"City Name\" + \"Country\". Remove duplicates from the dataframe, use the first number of City ID\n",
    "w = Window.partitionBy(\"id\").orderBy(f.col(\"id\"))\n",
    "df = df.withColumn(\"row\", f.row_number().over(w)).filter(f.col(\"row\") == 1).drop(\"row\")"
   ]
  },
  {
   "cell_type": "code",
   "execution_count": 32,
   "id": "99542ec6",
   "metadata": {},
   "outputs": [
    {
     "data": {
      "text/plain": [
       "0"
      ]
     },
     "execution_count": 32,
     "metadata": {},
     "output_type": "execute_result"
    }
   ],
   "source": [
    "# Check null values\n",
    "df.where(\"death_city_name is not null and death_city_region is null\").count()"
   ]
  },
  {
   "cell_type": "markdown",
   "id": "6129741d",
   "metadata": {},
   "source": [
    "### Organization City"
   ]
  },
  {
   "cell_type": "markdown",
   "id": "0d68194d",
   "metadata": {},
   "source": [
    "Join the dataframe with mismatches df_tmp_mis_cities to the main dataframe"
   ]
  },
  {
   "cell_type": "code",
   "execution_count": 33,
   "id": "9f0f90ef",
   "metadata": {},
   "outputs": [],
   "source": [
    "join_expr = f.trim(df[\"organization_city_name\"]) == f.trim(df_tmp_mis_cities[\"mis_city_name\"])\n",
    "df = df.join(df_tmp_mis_cities, join_expr, \"left_outer\").drop(\"mis_city_name\")"
   ]
  },
  {
   "cell_type": "markdown",
   "id": "79bbba14",
   "metadata": {},
   "source": [
    "Join the dataframe Cities for mismatches by the columns in the dataframe df_tmp_mis_cities"
   ]
  },
  {
   "cell_type": "code",
   "execution_count": 34,
   "id": "8d6da799",
   "metadata": {},
   "outputs": [],
   "source": [
    "join_expr = (f.trim(df[\"orig_city_name\"]) == f.trim(df_cities_orig[\"AccentCity\"])) \\\n",
    "            & (f.trim(df[\"orig_region\"]) == f.trim(df_cities_orig[\"Region\"])) \\\n",
    "            & (f.trim(df[\"orig_country\"]) == f.trim(df_cities_orig[\"Country\"]))\n",
    "\n",
    "df = df.join(df_cities_orig, join_expr, \"left_outer\") \\\n",
    "       .withColumnRenamed(\"Region\", \"city_region_tmp\") \\\n",
    "       .withColumnRenamed(\"Population\", \"city_population_tmp\") \\\n",
    "       .withColumnRenamed(\"Latitude\", \"city_latitude_tmp\") \\\n",
    "       .withColumnRenamed(\"Longitude\", \"city_longitude_tmp\") \\\n",
    "       .drop(\"orig_city_name\", \"orig_country\", \"orig_region\", \"Country\", \"City\", \"AccentCity\", \"CityUpd\")"
   ]
  },
  {
   "cell_type": "markdown",
   "id": "ea6253ed",
   "metadata": {},
   "source": [
    "Join the dataframe Cities for matches by the columns CityUpd and Country"
   ]
  },
  {
   "cell_type": "code",
   "execution_count": 35,
   "id": "dd4c58d0",
   "metadata": {},
   "outputs": [],
   "source": [
    "join_expr = (f.trim(df[\"organization_city_name\"]) == f.trim(df_cities_orig[\"CityUpd\"])) \\\n",
    "            & (f.trim(df[\"organization_country_code\"]) == f.trim(df_cities_orig[\"Country\"]))\n",
    "\n",
    "# City columns: if a value from the df_tmp_mis_cities is not null, then take it, else take a value from the df_cities_orig\n",
    "df = df.join(df_cities_orig, join_expr, \"left_outer\") \\\n",
    "       .withColumn(\"organization_city_region\", \\\n",
    "            f.when(c.isNotNull(f.col(\"city_region_tmp\")), f.col(\"city_region_tmp\")) \\\n",
    "             .otherwise(f.col(\"Region\"))) \\\n",
    "       .withColumn(\"organization_city_population\", \\\n",
    "            f.when(c.isNotNull(f.col(\"city_population_tmp\")), f.col(\"city_population_tmp\")) \\\n",
    "             .otherwise(f.col(\"Population\"))) \\\n",
    "       .withColumn(\"organization_city_latitude\", \\\n",
    "            f.when(c.isNotNull(f.col(\"city_latitude_tmp\")), f.col(\"city_latitude_tmp\")) \\\n",
    "             .otherwise(f.col(\"Latitude\"))) \\\n",
    "       .withColumn(\"organization_city_longitude\", \\\n",
    "            f.when(c.isNotNull(f.col(\"city_longitude_tmp\")), f.col(\"city_longitude_tmp\")) \\\n",
    "             .otherwise(f.col(\"Longitude\"))) \\\n",
    "       .drop(\"organization_country_code\", \"city_region_tmp\", \"city_population_tmp\", \"city_latitude_tmp\", \"city_longitude_tmp\", \\\n",
    "             \"Country\", \"City\", \"AccentCity\", \"Region\", \"Population\", \"Latitude\", \"Longitude\", \"CityUpd\")\n",
    "\n",
    "# Some cities are not unique by \"City Name\" + \"Country\". Remove duplicates from the dataframe, use the first number of City ID\n",
    "w = Window.partitionBy(\"id\").orderBy(f.col(\"id\"))\n",
    "df = df.withColumn(\"row\", f.row_number().over(w)).filter(f.col(\"row\") == 1).drop(\"row\")"
   ]
  },
  {
   "cell_type": "code",
   "execution_count": 36,
   "id": "9babab54",
   "metadata": {},
   "outputs": [
    {
     "data": {
      "text/plain": [
       "0"
      ]
     },
     "execution_count": 36,
     "metadata": {},
     "output_type": "execute_result"
    }
   ],
   "source": [
    "# Check null values\n",
    "df.where(\"organization_city_name is not null and organization_city_region is null\").count()"
   ]
  },
  {
   "cell_type": "code",
   "execution_count": 37,
   "id": "17e0b3c7",
   "metadata": {},
   "outputs": [
    {
     "data": {
      "text/plain": [
       "969"
      ]
     },
     "execution_count": 37,
     "metadata": {},
     "output_type": "execute_result"
    }
   ],
   "source": [
    "# Check the count of records in the dataset\n",
    "df.count()"
   ]
  },
  {
   "cell_type": "markdown",
   "id": "142a527c",
   "metadata": {},
   "source": [
    "## Create Organization columns\n",
    "1 laureate can work in more than 1 organization. Review the max count of organizations, create a set of columns for this max count"
   ]
  },
  {
   "cell_type": "code",
   "execution_count": 38,
   "id": "8d87754c",
   "metadata": {},
   "outputs": [
    {
     "name": "stdout",
     "output_type": "stream",
     "text": [
      "+----------+\n",
      "|max(count)|\n",
      "+----------+\n",
      "|         3|\n",
      "+----------+\n",
      "\n"
     ]
    }
   ],
   "source": [
    "df.groupBy(\"laureate_id\").count().select(f.max(\"count\")).show()"
   ]
  },
  {
   "cell_type": "code",
   "execution_count": 39,
   "id": "90610936",
   "metadata": {},
   "outputs": [
    {
     "data": {
      "text/plain": [
       "904"
      ]
     },
     "execution_count": 39,
     "metadata": {},
     "output_type": "execute_result"
    }
   ],
   "source": [
    "# Count of unique laureates\n",
    "df.select(\"laureate_id\").distinct().count()"
   ]
  },
  {
   "cell_type": "markdown",
   "id": "1c81c7d9",
   "metadata": {},
   "source": [
    "In the final dataset, the laureate_id field must be unique so that the subsequent data analysis is more accurate (i.e., information about each laureate was included in the statistics 1 time, not 2 or 3). The dataset should have 904 records."
   ]
  },
  {
   "cell_type": "markdown",
   "id": "d6792b84",
   "metadata": {},
   "source": [
    "Max count of organizations for 1 laureate = 3. Add the row number of organization for every laureate."
   ]
  },
  {
   "cell_type": "code",
   "execution_count": 40,
   "id": "a9b9b3be",
   "metadata": {},
   "outputs": [],
   "source": [
    "w = Window.partitionBy(\"laureate_id\").orderBy(f.col(\"laureate_id\"))\n",
    "df = df.withColumn(\"row_org\", f.row_number().over(w))"
   ]
  },
  {
   "cell_type": "markdown",
   "id": "c5dcd07a",
   "metadata": {},
   "source": [
    "Create 3 sets of organization's columns."
   ]
  },
  {
   "cell_type": "code",
   "execution_count": 41,
   "id": "8f89bd65",
   "metadata": {},
   "outputs": [],
   "source": [
    "df = df.withColumn(\"organization_name1\", \\\n",
    "            f.when(f.col(\"row_org\") == 1, f.col(\"organization_name\")).otherwise(f.lit(None))) \\\n",
    "       .withColumn(\"organization_name2\", \\\n",
    "            f.when(f.col(\"row_org\") == 2, f.col(\"organization_name\")).otherwise(f.lit(None))) \\\n",
    "       .withColumn(\"organization_name3\", \\\n",
    "            f.when(f.col(\"row_org\") == 3, f.col(\"organization_name\")).otherwise(f.lit(None))) \\\n",
    "       .withColumn(\"organization_city_name1\", \\\n",
    "            f.when(f.col(\"row_org\") == 1, f.col(\"organization_city_name\")).otherwise(f.lit(None))) \\\n",
    "       .withColumn(\"organization_city_name2\", \\\n",
    "            f.when(f.col(\"row_org\") == 2, f.col(\"organization_city_name\")).otherwise(f.lit(None))) \\\n",
    "       .withColumn(\"organization_city_name3\", \\\n",
    "            f.when(f.col(\"row_org\") == 3, f.col(\"organization_city_name\")).otherwise(f.lit(None))) \\\n",
    "       .withColumn(\"organization_country_name1\", \\\n",
    "            f.when(f.col(\"row_org\") == 1, f.col(\"organization_country_name\")).otherwise(f.lit(None))) \\\n",
    "       .withColumn(\"organization_country_name2\", \\\n",
    "            f.when(f.col(\"row_org\") == 2, f.col(\"organization_country_name\")).otherwise(f.lit(None))) \\\n",
    "       .withColumn(\"organization_country_name3\", \\\n",
    "            f.when(f.col(\"row_org\") == 3, f.col(\"organization_country_name\")).otherwise(f.lit(None))) \\\n",
    "       .withColumn(\"organization_country_parent_name1\", \\\n",
    "            f.when(f.col(\"row_org\") == 1, f.col(\"organization_country_parent_name\")).otherwise(f.lit(None))) \\\n",
    "       .withColumn(\"organization_country_parent_name2\", \\\n",
    "            f.when(f.col(\"row_org\") == 2, f.col(\"organization_country_parent_name\")).otherwise(f.lit(None))) \\\n",
    "       .withColumn(\"organization_country_parent_name3\", \\\n",
    "            f.when(f.col(\"row_org\") == 3, f.col(\"organization_country_parent_name\")).otherwise(f.lit(None))) \\\n",
    "       .withColumn(\"organization_parent_name1\", \\\n",
    "            f.when(f.col(\"row_org\") == 1, f.col(\"organization_parent_name\")).otherwise(f.lit(None))) \\\n",
    "       .withColumn(\"organization_parent_name2\", \\\n",
    "            f.when(f.col(\"row_org\") == 2, f.col(\"organization_parent_name\")).otherwise(f.lit(None))) \\\n",
    "       .withColumn(\"organization_parent_name3\", \\\n",
    "            f.when(f.col(\"row_org\") == 3, f.col(\"organization_parent_name\")).otherwise(f.lit(None))) \\\n",
    "       .withColumn(\"organization_region_name1\", \\\n",
    "            f.when(f.col(\"row_org\") == 1, f.col(\"organization_region_name\")).otherwise(f.lit(None))) \\\n",
    "       .withColumn(\"organization_region_name2\", \\\n",
    "            f.when(f.col(\"row_org\") == 2, f.col(\"organization_region_name\")).otherwise(f.lit(None))) \\\n",
    "       .withColumn(\"organization_region_name3\", \\\n",
    "            f.when(f.col(\"row_org\") == 3, f.col(\"organization_region_name\")).otherwise(f.lit(None))) \\\n",
    "       .withColumn(\"organization_country_population1\", \\\n",
    "            f.when(f.col(\"row_org\") == 1, f.col(\"organization_country_population\")).otherwise(f.lit(None))) \\\n",
    "       .withColumn(\"organization_country_population2\", \\\n",
    "            f.when(f.col(\"row_org\") == 2, f.col(\"organization_country_population\")).otherwise(f.lit(None))) \\\n",
    "       .withColumn(\"organization_country_population3\", \\\n",
    "            f.when(f.col(\"row_org\") == 3, f.col(\"organization_country_population\")).otherwise(f.lit(None))) \\\n",
    "       .withColumn(\"organization_country_gdb1\", \\\n",
    "            f.when(f.col(\"row_org\") == 1, f.col(\"organization_country_gdb\")).otherwise(f.lit(None))) \\\n",
    "       .withColumn(\"organization_country_gdb2\", \\\n",
    "            f.when(f.col(\"row_org\") == 2, f.col(\"organization_country_gdb\")).otherwise(f.lit(None))) \\\n",
    "       .withColumn(\"organization_country_gdb3\", \\\n",
    "            f.when(f.col(\"row_org\") == 3, f.col(\"organization_country_gdb\")).otherwise(f.lit(None))) \\\n",
    "       .withColumn(\"organization_continent_name1\", \\\n",
    "            f.when(f.col(\"row_org\") == 1, f.col(\"organization_continent_name\")).otherwise(f.lit(None))) \\\n",
    "       .withColumn(\"organization_continent_name2\", \\\n",
    "            f.when(f.col(\"row_org\") == 2, f.col(\"organization_continent_name\")).otherwise(f.lit(None))) \\\n",
    "       .withColumn(\"organization_continent_name3\", \\\n",
    "            f.when(f.col(\"row_org\") == 3, f.col(\"organization_continent_name\")).otherwise(f.lit(None))) \\\n",
    "       .withColumn(\"organization_city_region1\", \\\n",
    "            f.when(f.col(\"row_org\") == 1, f.col(\"organization_city_region\")).otherwise(f.lit(None))) \\\n",
    "       .withColumn(\"organization_city_region2\", \\\n",
    "            f.when(f.col(\"row_org\") == 2, f.col(\"organization_city_region\")).otherwise(f.lit(None))) \\\n",
    "       .withColumn(\"organization_city_region3\", \\\n",
    "            f.when(f.col(\"row_org\") == 3, f.col(\"organization_city_region\")).otherwise(f.lit(None))) \\\n",
    "       .withColumn(\"organization_city_population1\", \\\n",
    "            f.when(f.col(\"row_org\") == 1, f.col(\"organization_city_population\")).otherwise(f.lit(None))) \\\n",
    "       .withColumn(\"organization_city_population2\", \\\n",
    "            f.when(f.col(\"row_org\") == 2, f.col(\"organization_city_population\")).otherwise(f.lit(None))) \\\n",
    "       .withColumn(\"organization_city_population3\", \\\n",
    "            f.when(f.col(\"row_org\") == 3, f.col(\"organization_city_population\")).otherwise(f.lit(None))) \\\n",
    "       .withColumn(\"organization_city_latitude1\", \\\n",
    "            f.when(f.col(\"row_org\") == 1, f.col(\"organization_city_latitude\")).otherwise(f.lit(None))) \\\n",
    "       .withColumn(\"organization_city_latitude2\", \\\n",
    "            f.when(f.col(\"row_org\") == 2, f.col(\"organization_city_latitude\")).otherwise(f.lit(None))) \\\n",
    "       .withColumn(\"organization_city_latitude3\", \\\n",
    "            f.when(f.col(\"row_org\") == 3, f.col(\"organization_city_latitude\")).otherwise(f.lit(None))) \\\n",
    "       .withColumn(\"organization_city_longitude1\", \\\n",
    "            f.when(f.col(\"row_org\") == 1, f.col(\"organization_city_longitude\")).otherwise(f.lit(None))) \\\n",
    "       .withColumn(\"organization_city_longitude2\", \\\n",
    "            f.when(f.col(\"row_org\") == 2, f.col(\"organization_city_longitude\")).otherwise(f.lit(None))) \\\n",
    "       .withColumn(\"organization_city_longitude3\", \\\n",
    "            f.when(f.col(\"row_org\") == 3, f.col(\"organization_city_longitude\")).otherwise(f.lit(None))) \\\n",
    "       .drop(\"organization_name\", \"organization_city_name\", \"organization_country_name\", \"organization_country_parent_name\", \\\n",
    "             \"organization_parent_name\", \"organization_region_name\", \"organization_country_population\", \\\n",
    "             \"organization_country_gdb\", \"organization_continent_name\", \"organization_city_region\", \\\n",
    "             \"organization_city_population\", \"organization_city_latitude\", \"organization_city_longitude\", \"id\", \"row_org\")      "
   ]
  },
  {
   "cell_type": "markdown",
   "id": "21593beb",
   "metadata": {},
   "source": [
    "Group values by laureate_id. If organization 1 column is not null, take values of 1 set of organization columns. If organization 2 column is not null, take values of 2 set of organization columns. Else take values of 3 set of organization columns."
   ]
  },
  {
   "cell_type": "code",
   "execution_count": 42,
   "id": "c024b479",
   "metadata": {},
   "outputs": [],
   "source": [
    "df = df.groupBy(\"laureate_id\").agg(\n",
    "    f.min('year').alias('year'), \\\n",
    "    f.min('category').alias('category'), \\\n",
    "    f.min('prize').alias('prize'), \\\n",
    "    f.min('prize_share').alias('prize_share'), \\\n",
    "    f.min('laureate_type').alias('laureate_type'), \\\n",
    "    f.min('motivation').alias('motivation'), \\\n",
    "    f.min('laureate_person_name').alias('laureate_person_name'), \\\n",
    "    f.min('gender').alias('gender'), \\\n",
    "    f.min('society_name').alias('society_name'), \\\n",
    "    f.min('birth_date').alias('birth_date'), \\\n",
    "    f.min('birth_city_name').alias('birth_city_name'), \\\n",
    "    f.min('birth_city_region').alias('birth_city_region'), \\\n",
    "    f.min('birth_city_population').alias('birth_city_population'), \\\n",
    "    f.min('birth_city_latitude').alias('birth_city_latitude'), \\\n",
    "    f.min('birth_city_longitude').alias('birth_city_longitude'), \\\n",
    "    f.min('birth_country_name').alias('birth_country_name'), \\\n",
    "    f.min('birth_country_parent_name').alias('birth_country_parent_name'), \\\n",
    "    f.min('birth_region_name').alias('birth_region_name'), \\\n",
    "    f.min('birth_continent_name').alias('birth_continent_name'), \\\n",
    "    f.min('birth_country_population').alias('birth_country_population'), \\\n",
    "    f.min('birth_country_area_sq_miles').alias('birth_country_area_sq_miles'), \\\n",
    "    f.min('birth_country_pop_dencity_per_sq_mile').alias('birth_country_pop_dencity_per_sq_mile'), \\\n",
    "    f.min('birth_country_coastline').alias('birth_country_coastline'), \\\n",
    "    f.min('birth_country_net_migration').alias('birth_country_net_migration'), \\\n",
    "    f.min('birth_country_infant_mortality_per_1000').alias('birth_country_infant_mortality_per_1000'), \\\n",
    "    f.min('birth_country_gdb').alias('birth_country_gdb'), \\\n",
    "    f.min('birth_country_percent_literacy').alias('birth_country_percent_literacy'), \\\n",
    "    f.min('birth_country_phones_per_1000').alias('birth_country_phones_per_1000'), \\\n",
    "    f.min('birth_country_percent_arable').alias('birth_country_percent_arable'), \\\n",
    "    f.min('birth_country_percent_crops').alias('birth_country_percent_crops'), \\\n",
    "    f.min('birth_country_percent_other').alias('birth_country_percent_other'), \\\n",
    "    f.min('birth_country_climate').alias('birth_country_climate'), \\\n",
    "    f.min('birth_country_birthrate').alias('birth_country_birthrate'), \\\n",
    "    f.min('birth_country_deathrate').alias('birth_country_deathrate'), \\\n",
    "    f.min('birth_country_agriculture').alias('birth_country_agriculture'), \\\n",
    "    f.min('birth_country_industry').alias('birth_country_industry'), \\\n",
    "    f.min('birth_country_service').alias('birth_country_service'), \\\n",
    "    f.min('death_date').alias('death_date'), \\\n",
    "    f.min('death_city_name').alias('death_city_name'), \\\n",
    "    f.min('death_city_region').alias('death_city_region'), \\\n",
    "    f.min('death_city_population').alias('death_city_population'), \\\n",
    "    f.min('death_city_latitude').alias('death_city_latitude'), \\\n",
    "    f.min('death_city_longitude').alias('death_city_longitude'), \\\n",
    "    f.min('death_country_name').alias('death_country_name'), \\\n",
    "    f.min('death_country_parent_name').alias('death_country_parent_name'), \\\n",
    "    f.min('death_region_name').alias('death_region_name'), \\\n",
    "    f.min('death_continent_name').alias('death_continent_name'), \\\n",
    "    f.min('death_country_population').alias('death_country_population'), \\\n",
    "    f.min('death_country_gdb').alias('death_country_gdb'), \\\n",
    "    f.min('death_country_coastline').alias('death_country_coastline'), \\\n",
    "    f.min('death_country_climate').alias('death_country_climate'), \\\n",
    "    f.min('organization_name1').alias('organization_name1'), \\\n",
    "    f.min('organization_parent_name1').alias('organization_parent_name1'), \\\n",
    "    f.min('organization_city_name1').alias('organization_city_name1'), \\\n",
    "    f.min('organization_city_region1').alias('organization_city_region1'), \\\n",
    "    f.min('organization_city_population1').alias('organization_city_population1'), \\\n",
    "    f.min('organization_city_latitude1').alias('organization_city_latitude1'), \\\n",
    "    f.min('organization_city_longitude1').alias('organization_city_longitude1'), \\\n",
    "    f.min('organization_country_name1').alias('organization_country_name1'), \\\n",
    "    f.min('organization_country_parent_name1').alias('organization_country_parent_name1'), \\\n",
    "    f.min('organization_region_name1').alias('organization_region_name1'), \\\n",
    "    f.min('organization_continent_name1').alias('organization_continent_name1'), \\\n",
    "    f.min('organization_country_population1').alias('organization_country_population1'), \\\n",
    "    f.min('organization_country_gdb1').alias('organization_country_gdb1'), \\\n",
    "    f.min('organization_name2').alias('organization_name2'), \\\n",
    "    f.min('organization_parent_name2').alias('organization_parent_name2'), \\\n",
    "    f.min('organization_city_name2').alias('organization_city_name2'), \\\n",
    "    f.min('organization_city_region2').alias('organization_city_region2'), \\\n",
    "    f.min('organization_city_population2').alias('organization_city_population2'), \\\n",
    "    f.min('organization_city_latitude2').alias('organization_city_latitude2'), \\\n",
    "    f.min('organization_city_longitude2').alias('organization_city_longitude2'), \\\n",
    "    f.min('organization_country_name2').alias('organization_country_name2'), \\\n",
    "    f.min('organization_country_parent_name2').alias('organization_country_parent_name2'), \\\n",
    "    f.min('organization_region_name2').alias('organization_region_name2'), \\\n",
    "    f.min('organization_continent_name2').alias('organization_continent_name2'), \\\n",
    "    f.min('organization_country_population2').alias('organization_country_population2'), \\\n",
    "    f.min('organization_country_gdb2').alias('organization_country_gdb2'), \\\n",
    "    f.min('organization_name3').alias('organization_name3'), \\\n",
    "    f.min('organization_parent_name3').alias('organization_parent_name3'), \\\n",
    "    f.min('organization_city_name3').alias('organization_city_name3'), \\\n",
    "    f.min('organization_city_region3').alias('organization_city_region3'), \\\n",
    "    f.min('organization_city_population3').alias('organization_city_population3'), \\\n",
    "    f.min('organization_city_latitude3').alias('organization_city_latitude3'), \\\n",
    "    f.min('organization_city_longitude3').alias('organization_city_longitude3'), \\\n",
    "    f.min('organization_country_name3').alias('organization_country_name3'), \\\n",
    "    f.min('organization_country_parent_name3').alias('organization_country_parent_name3'), \\\n",
    "    f.min('organization_region_name3').alias('organization_region_name3'), \\\n",
    "    f.min('organization_continent_name3').alias('organization_continent_name3'), \\\n",
    "    f.min('organization_country_population3').alias('organization_country_population3'), \\\n",
    "    f.min('organization_country_gdb3').alias('organization_country_gdb3'))"
   ]
  },
  {
   "cell_type": "code",
   "execution_count": 43,
   "id": "dda3bab9",
   "metadata": {},
   "outputs": [
    {
     "name": "stdout",
     "output_type": "stream",
     "text": [
      "+-----------+--------------------+--------------------+--------------------+\n",
      "|laureate_id|  organization_name1|  organization_name2|  organization_name3|\n",
      "+-----------+--------------------+--------------------+--------------------+\n",
      "|        837|Harvard Medical S...|Massachusetts Gen...|Howard Hughes Med...|\n",
      "+-----------+--------------------+--------------------+--------------------+\n",
      "\n"
     ]
    }
   ],
   "source": [
    "# Check Organization columns for a laureate with 3 organizations\n",
    "df.where(\"laureate_id = 837\").select(\"laureate_id\", \"organization_name1\", \"organization_name2\", \"organization_name3\").show()"
   ]
  },
  {
   "cell_type": "code",
   "execution_count": 44,
   "id": "6a5221f1",
   "metadata": {},
   "outputs": [
    {
     "data": {
      "text/plain": [
       "904"
      ]
     },
     "execution_count": 44,
     "metadata": {},
     "output_type": "execute_result"
    }
   ],
   "source": [
    "# Check the count of records in the dataset\n",
    "df.count()"
   ]
  },
  {
   "cell_type": "markdown",
   "id": "b8c2eb57",
   "metadata": {},
   "source": [
    "Dataset is ready."
   ]
  },
  {
   "cell_type": "markdown",
   "id": "3928d500",
   "metadata": {},
   "source": [
    "# Check the dataset"
   ]
  },
  {
   "cell_type": "code",
   "execution_count": 45,
   "id": "4f25039b",
   "metadata": {},
   "outputs": [
    {
     "name": "stdout",
     "output_type": "stream",
     "text": [
      "root\n",
      " |-- laureate_id: integer (nullable = true)\n",
      " |-- year: integer (nullable = true)\n",
      " |-- category: string (nullable = true)\n",
      " |-- prize: string (nullable = true)\n",
      " |-- prize_share: string (nullable = true)\n",
      " |-- laureate_type: string (nullable = true)\n",
      " |-- motivation: string (nullable = true)\n",
      " |-- laureate_person_name: string (nullable = true)\n",
      " |-- gender: string (nullable = true)\n",
      " |-- society_name: string (nullable = true)\n",
      " |-- birth_date: string (nullable = true)\n",
      " |-- birth_city_name: string (nullable = true)\n",
      " |-- birth_city_region: string (nullable = true)\n",
      " |-- birth_city_population: double (nullable = true)\n",
      " |-- birth_city_latitude: double (nullable = true)\n",
      " |-- birth_city_longitude: double (nullable = true)\n",
      " |-- birth_country_name: string (nullable = true)\n",
      " |-- birth_country_parent_name: string (nullable = true)\n",
      " |-- birth_region_name: string (nullable = true)\n",
      " |-- birth_continent_name: string (nullable = true)\n",
      " |-- birth_country_population: integer (nullable = true)\n",
      " |-- birth_country_area_sq_miles: integer (nullable = true)\n",
      " |-- birth_country_pop_dencity_per_sq_mile: string (nullable = true)\n",
      " |-- birth_country_coastline: string (nullable = true)\n",
      " |-- birth_country_net_migration: string (nullable = true)\n",
      " |-- birth_country_infant_mortality_per_1000: string (nullable = true)\n",
      " |-- birth_country_gdb: integer (nullable = true)\n",
      " |-- birth_country_percent_literacy: string (nullable = true)\n",
      " |-- birth_country_phones_per_1000: string (nullable = true)\n",
      " |-- birth_country_percent_arable: string (nullable = true)\n",
      " |-- birth_country_percent_crops: string (nullable = true)\n",
      " |-- birth_country_percent_other: string (nullable = true)\n",
      " |-- birth_country_climate: string (nullable = true)\n",
      " |-- birth_country_birthrate: string (nullable = true)\n",
      " |-- birth_country_deathrate: string (nullable = true)\n",
      " |-- birth_country_agriculture: string (nullable = true)\n",
      " |-- birth_country_industry: string (nullable = true)\n",
      " |-- birth_country_service: string (nullable = true)\n",
      " |-- death_date: string (nullable = true)\n",
      " |-- death_city_name: string (nullable = true)\n",
      " |-- death_city_region: string (nullable = true)\n",
      " |-- death_city_population: double (nullable = true)\n",
      " |-- death_city_latitude: double (nullable = true)\n",
      " |-- death_city_longitude: double (nullable = true)\n",
      " |-- death_country_name: string (nullable = true)\n",
      " |-- death_country_parent_name: string (nullable = true)\n",
      " |-- death_region_name: string (nullable = true)\n",
      " |-- death_continent_name: string (nullable = true)\n",
      " |-- death_country_population: integer (nullable = true)\n",
      " |-- death_country_gdb: integer (nullable = true)\n",
      " |-- death_country_coastline: string (nullable = true)\n",
      " |-- death_country_climate: string (nullable = true)\n",
      " |-- organization_name1: string (nullable = true)\n",
      " |-- organization_parent_name1: string (nullable = true)\n",
      " |-- organization_city_name1: string (nullable = true)\n",
      " |-- organization_city_region1: string (nullable = true)\n",
      " |-- organization_city_population1: double (nullable = true)\n",
      " |-- organization_city_latitude1: double (nullable = true)\n",
      " |-- organization_city_longitude1: double (nullable = true)\n",
      " |-- organization_country_name1: string (nullable = true)\n",
      " |-- organization_country_parent_name1: string (nullable = true)\n",
      " |-- organization_region_name1: string (nullable = true)\n",
      " |-- organization_continent_name1: string (nullable = true)\n",
      " |-- organization_country_population1: integer (nullable = true)\n",
      " |-- organization_country_gdb1: integer (nullable = true)\n",
      " |-- organization_name2: string (nullable = true)\n",
      " |-- organization_parent_name2: string (nullable = true)\n",
      " |-- organization_city_name2: string (nullable = true)\n",
      " |-- organization_city_region2: string (nullable = true)\n",
      " |-- organization_city_population2: double (nullable = true)\n",
      " |-- organization_city_latitude2: double (nullable = true)\n",
      " |-- organization_city_longitude2: double (nullable = true)\n",
      " |-- organization_country_name2: string (nullable = true)\n",
      " |-- organization_country_parent_name2: string (nullable = true)\n",
      " |-- organization_region_name2: string (nullable = true)\n",
      " |-- organization_continent_name2: string (nullable = true)\n",
      " |-- organization_country_population2: integer (nullable = true)\n",
      " |-- organization_country_gdb2: integer (nullable = true)\n",
      " |-- organization_name3: string (nullable = true)\n",
      " |-- organization_parent_name3: string (nullable = true)\n",
      " |-- organization_city_name3: string (nullable = true)\n",
      " |-- organization_city_region3: string (nullable = true)\n",
      " |-- organization_city_population3: double (nullable = true)\n",
      " |-- organization_city_latitude3: double (nullable = true)\n",
      " |-- organization_city_longitude3: double (nullable = true)\n",
      " |-- organization_country_name3: string (nullable = true)\n",
      " |-- organization_country_parent_name3: string (nullable = true)\n",
      " |-- organization_region_name3: string (nullable = true)\n",
      " |-- organization_continent_name3: string (nullable = true)\n",
      " |-- organization_country_population3: integer (nullable = true)\n",
      " |-- organization_country_gdb3: integer (nullable = true)\n",
      "\n"
     ]
    }
   ],
   "source": [
    "# Structure\n",
    "df.printSchema()"
   ]
  },
  {
   "cell_type": "code",
   "execution_count": 46,
   "id": "9a9c3086",
   "metadata": {},
   "outputs": [
    {
     "name": "stdout",
     "output_type": "stream",
     "text": [
      "+-----------+----+---------+--------------------+-------------+--------------------+\n",
      "|laureate_id|year| category|               prize|laureate_type|          motivation|\n",
      "+-----------+----+---------+--------------------+-------------+--------------------+\n",
      "|        112|1978|  Physics|The Nobel Prize i...|   Individual|for their discove...|\n",
      "|        688|1976|Economics|The Sveriges Riks...|   Individual|for his achieveme...|\n",
      "|        758|2002|Chemistry|The Nobel Prize i...|   Individual|for his developme...|\n",
      "|        896|2013|Economics|The Sveriges Riks...|   Individual|for their empiric...|\n",
      "|        919|2015|  Physics|The Nobel Prize i...|   Individual|for the discovery...|\n",
      "+-----------+----+---------+--------------------+-------------+--------------------+\n",
      "\n"
     ]
    }
   ],
   "source": [
    "df.select(\"laureate_id\", \"year\", \"category\", \"prize\", \"laureate_type\", \"motivation\").sample(0.005).show()"
   ]
  },
  {
   "cell_type": "code",
   "execution_count": 47,
   "id": "4dbd9a56",
   "metadata": {},
   "outputs": [
    {
     "name": "stdout",
     "output_type": "stream",
     "text": [
      "+-----------+-------------+--------------------+------+------------+\n",
      "|laureate_id|laureate_type|laureate_person_name|gender|society_name|\n",
      "+-----------+-------------+--------------------+------+------------+\n",
      "|        120|   Individual|     Kai M. Siegbahn|  Male|        null|\n",
      "|        203|   Individual|Artturi Ilmari Vi...|  Male|        null|\n",
      "|        271|   Individual|        Robert Huber|  Male|        null|\n",
      "|        456|   Individual| Rolf M. Zinkernagel|  Male|        null|\n",
      "|        538|   Individual|Mohamed Anwar al-...|  Male|        null|\n",
      "|        562|   Individual|Carlos Filipe Xim...|  Male|        null|\n",
      "|        811|   Individual|   Mario R. Capecchi|  Male|        null|\n",
      "+-----------+-------------+--------------------+------+------------+\n",
      "\n"
     ]
    }
   ],
   "source": [
    "df.select(\"laureate_id\", \"laureate_type\", \"laureate_person_name\", \"gender\", \"society_name\").sample(0.005).show()"
   ]
  },
  {
   "cell_type": "code",
   "execution_count": 48,
   "id": "ce1c483b",
   "metadata": {},
   "outputs": [
    {
     "name": "stdout",
     "output_type": "stream",
     "text": [
      "+-----------+----------+----------------+-----------------+---------------------+-------------------+--------------------+\n",
      "|laureate_id|birth_date| birth_city_name|birth_city_region|birth_city_population|birth_city_latitude|birth_city_longitude|\n",
      "+-----------+----------+----------------+-----------------+---------------------+-------------------+--------------------+\n",
      "|         14|1850-06-06|           Fulda|               05|              63851.0|              50.55|            9.666667|\n",
      "|        105|1931-03-22|    Brooklyn, NY|               NY|                 null|              40.65|              -73.95|\n",
      "|        160|1852-08-30|       Rotterdam|               11|             603851.0|          51.916667|                 4.5|\n",
      "|        179|1877-09-02|      Eastbourne|               E2|             112906.0|               50.8|                0.25|\n",
      "|        237|1918-09-08|       Gravesend|               G5|              54264.0| 51.433333000000005|            0.366667|\n",
      "|        352|1899-01-30|        Pretoria|               05|                 null|-30.783403000000003|           28.594688|\n",
      "|        546|1931-10-07|      Klerksdorp|               10|             178928.0|-26.852128000000004|           26.666719|\n",
      "|        635|1900-03-13|  Smyrna (Izmir)|               35|                 null|          38.412726|           27.138376|\n",
      "|        684|1898-12-06|     Skattungbyn|               10|                 null|               61.2|  14.866667000000001|\n",
      "|        703|1911-12-13|         Skedsmo|               01|                 null| 60.016667000000005|           11.041667|\n",
      "|        835|1948-11-26|Hobart, Tasmania|               06|             204863.0|         -42.883209|          147.331665|\n",
      "+-----------+----------+----------------+-----------------+---------------------+-------------------+--------------------+\n",
      "\n"
     ]
    }
   ],
   "source": [
    "df.where(\"laureate_type = 'Individual' and birth_date is not null\") \\\n",
    "  .select(\"laureate_id\", \"birth_date\", \"birth_city_name\", \"birth_city_region\", \"birth_city_population\", \\\n",
    "          \"birth_city_latitude\", \"birth_city_longitude\") \\\n",
    "  .sample(0.01).show()"
   ]
  },
  {
   "cell_type": "code",
   "execution_count": 49,
   "id": "277261b1",
   "metadata": {},
   "outputs": [
    {
     "name": "stdout",
     "output_type": "stream",
     "text": [
      "+-----------+--------------------+-------------------------+--------------------+--------------------+\n",
      "|laureate_id|  birth_country_name|birth_country_parent_name|   birth_region_name|birth_continent_name|\n",
      "+-----------+--------------------+-------------------------+--------------------+--------------------+\n",
      "|        214|      United Kingdom|           United Kingdom|WESTERN EUROPE   ...|              EUROPE|\n",
      "|        227|      United Kingdom|           United Kingdom|WESTERN EUROPE   ...|              EUROPE|\n",
      "|        265|              Taiwan|                   Taiwan|ASIA (EX. NEAR EA...|                ASIA|\n",
      "|        295|Faroe Islands (De...|                  Denmark|WESTERN EUROPE   ...|              EUROPE|\n",
      "|        296|              Russia|                   Russia|C.W. OF IND. STATES |              EUROPE|\n",
      "|        421|United States of ...|     United States of ...|NORTHERN AMERICA ...|       NORTH AMERICA|\n",
      "|        427|      United Kingdom|           United Kingdom|WESTERN EUROPE   ...|              EUROPE|\n",
      "|        455|           Australia|                Australia|OCEANIA          ...|   AUSTRALIA/OCEANIA|\n",
      "|        541|           Argentina|                Argentina|LATIN AMER. & CAR...|       SOUTH AMERICA|\n",
      "|        799|             Germany|                  Germany|WESTERN EUROPE   ...|              EUROPE|\n",
      "+-----------+--------------------+-------------------------+--------------------+--------------------+\n",
      "\n"
     ]
    }
   ],
   "source": [
    "df.where(\"laureate_type = 'Individual' and birth_country_name is not null\") \\\n",
    "  .select(\"laureate_id\", \"birth_country_name\", \"birth_country_parent_name\", \"birth_region_name\", \"birth_continent_name\") \\\n",
    "  .sample(0.01).show()"
   ]
  },
  {
   "cell_type": "code",
   "execution_count": 50,
   "id": "c9a30015",
   "metadata": {},
   "outputs": [
    {
     "name": "stdout",
     "output_type": "stream",
     "text": [
      "+-----------+----------+-------------------+-----------------+---------------------+-------------------+--------------------+\n",
      "|laureate_id|death_date|    death_city_name|death_city_region|death_city_population|death_city_latitude|death_city_longitude|\n",
      "+-----------+----------+-------------------+-----------------+---------------------+-------------------+--------------------+\n",
      "|         44|1958-02-01|Charlottesville, VA|               VA|              34703.0| 38.029166700000005|  -78.47694440000001|\n",
      "|        218|1978-12-11|   White Plains, NY|               NY|              57260.0| 41.033888899999994|         -73.7633333|\n",
      "|        244|2007-07-23|             Munich|               02|            1246133.0|              48.15|             11.5833|\n",
      "|        363|1992-04-08|               Rome|               07|            2643736.0|               41.9|           12.483333|\n",
      "|        405|2008-10-07|        Del Mar, CA|               CA|                 null| 32.959444399999995| -117.26444440000002|\n",
      "|        524|1968-04-04|        Memphis, TN|               TN|             641608.0|  35.14944439999999|  -90.04888890000001|\n",
      "+-----------+----------+-------------------+-----------------+---------------------+-------------------+--------------------+\n",
      "\n"
     ]
    }
   ],
   "source": [
    "df.where(\"laureate_type = 'Individual' and death_date is not null\") \\\n",
    "  .select(\"laureate_id\", \"death_date\", \"death_city_name\", \"death_city_region\", \"death_city_population\", \\\n",
    "          \"death_city_latitude\", \"death_city_longitude\") \\\n",
    "  .sample(0.01).show()"
   ]
  },
  {
   "cell_type": "code",
   "execution_count": 51,
   "id": "f455c2d2",
   "metadata": {},
   "outputs": [
    {
     "name": "stdout",
     "output_type": "stream",
     "text": [
      "+-----------+--------------------+-------------------------+--------------------+--------------------+\n",
      "|laureate_id|  death_country_name|death_country_parent_name|   death_region_name|death_continent_name|\n",
      "+-----------+--------------------+-------------------------+--------------------+--------------------+\n",
      "|          1|             Germany|                  Germany|WESTERN EUROPE   ...|              EUROPE|\n",
      "|         41|      United Kingdom|           United Kingdom|WESTERN EUROPE   ...|              EUROPE|\n",
      "|        137|             Germany|                  Germany|WESTERN EUROPE   ...|              EUROPE|\n",
      "|        201|West Germany (Ger...|                  Germany|WESTERN EUROPE   ...|              EUROPE|\n",
      "|        208|              Sweden|                   Sweden|WESTERN EUROPE   ...|              EUROPE|\n",
      "|        442|United States of ...|     United States of ...|NORTHERN AMERICA ...|       NORTH AMERICA|\n",
      "|        519|        South Africa|             South Africa|SUB-SAHARAN AFRIC...|              AFRICA|\n",
      "|        635|              Greece|                   Greece|WESTERN EUROPE   ...|              EUROPE|\n",
      "|        677|              Norway|                   Norway|WESTERN EUROPE   ...|              EUROPE|\n",
      "+-----------+--------------------+-------------------------+--------------------+--------------------+\n",
      "\n"
     ]
    }
   ],
   "source": [
    "df.where(\"laureate_type = 'Individual' and death_country_name is not null\") \\\n",
    "  .select(\"laureate_id\", \"death_country_name\", \"death_country_parent_name\", \"death_region_name\", \"death_continent_name\") \\\n",
    "  .sample(0.01).show()"
   ]
  },
  {
   "cell_type": "code",
   "execution_count": 52,
   "id": "f6b73eb2",
   "metadata": {},
   "outputs": [
    {
     "name": "stdout",
     "output_type": "stream",
     "text": [
      "+-----------+--------------------+-------------------------+--------------------+--------------------+-----------------------------+------------------+----------------------------+\n",
      "|laureate_id|  organization_name1|organization_region_name1|  organization_name2|  organization_name2|organization_city_population2|organization_name3|organization_continent_name3|\n",
      "+-----------+--------------------+-------------------------+--------------------+--------------------+-----------------------------+------------------+----------------------------+\n",
      "|        189|University of Hei...|     WESTERN EUROPE   ...|I.G. Farbenindust...|I.G. Farbenindust...|                     144703.0|              null|                        null|\n",
      "|        216|University of Fre...|     WESTERN EUROPE   ...|Staatliches Insti...|Staatliches Insti...|                         null|              null|                        null|\n",
      "|        789|NHMRC Helicobacte...|     OCEANIA          ...|University of Wes...|University of Wes...|                         null|              null|                        null|\n",
      "|        842|     Yale University|     NORTHERN AMERICA ...|Howard Hughes Med...|Howard Hughes Med...|                     204734.0|              null|                        null|\n",
      "|        846|  Indiana University|     NORTHERN AMERICA ...|Arizona State Uni...|Arizona State Uni...|                     158368.0|              null|                        null|\n",
      "|        857|Northwestern Univ...|     NORTHERN AMERICA ...|   Aarhus University|   Aarhus University|                         null|              null|                        null|\n",
      "|        882|  Harvard University|     NORTHERN AMERICA ...|Harvard Business ...|Harvard Business ...|                     571281.0|              null|                        null|\n",
      "|        886| Stanford University|     NORTHERN AMERICA ...|Howard Hughes Med...|Howard Hughes Med...|                     204734.0|              null|                        null|\n",
      "|        906|    Meijo University|     ASIA (EX. NEAR EA...|   Nagoya University|   Nagoya University|                    2191291.0|              null|                        null|\n",
      "+-----------+--------------------+-------------------------+--------------------+--------------------+-----------------------------+------------------+----------------------------+\n",
      "\n"
     ]
    }
   ],
   "source": [
    "df.where(\"laureate_type = 'Individual' and organization_name2 is not null\") \\\n",
    "  .select(\"laureate_id\", \"organization_name1\", \"organization_region_name1\", \"organization_name2\", \\\n",
    "          \"organization_name2\", \"organization_city_population2\", \"organization_name3\", \"organization_continent_name3\") \\\n",
    "  .sample(0.15).show()"
   ]
  },
  {
   "cell_type": "code",
   "execution_count": null,
   "id": "d6b22dd0",
   "metadata": {},
   "outputs": [],
   "source": [
    "# Save to Hive\n",
    "# df.write.format(\"parquet\").mode(\"overwrite\").saveAsTable(\"whdb.dataset\")"
   ]
  },
  {
   "cell_type": "code",
   "execution_count": 53,
   "id": "d3dd0726",
   "metadata": {},
   "outputs": [],
   "source": [
    "sp.stop()"
   ]
  }
 ],
 "metadata": {
  "kernelspec": {
   "display_name": "Python 3 (ipykernel)",
   "language": "python",
   "name": "python3"
  },
  "language_info": {
   "codemirror_mode": {
    "name": "ipython",
    "version": 3
   },
   "file_extension": ".py",
   "mimetype": "text/x-python",
   "name": "python",
   "nbconvert_exporter": "python",
   "pygments_lexer": "ipython3",
   "version": "3.9.7"
  }
 },
 "nbformat": 4,
 "nbformat_minor": 5
}
